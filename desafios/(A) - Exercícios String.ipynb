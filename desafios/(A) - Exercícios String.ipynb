{
 "cells": [
  {
   "cell_type": "markdown",
   "metadata": {
    "id": "qR4XYPOucXUC"
   },
   "source": [
    "# Exercícios\n",
    "\n",
    "## 1. Cadastro de CPF\n",
    "\n",
    "Crie um programa para cadastro de CPF de clientes que recebe o CPF em um input box apenas com números.\n",
    "\n",
    "Ex: 'Insira seu CPF (digite apenas números)'\n",
    "\n",
    "Caso o usuário digite algo diferente de números ou digite menos de 11 caracteres (tamanho do CPF brasileiro), o programa deve exibir uma mensagem de \"Digite seu CPF corretamente e digite apenas números\""
   ]
  },
  {
   "cell_type": "code",
   "execution_count": 14,
   "metadata": {
    "id": "GrMXqiGJcXUE"
   },
   "outputs": [
    {
     "name": "stdin",
     "output_type": "stream",
     "text": [
      "Insira seu CPF (digite apenas números): 456g45646\n"
     ]
    },
    {
     "name": "stdout",
     "output_type": "stream",
     "text": [
      "Digite o seu CPF corretamente e digite apenas números.\n"
     ]
    }
   ],
   "source": [
    "cpf = input(\"Insira seu CPF (digite apenas números):\")\n",
    "\n",
    "if(cpf.isnumeric() and len(cpf) == 11):\n",
    "    print(f\"CPF: {cpf} Aceito.\")\n",
    "else:\n",
    "    print(\"Digite o seu CPF corretamente e digite apenas números.\")"
   ]
  },
  {
   "cell_type": "markdown",
   "metadata": {
    "id": "N8qzOPxFcXUE"
   },
   "source": [
    "## 2. Melhorando nosso Cadastro de CPF\n",
    "\n",
    "Agora, além das validações anteriores, vamos criar um input que permita que o usuário insira pontos, traços e inclusive espaços vazios.\n",
    "\n",
    "Nosso programa deve \"tratar\" o que o usuário inserir para padronizar o CPF dele em apenas números.\n",
    "\n",
    "A verificação de tamanho do CPF com 11 caracteres continua válida, mas ela só deve ser feita depois de retirar todos os pontos, traços e espaços do CPF que o cliente inserir e, uma vez retirados pontos, traços e espaços, devem sobrar apenas números no CPF. Qualquer outro caractere deve ser considerado inválido.\n",
    "\n",
    "No final, nosso programa deve exibir uma mensagem para o usuário, caso ele tenha inserido o CPF inválido ou então apenas deve printar o CPF correto já só com número."
   ]
  },
  {
   "cell_type": "code",
   "execution_count": 29,
   "metadata": {
    "id": "YszGWbnZcXUE"
   },
   "outputs": [
    {
     "name": "stdin",
     "output_type": "stream",
     "text": [
      "Insira seu CPF (digite apenas números): 456.456.456-45\n"
     ]
    },
    {
     "name": "stdout",
     "output_type": "stream",
     "text": [
      "CPF 45645645645: Aceito.\n"
     ]
    }
   ],
   "source": [
    "cpf = input(\"Insira seu CPF (digite apenas números):\")\n",
    "\n",
    "if(cpf.isalnum):\n",
    "    cpf = cpf.strip().replace(\".\",\"\").replace(\"-\",\"\") # encadeamento de métodos\n",
    "else:\n",
    "    print(\"Caracteres errados\")\n",
    "\n",
    "if(len(cpf) == 11):\n",
    "        print(f\"CPF {cpf}: Aceito.\")\n",
    "else:\n",
    "        print(\"Digite o seu CPF corretamente.\")"
   ]
  },
  {
   "cell_type": "markdown",
   "metadata": {
    "id": "fQBFL2zgcXUF"
   },
   "source": [
    "## 3. Cadastro de e-mails\n",
    "\n",
    "- O SENAI sempre se comunica com seus clientes por e-mail. Para isso, a gente tem em cada página um cadastro de nome e e-mail. Nesse cadastro, nosso sistema verifica se o e-mail que a pessoa inseriu é um e-mail válido, verificando se ele tem '@' e se depois do '@' tem algum ponto, afinal:\n",
    "\n",
    "- andersongmail.com NÃO é um e-mail válido\n",
    "- anderson@gmail NÃO é um e-mail válido\n",
    "- anderson@gmail.com é um e-mail válido\n",
    "\n",
    "Crie um programa que permita o cadastro de nome e e-mail de uma pessoa (por meio de inputs) e que verifique:\n",
    "1. Se nome e e-mail foram preenchidos, caso contrário ele deve avisar para preencher todos os dados corretamente\n",
    "2. Se o e-mail contém '@' e se depois do '@' existe algum '.', caso contrário ele deve exibir uma mensagem de e-mail inválido\n",
    "\n",
    "Obs: Pode te ajudar lembrar do método .find da aula de Métodos de String. Você pode testar o que ele dá como resposta caso ele não encontre um item dentro da string"
   ]
  },
  {
   "cell_type": "markdown",
   "metadata": {
    "id": "Z6CskC7mDYkw"
   },
   "source": [
    "### DESAFIO 4: Mesmo que um CPF tenha os 11 digitos, ele pode não ser válido.\n",
    "### Existe um algoritmo específico que processa o CPF e diz sele é válido ou não\n",
    "### Voce pode consultar este algoritmo no site: https://dicasdeprogramacao.com.br/algoritmo-para-validar-cpf/\n",
    "### Aprimore o exercicio 1 para que, além de tratar a entrada do usuário,  o programa irá implementar o algoritmo de validação oficial, e dizer se o CPF é válido ou não"
   ]
  },
  {
   "cell_type": "code",
   "execution_count": 48,
   "metadata": {
    "id": "kIbdo_36DQg3"
   },
   "outputs": [
    {
     "name": "stdin",
     "output_type": "stream",
     "text": [
      "Digite o seu nome: Felipe\n",
      "Digite o seu e-mail:  felipe.araujo.arq@outlook.com\n"
     ]
    },
    {
     "name": "stdout",
     "output_type": "stream",
     "text": [
      "E-mail 'felipe.araujo.arq@outlook.com' aceito, Felipe.\n"
     ]
    }
   ],
   "source": [
    "# seu código aqui\n",
    "nome = input(\"Digite o seu nome:\")\n",
    "email = input(\"Digite o seu e-mail: \")\n",
    "\n",
    "if(nome and email): # verifica se há algo\n",
    "    print(\"ERRO: Preencha todos os dados corretamente:\")\n",
    "else:\n",
    "    if(email.find('@') and email.find('.com')):\n",
    "        print(f\"E-mail '{email}' aceito, {nome}.\")\n",
    "    else:\n",
    "        print(\"E-mail INVÁLIDO!\")"
   ]
  },
  {
   "cell_type": "markdown",
   "metadata": {},
   "source": [
    "# DESAFIO 4"
   ]
  },
  {
   "cell_type": "code",
   "execution_count": 49,
   "metadata": {},
   "outputs": [
    {
     "name": "stdin",
     "output_type": "stream",
     "text": [
      "[] 45645645645\n"
     ]
    },
    {
     "name": "stdout",
     "output_type": "stream",
     "text": [
      "CPF: 45645645645 Aceito.\n"
     ]
    }
   ],
   "source": [
    "cpf = input(\"Insira seu CPF (digite apenas números):\")\n",
    "\n",
    "# Validação CPF\n",
    "if([0] == [1])\n",
    "\n",
    "\n",
    "if(cpf.isnumeric() and len(cpf) == 11):\n",
    "    print(f\"CPF: {cpf} Aceito.\")\n",
    "else:\n",
    "    print(\"Digite o seu CPF corretamente e digite apenas números.\")"
   ]
  },
  {
   "cell_type": "code",
   "execution_count": null,
   "metadata": {},
   "outputs": [],
   "source": []
  }
 ],
 "metadata": {
  "colab": {
   "provenance": []
  },
  "kernelspec": {
   "display_name": "Python [conda env:base] *",
   "language": "python",
   "name": "conda-base-py"
  },
  "language_info": {
   "codemirror_mode": {
    "name": "ipython",
    "version": 3
   },
   "file_extension": ".py",
   "mimetype": "text/x-python",
   "name": "python",
   "nbconvert_exporter": "python",
   "pygments_lexer": "ipython3",
   "version": "3.13.5"
  }
 },
 "nbformat": 4,
 "nbformat_minor": 4
}
