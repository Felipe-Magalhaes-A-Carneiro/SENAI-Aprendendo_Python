{
 "cells": [
  {
   "cell_type": "code",
   "execution_count": null,
   "id": "6c0913ae",
   "metadata": {},
   "outputs": [
    {
     "name": "stdout",
     "output_type": "stream",
     "text": [
      "Bem-vindo(a)\n"
     ]
    }
   ],
   "source": [
    "\n",
    "print(\"==== MENU DE REGISTROS DE LIVROS ====\")\n",
    "usos = 3\n",
    "\n",
    "print(input(f\"Bem-vindo(a)\"))\n",
    "\n",
    "def main():\n",
    "    while usos != 0:\n",
    "        print(f\"\"\"\n",
    "            ==== MENU DE REGISTROS ====\n",
    "                     \n",
    "            Digite uma das opções abaixo:\n",
    "                     \n",
    "            1- Cadastrar registro de livros;\n",
    "            2- Análizar os livros já cadastrados;\n",
    "            3- Sair\n",
    "            \"\"\")\n",
    "        escolha = input(\"\")\n",
    "        usos -= 1\n",
    "\n",
    "        if escolha == 3:\n",
    "            print(\"Saindo do programa. Obrigado e volte sempre!\")\n",
    "            break"
   ]
  }
 ],
 "metadata": {
  "kernelspec": {
   "display_name": "Python 3",
   "language": "python",
   "name": "python3"
  },
  "language_info": {
   "codemirror_mode": {
    "name": "ipython",
    "version": 3
   },
   "file_extension": ".py",
   "mimetype": "text/x-python",
   "name": "python",
   "nbconvert_exporter": "python",
   "pygments_lexer": "ipython3",
   "version": "3.12.1"
  }
 },
 "nbformat": 4,
 "nbformat_minor": 5
}
