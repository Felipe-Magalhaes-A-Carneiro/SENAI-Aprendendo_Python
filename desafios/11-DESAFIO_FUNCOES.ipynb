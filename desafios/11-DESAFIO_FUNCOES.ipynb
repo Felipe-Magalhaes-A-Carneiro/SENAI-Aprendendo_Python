{
 "cells": [
  {
   "cell_type": "markdown",
   "id": "489b02d1-0ff6-4561-a4a8-62a97beed943",
   "metadata": {},
   "source": [
    "# DESAFIO\n",
    "Crie um progrma que implemente inicialmente uma lista vazia chama emprestimos (servindo para registrar emprestimos de livros)\n",
    "O programa irá, em loop, perguntar sempre o usuário e o livro que foi emprestado, criar um dicionario com estas duas informações e fazer um append na lista. O encerramento do programa ocorre quando o usuário digitar 'SAIR' no lugar do usuário, o programa então fará outro loop para mostrar os dados de todos os emprestimos.\n",
    "\n",
    "Dica 1: você precisara de 2 loops: um de cadastro e outro para gerar o relatorio;\n",
    "Dica 2: lembre-se dos métodos .item(), .keys e . values e encontre o que melhor servirá para sua lógica\n"
   ]
  },
  {
   "cell_type": "code",
   "execution_count": 22,
   "id": "c8db5513-0eef-4ffd-ba75-9727fe377a4e",
   "metadata": {},
   "outputs": [
    {
     "name": "stdout",
     "output_type": "stream",
     "text": [
      "[{'usuario': 'Felipe', 'livro': 'A Arte de Aprender'}]\n",
      "[{'usuario': 'Felipe', 'livro': 'A Arte de Aprender'}, {'usuario': 'Fábio', 'livro': 'A Arte de Estudar'}]\n",
      "[{'usuario': 'Felipe', 'livro': 'A Arte de Aprender'}, {'usuario': 'Fábio', 'livro': 'A Arte de Estudar'}, {'usuario': 'Antonio', 'livro': 'A Arte de Falar em Público'}]\n",
      "\n",
      "**** RELATORIO ***\n",
      "\n",
      "\n",
      "    1\n",
      "    Usuario: Felipe\n",
      "    Livro: A Arte de Aprender\n",
      "\n",
      "    \n",
      "\n",
      "    2\n",
      "    Usuario: Fábio\n",
      "    Livro: A Arte de Estudar\n",
      "\n",
      "    \n",
      "\n",
      "    3\n",
      "    Usuario: Antonio\n",
      "    Livro: A Arte de Falar em Público\n",
      "\n",
      "    \n"
     ]
    }
   ],
   "source": [
    "emprestimos = []\n",
    "\n",
    "while True:\n",
    "\n",
    "    usuario = input(\"Digite o nome do Usuario:\")\n",
    "    if usuario == \"sair\":\n",
    "        break\n",
    "    else:\n",
    "        livro = input(\"Digite o nome do Livro emprestado:\")\n",
    "    \n",
    "    cadastro = {'usuario':usuario, 'livro':livro}\n",
    "    emprestimos.append(cadastro)\n",
    "\n",
    "    print(emprestimos)\n",
    "\n",
    "print(\"\\n**** RELATORIO ***\\n\")\n",
    "for i,registro in enumerate(emprestimos):\n",
    "    print(f\"\"\"\n",
    "    {i + 1}\n",
    "    Usuario: {registro['usuario']}\n",
    "    Livro: {registro['livro']}\n",
    "\n",
    "    \"\"\")"
   ]
  },
  {
   "cell_type": "code",
   "execution_count": null,
   "id": "b162f229",
   "metadata": {},
   "outputs": [],
   "source": []
  }
 ],
 "metadata": {
  "kernelspec": {
   "display_name": "Python 3",
   "language": "python",
   "name": "python3"
  },
  "language_info": {
   "codemirror_mode": {
    "name": "ipython",
    "version": 3
   },
   "file_extension": ".py",
   "mimetype": "text/x-python",
   "name": "python",
   "nbconvert_exporter": "python",
   "pygments_lexer": "ipython3",
   "version": "3.12.1"
  }
 },
 "nbformat": 4,
 "nbformat_minor": 5
}
