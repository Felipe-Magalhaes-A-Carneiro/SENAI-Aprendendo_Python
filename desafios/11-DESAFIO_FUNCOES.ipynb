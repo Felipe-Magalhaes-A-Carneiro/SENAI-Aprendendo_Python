{
 "cells": [
  {
   "cell_type": "markdown",
   "id": "489b02d1-0ff6-4561-a4a8-62a97beed943",
   "metadata": {},
   "source": [
    "# DESAFIO\n",
    "Crie um progrma que implemente inicialmente uma lista vazia chama emprestimos (servindo para registrar emprestimos de livros)\n",
    "O programa irá, em loop, perguntar sempre o usuário e o livro que foi emprestado, criar um dicionario com estas duas informações e fazer um append na lista. O encerramento do programa ocorre quando o usuário digitar 'SAIR' no lugar do usuário, o programa então fará outro loop para mostrar os dados de todos os emprestimos.\n",
    "\n",
    "Dica 1: você precisara de 2 loops: um de cadastro e outro para gerar o relatorio;\n",
    "Dica 2: lembre-se dos métodos .item(), .keys e . values e encontre o que melhor servirá para sua lógica\n"
   ]
  },
  {
   "cell_type": "code",
   "execution_count": 28,
   "id": "c8db5513-0eef-4ffd-ba75-9727fe377a4e",
   "metadata": {},
   "outputs": [
    {
     "name": "stdin",
     "output_type": "stream",
     "text": [
      "Digite o nome do usuário. Ou digite 'Sair' para finalizar o processo e mostrar os dados cadastrados felipe\n",
      "Digite o nome do usuário. Ou digite 'Sair' para finalizar o processo e mostrar os dados cadastrados felipe\n"
     ]
    },
    {
     "name": "stdout",
     "output_type": "stream",
     "text": [
      "------\n"
     ]
    },
    {
     "name": "stdin",
     "output_type": "stream",
     "text": [
      "Digite o nome do livro que foi emprestado: a a\n"
     ]
    },
    {
     "name": "stdout",
     "output_type": "stream",
     "text": [
      "------\n"
     ]
    },
    {
     "name": "stdin",
     "output_type": "stream",
     "text": [
      "Digite o nome do usuário. Ou digite 'Sair' para finalizar o processo e mostrar os dados cadastrados ana\n"
     ]
    },
    {
     "name": "stdout",
     "output_type": "stream",
     "text": [
      "------\n"
     ]
    },
    {
     "name": "stdin",
     "output_type": "stream",
     "text": [
      "Digite o nome do livro que foi emprestado: livro\n"
     ]
    },
    {
     "name": "stdout",
     "output_type": "stream",
     "text": [
      "------\n"
     ]
    },
    {
     "name": "stdin",
     "output_type": "stream",
     "text": [
      "Digite o nome do usuário. Ou digite 'Sair' para finalizar o processo e mostrar os dados cadastrados sair\n"
     ]
    },
    {
     "name": "stdout",
     "output_type": "stream",
     "text": [
      "------\n"
     ]
    },
    {
     "name": "stdin",
     "output_type": "stream",
     "text": [
      "Digite o nome do livro que foi emprestado: sair\n"
     ]
    },
    {
     "name": "stdout",
     "output_type": "stream",
     "text": [
      "------\n",
      "Lista de todos os empréstimos: [{'usuario': 'sair', 'livro': 'sair'}, {'usuario': 'sair', 'livro': 'sair'}, {'usuario': 'sair', 'livro': 'sair'}, {'usuario': 'sair', 'livro': 'sair'}, {'usuario': 'sair', 'livro': 'sair'}, {'usuario': 'sair', 'livro': 'sair'}]livro\n"
     ]
    }
   ],
   "source": [
    "emprestimos = []\n",
    "registros = {\"usuario\": usuario, \"livro\": livro}\n",
    "\n",
    "usuario = input(\"Digite o nome do usuário. Ou digite 'Sair' para finalizar o processo e mostrar os dados cadastrados\")\n",
    "\n",
    "while usuario != \"sair\":\n",
    "    usuario = input(\"Digite o nome do usuário. Ou digite 'Sair' para finalizar o processo e mostrar os dados cadastrados\")\n",
    "    \n",
    "    print(\"------\")\n",
    "    livro = input(\"Digite o nome do livro que foi emprestado:\")\n",
    "    print(\"------\")\n",
    "\n",
    "    for registro in registros:\n",
    "        registros[\"usuario\"] = usuario\n",
    "        registros[\"livro\"] = livro\n",
    "        emprestimos.append(registros) \n",
    "\n",
    "print(f\"Lista de todos os empréstimos: {emprestimos}{registro}\")"
   ]
  },
  {
   "cell_type": "code",
   "execution_count": null,
   "id": "9ce31a02-f572-4854-af5c-ef697ef07272",
   "metadata": {},
   "outputs": [],
   "source": []
  }
 ],
 "metadata": {
  "kernelspec": {
   "display_name": "Python [conda env:base] *",
   "language": "python",
   "name": "conda-base-py"
  },
  "language_info": {
   "codemirror_mode": {
    "name": "ipython",
    "version": 3
   },
   "file_extension": ".py",
   "mimetype": "text/x-python",
   "name": "python",
   "nbconvert_exporter": "python",
   "pygments_lexer": "ipython3",
   "version": "3.13.5"
  }
 },
 "nbformat": 4,
 "nbformat_minor": 5
}
