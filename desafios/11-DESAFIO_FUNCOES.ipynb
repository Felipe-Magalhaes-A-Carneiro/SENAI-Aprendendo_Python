{
 "cells": [
  {
   "cell_type": "markdown",
   "id": "489b02d1-0ff6-4561-a4a8-62a97beed943",
   "metadata": {},
   "source": [
    "# DESAFIO\n",
    "Crie um progrma que implemente inicialmente uma lista vazia chama emprestimos (servindo para registrar emprestimos de livros)\n",
    "O programa irá, em loop, perguntar sempre o usuário e o livro que foi emprestado, criar um dicionario com estas duas informações e fazer um append na lista. O encerramento do programa ocorre quando o usuário digitar 'SAIR' no lugar do usuário, o programa então fará outro loop para mostrar os dados de todos os emprestimos.\n",
    "\n",
    "Dica 1: você precisara de 2 loops: um de cadastro e outro para gerar o relatorio;\n",
    "Dica 2: lembre-se dos métodos .item(), .keys e . values e encontre o que melhor servirá para sua lógica\n"
   ]
  },
  {
   "cell_type": "code",
   "execution_count": 5,
   "id": "c8db5513-0eef-4ffd-ba75-9727fe377a4e",
   "metadata": {},
   "outputs": [
    {
     "name": "stdout",
     "output_type": "stream",
     "text": [
      "[{'usuario': 'Felipe', 'livro': 'A casa'}]\n"
     ]
    },
    {
     "ename": "KeyError",
     "evalue": "0",
     "output_type": "error",
     "traceback": [
      "\u001b[31m---------------------------------------------------------------------------\u001b[39m",
      "\u001b[31mKeyError\u001b[39m                                  Traceback (most recent call last)",
      "\u001b[36mCell\u001b[39m\u001b[36m \u001b[39m\u001b[32mIn[5]\u001b[39m\u001b[32m, line 22\u001b[39m\n\u001b[32m     18\u001b[39m \u001b[38;5;28;01mfor\u001b[39;00m registro \u001b[38;5;129;01min\u001b[39;00m \u001b[38;5;28menumerate\u001b[39m(cadastro):\n\u001b[32m     19\u001b[39m     usuario, livro = registro\n\u001b[32m     20\u001b[39m     \u001b[38;5;28mprint\u001b[39m(\u001b[33mf\u001b[39m\u001b[33m\"\"\"\u001b[39m\n\u001b[32m     21\u001b[39m \u001b[33m    **** RELATORIO ***\u001b[39m\n\u001b[32m---> \u001b[39m\u001b[32m22\u001b[39m \u001b[33m    Usuario: \u001b[39m\u001b[38;5;132;01m{\u001b[39;00m\u001b[43mcadastro\u001b[49m\u001b[43m[\u001b[49m\u001b[43musuario\u001b[49m\u001b[43m]\u001b[49m\u001b[38;5;132;01m}\u001b[39;00m\n\u001b[32m     23\u001b[39m \u001b[33m    Livro: \u001b[39m\u001b[38;5;132;01m{\u001b[39;00mcadastro[livro]\u001b[38;5;132;01m}\u001b[39;00m\n\u001b[32m     24\u001b[39m \u001b[33m    \u001b[39m\u001b[38;5;132;01m{\u001b[39;00m\u001b[33m\"\u001b[39m\u001b[33m-\u001b[39m\u001b[33m\"\u001b[39m\u001b[38;5;250m \u001b[39m*\u001b[38;5;250m \u001b[39m\u001b[32m10\u001b[39m\u001b[38;5;132;01m}\u001b[39;00m\n\u001b[32m     25\u001b[39m \u001b[33m    \u001b[39m\u001b[33m\"\"\"\u001b[39m)\n",
      "\u001b[31mKeyError\u001b[39m: 0"
     ]
    }
   ],
   "source": [
    "emprestimos = []\n",
    "\n",
    "\n",
    "while True:\n",
    "\n",
    "    # recebendo usuario no dic\n",
    "    usuario = input(\"Usuario:\")\n",
    "    if usuario == \"sair\":\n",
    "        break\n",
    "    else:\n",
    "        livro = input(\"Livro\")\n",
    "    \n",
    "    cadastro = {'usuario':usuario, 'livro':livro}\n",
    "    emprestimos.append(cadastro)\n",
    "\n",
    "    print(emprestimos)\n",
    "\n",
    "for registro in enumerate(cadastro):\n",
    "    usuario, livro = registro\n",
    "    print(f\"\"\"\n",
    "    **** RELATORIO ***\n",
    "    Usuario: {cadastro[usuario]}\n",
    "    Livro: {cadastro[livro]}\n",
    "    {\"-\" * 10}\n",
    "    \"\"\")"
   ]
  },
  {
   "cell_type": "code",
   "execution_count": null,
   "id": "9ce31a02-f572-4854-af5c-ef697ef07272",
   "metadata": {},
   "outputs": [],
   "source": []
  }
 ],
 "metadata": {
  "kernelspec": {
   "display_name": "Python 3",
   "language": "python",
   "name": "python3"
  },
  "language_info": {
   "codemirror_mode": {
    "name": "ipython",
    "version": 3
   },
   "file_extension": ".py",
   "mimetype": "text/x-python",
   "name": "python",
   "nbconvert_exporter": "python",
   "pygments_lexer": "ipython3",
   "version": "3.12.4"
  }
 },
 "nbformat": 4,
 "nbformat_minor": 5
}
