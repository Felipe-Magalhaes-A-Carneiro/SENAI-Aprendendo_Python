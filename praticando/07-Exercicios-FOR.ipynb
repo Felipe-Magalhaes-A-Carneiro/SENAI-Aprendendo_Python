{
 "cells": [
  {
   "cell_type": "markdown",
   "id": "82435e76",
   "metadata": {},
   "source": [
    "=====================================\n",
    "### 1. Contagem Simples\n",
    "\n",
    "Enunciado:\n",
    "Use o for para imprimir os números de 1 a 10."
   ]
  },
  {
   "cell_type": "code",
   "execution_count": 3,
   "id": "e5e24fa7",
   "metadata": {},
   "outputs": [
    {
     "name": "stdout",
     "output_type": "stream",
     "text": [
      "1\n",
      "2\n",
      "3\n",
      "4\n",
      "5\n",
      "6\n",
      "7\n",
      "8\n",
      "9\n",
      "10\n"
     ]
    }
   ],
   "source": [
    "for i in range(1,11):\n",
    "    print(i)"
   ]
  },
  {
   "cell_type": "markdown",
   "id": "bb1afd23",
   "metadata": {},
   "source": [
    "=====================================\n",
    "### 2. Soma dos Números de 1 a 100\n",
    "\n",
    "Enunciado:\n",
    "Calcule a soma de todos os números de 1 a 100."
   ]
  },
  {
   "cell_type": "code",
   "execution_count": 4,
   "id": "3fe26d18",
   "metadata": {},
   "outputs": [
    {
     "name": "stdout",
     "output_type": "stream",
     "text": [
      "5050\n"
     ]
    }
   ],
   "source": [
    "soma = 0\n",
    "\n",
    "for i in range(1,101):\n",
    "    soma += i\n",
    "\n",
    "print(soma)"
   ]
  },
  {
   "cell_type": "markdown",
   "id": "fddaacef",
   "metadata": {},
   "source": [
    "=====================================\n",
    "### 3. Tabuada\n",
    "\n",
    "Enunciado:\n",
    "Peça um número e mostre sua tabuada de 1 a 10."
   ]
  },
  {
   "cell_type": "code",
   "execution_count": 21,
   "id": "938c4623",
   "metadata": {},
   "outputs": [
    {
     "name": "stdout",
     "output_type": "stream",
     "text": [
      "8 * 1 = 8\n",
      "8 * 2 = 16\n",
      "8 * 3 = 24\n",
      "8 * 4 = 32\n",
      "8 * 5 = 40\n",
      "8 * 6 = 48\n",
      "8 * 7 = 56\n",
      "8 * 8 = 64\n",
      "8 * 9 = 72\n",
      "8 * 10 = 80\n"
     ]
    }
   ],
   "source": [
    "num = int(input(\"Digite o número e geraremos a tabuada dele de 1 a 10: \"))\n",
    "\n",
    "for i in range(1,11):\n",
    "    print(f\"{num} * {i} = {num*i}\")"
   ]
  },
  {
   "cell_type": "markdown",
   "id": "0a093e19",
   "metadata": {},
   "source": [
    "=====================================\n",
    "### 4. Contar Vogais em uma Palavra\n",
    "\n",
    "Enunciado:\n",
    "Peça uma palavra e conte quantas vogais ela tem."
   ]
  },
  {
   "cell_type": "code",
   "execution_count": 19,
   "id": "adaf62b9",
   "metadata": {},
   "outputs": [
    {
     "name": "stdout",
     "output_type": "stream",
     "text": [
      "VOGAIS ENCONTRADAS NA PALAVRA: 'amarelo'\n",
      "a\n",
      "a\n",
      "e\n",
      "o\n",
      "Número de vogais: 4\n"
     ]
    }
   ],
   "source": [
    "vogais = \"aeiou\"\n",
    "palavra = input(\"Digite uma palavra e contaremos quantas vogais existem nela: \").lower()\n",
    "contador = 0\n",
    "\n",
    "print(f\"VOGAIS ENCONTRADAS NA PALAVRA: '{palavra}'\")\n",
    "for letra in palavra:\n",
    "    \n",
    "    if letra in vogais:\n",
    "        print(letra)\n",
    "        contador += 1\n",
    "\n",
    "print(f\"Número de vogais: {contador}\")"
   ]
  },
  {
   "cell_type": "markdown",
   "id": "7f5881a1",
   "metadata": {},
   "source": [
    "=====================================\n",
    "### 5. Exibir Apenas os Números Pares\n",
    "\n",
    "Enunciado:\n",
    "Mostre todos os números pares entre 1 e 50."
   ]
  },
  {
   "cell_type": "code",
   "execution_count": 20,
   "id": "6064106c",
   "metadata": {},
   "outputs": [
    {
     "name": "stdout",
     "output_type": "stream",
     "text": [
      "2\n",
      "4\n",
      "6\n",
      "8\n",
      "10\n",
      "12\n",
      "14\n",
      "16\n",
      "18\n",
      "20\n",
      "22\n",
      "24\n",
      "26\n",
      "28\n",
      "30\n",
      "32\n",
      "34\n",
      "36\n",
      "38\n",
      "40\n",
      "42\n",
      "44\n",
      "46\n",
      "48\n",
      "50\n"
     ]
    }
   ],
   "source": [
    "for numero in range(1,51):\n",
    "    if (numero % 2 == 0):\n",
    "        print(numero)"
   ]
  },
  {
   "cell_type": "markdown",
   "id": "aec56529",
   "metadata": {},
   "source": [
    "=====================================\n",
    "### 6. Fatorial de um Número\n",
    "\n",
    "Enunciado:\n",
    "Peça um número e calcule seu fatorial usando for.\n",
    "(Ex: 5! = 5 × 4 × 3 × 2 × 1 = 120)"
   ]
  },
  {
   "cell_type": "code",
   "execution_count": null,
   "id": "d926ddc5",
   "metadata": {},
   "outputs": [
    {
     "name": "stdout",
     "output_type": "stream",
     "text": [
      "O Fatorial de 5 é 120\n"
     ]
    }
   ],
   "source": [
    "num = int(input(\"Digite um número de faremos o seu Fatorial:\"))\n",
    "fatorial = 1\n",
    "\n",
    "for posicao in range(1, num + 1):\n",
    "    fatorial *= posicao\n",
    "\n",
    "print(f\"O Fatorial de {num} é {fatorial}\")"
   ]
  },
  {
   "cell_type": "markdown",
   "id": "9c4903bf",
   "metadata": {},
   "source": [
    "=====================================\n",
    "### 7. Média de Notas\n",
    "\n",
    "Enunciado:\n",
    "Peça 5 notas e calcule a média."
   ]
  },
  {
   "cell_type": "code",
   "execution_count": null,
   "id": "198c1341",
   "metadata": {},
   "outputs": [
    {
     "name": "stdout",
     "output_type": "stream",
     "text": [
      "A média da nota foi: 7.6\n"
     ]
    }
   ],
   "source": [
    "soma = 0\n",
    "\n",
    "for i in range(5):\n",
    "    nota = float(input(f\"Digite a nota {i+1}:\"))\n",
    "    soma += nota\n",
    "\n",
    "media = soma / 5\n",
    "print(f\"A média da nota foi: {media}\")"
   ]
  },
  {
   "cell_type": "markdown",
   "id": "f63a0374",
   "metadata": {},
   "source": [
    "=====================================\n",
    "### 8. Números Primos até 50\n",
    "\n",
    "Enunciado:\n",
    "Mostre todos os números primos de 1 a 50."
   ]
  },
  {
   "cell_type": "code",
   "execution_count": 20,
   "id": "45dfffb9",
   "metadata": {},
   "outputs": [
    {
     "name": "stdout",
     "output_type": "stream",
     "text": [
      "2\n",
      "3\n",
      "5\n",
      "7\n",
      "11\n",
      "13\n",
      "17\n",
      "19\n",
      "23\n",
      "29\n",
      "31\n",
      "37\n",
      "41\n",
      "43\n",
      "47\n"
     ]
    }
   ],
   "source": [
    "for num in range(2, 51):\n",
    "    e_primo = True\n",
    "\n",
    "    for i in range(2, num):\n",
    "        if num % i == 0:\n",
    "            e_primo = False\n",
    "            break\n",
    "\n",
    "    if e_primo:\n",
    "        print(num)\n"
   ]
  },
  {
   "cell_type": "markdown",
   "id": "555fe36e",
   "metadata": {},
   "source": [
    "=====================================\n",
    "### 9. Invertendo uma String\n",
    "\n",
    "Enunciado:\n",
    "Peça uma palavra e mostre ela invertida."
   ]
  },
  {
   "cell_type": "code",
   "execution_count": 18,
   "id": "e16a402b",
   "metadata": {},
   "outputs": [
    {
     "name": "stdout",
     "output_type": "stream",
     "text": [
      "invertido\n",
      "oditrevni\n"
     ]
    }
   ],
   "source": [
    "palavra = input(\"Digite uma palavra: \")\n",
    "contador = [1] # Foi um teste, for quer percorrer algo, logo se ele quer uma String (que nada mais que uma lista de caracteres), criei uma lista e um valor(não importa o valor, mas não pode estar vazia!)\n",
    "\n",
    "for i in contador:\n",
    "    print(palavra)\n",
    "    # a 'palavra' agora será invertida:\n",
    "    print(palavra[::-1])\n"
   ]
  },
  {
   "cell_type": "code",
   "execution_count": 19,
   "id": "7d60ffd9",
   "metadata": {},
   "outputs": [
    {
     "name": "stdout",
     "output_type": "stream",
     "text": [
      "aditrevni\n"
     ]
    }
   ],
   "source": [
    "# Outra forma de fazer o exercício 9:\n",
    "\n",
    "palavra = input(\"Digite uma palavra: \")\n",
    "invertida = \"\"\n",
    "\n",
    "for letra in palavra:\n",
    "    invertida = letra + invertida\n",
    "\n",
    "print(invertida)"
   ]
  },
  {
   "cell_type": "markdown",
   "id": "93233fed",
   "metadata": {},
   "source": [
    "=====================================\n",
    "### 10. Pirâmide de Asteriscos\n",
    "\n",
    "Enunciado:\n",
    "Peça um número n e desenhe uma pirâmide de asteriscos com n linhas.\n",
    "Exemplo para n = 5:"
   ]
  },
  {
   "cell_type": "code",
   "execution_count": null,
   "id": "777f54d4",
   "metadata": {},
   "outputs": [
    {
     "name": "stdout",
     "output_type": "stream",
     "text": [
      "Número de *: 5\n",
      "\n",
      "*\n",
      "**\n",
      "***\n",
      "****\n",
      "*****\n"
     ]
    }
   ],
   "source": [
    "n = int(input(\"Digite um número linhas: \"))\n",
    "\n",
    "print(\"Número de *:\", n)\n",
    "\n",
    "for vez in range(n + 1):\n",
    "    print( \"*\" * vez)\n",
    "    "
   ]
  },
  {
   "cell_type": "markdown",
   "id": "4cc584ae",
   "metadata": {},
   "source": [
    "=====================================\n",
    "### 11. Pirâmide Invertida\n",
    "\n",
    "Enunciado:\n",
    "Peça um número n e exiba uma pirâmide invertida de asteriscos.\n",
    "Exemplo para n = 5:"
   ]
  },
  {
   "cell_type": "code",
   "execution_count": 21,
   "id": "87f405a4",
   "metadata": {},
   "outputs": [
    {
     "name": "stdout",
     "output_type": "stream",
     "text": [
      "*****\n",
      "****\n",
      "***\n",
      "**\n",
      "*\n",
      "\n"
     ]
    }
   ],
   "source": [
    "n = int(input(\"Digite um número de linhas: \"))\n",
    "contador = n\n",
    "\n",
    "for vez in range(n + 1):\n",
    "    print(\"*\" * contador)\n",
    "    contador -= 1"
   ]
  },
  {
   "cell_type": "code",
   "execution_count": 20,
   "id": "83e3499f",
   "metadata": {},
   "outputs": [
    {
     "name": "stdout",
     "output_type": "stream",
     "text": [
      "*****\n",
      "****\n",
      "***\n",
      "**\n",
      "*\n"
     ]
    }
   ],
   "source": [
    "# Outra forma de fazer: \n",
    "n = int(input(\"Digite um número de linhas: \"))\n",
    "\n",
    "for vez in range(n, 0, -1): # Neste temos um dominio melhor da função range()\n",
    "    print(\"*\" * vez)"
   ]
  },
  {
   "cell_type": "markdown",
   "id": "9e201dc8",
   "metadata": {},
   "source": [
    "=====================================\n",
    "### 12. Triângulo Centralizado\n",
    "\n",
    "Enunciado:\n",
    "Peça um número n e desenhe um triângulo centralizado com asteriscos.\n",
    "Exemplo para n = 5:"
   ]
  },
  {
   "cell_type": "code",
   "execution_count": 40,
   "id": "476cb294",
   "metadata": {},
   "outputs": [
    {
     "name": "stdout",
     "output_type": "stream",
     "text": [
      "     \n",
      "    **\n",
      "   ****\n",
      "  ******\n",
      " ********\n",
      "**********\n"
     ]
    }
   ],
   "source": [
    "n = int(input(\"Digite um número de linhas: \"))\n",
    "contador = n\n",
    "\n",
    "for vez_n in range(n + 1):\n",
    "    print((\" \" * contador) + (\"*\" * vez_n) * 2)\n",
    "    contador -= 1"
   ]
  },
  {
   "cell_type": "code",
   "execution_count": 41,
   "id": "9c2829c5",
   "metadata": {},
   "outputs": [
    {
     "name": "stdout",
     "output_type": "stream",
     "text": [
      "    *\n",
      "   ***\n",
      "  *****\n",
      " *******\n",
      "*********\n"
     ]
    }
   ],
   "source": [
    "# Outra forma de fazer:\n",
    "\n",
    "n = int(input(\"Digite o número de linhas: \"))\n",
    "\n",
    "for i in range(1, n + 1):\n",
    "    espacos = n - i\n",
    "    estrelas = (2 * i) - 1\n",
    "    print(\" \" * espacos + \"*\" * estrelas)"
   ]
  },
  {
   "cell_type": "markdown",
   "id": "b21cbffc",
   "metadata": {},
   "source": [
    "=====================================\n",
    "### 13. Soma dos Ímpares em uma Lista\n",
    "\n",
    "Enunciado:\n",
    "Dada uma lista de números, calcule a soma apenas dos ímpares."
   ]
  },
  {
   "cell_type": "code",
   "execution_count": 9,
   "id": "93f4aca1",
   "metadata": {},
   "outputs": [
    {
     "name": "stdout",
     "output_type": "stream",
     "text": [
      "3\n",
      "11\n",
      "7\n",
      "9\n",
      "\n",
      "Soma dos números ímpares é:  30\n"
     ]
    }
   ],
   "source": [
    "numeros = [3, 8, 11, 24, 7, 9, 12]\n",
    "soma_impares = 0\n",
    "\n",
    "for num in numeros:\n",
    "    if num % 2 != 0:\n",
    "        print(num)\n",
    "        soma_impares += num\n",
    "        \n",
    "print(\"\\nSoma dos números ímpares é: \", soma_impares)\n",
    "    "
   ]
  },
  {
   "cell_type": "markdown",
   "id": "7852b557",
   "metadata": {},
   "source": [
    "=====================================\n",
    "### 14. Contagem de Letras em uma Frase\n",
    "\n",
    "Enunciado:\n",
    "Peça uma frase e exiba quantas vezes cada letra aparece, ignorando espaços.\n",
    "\"O rato roeu a roupa do Rei de Roma\""
   ]
  },
  {
   "cell_type": "code",
   "execution_count": 29,
   "id": "5ba5a862",
   "metadata": {},
   "outputs": [
    {
     "name": "stdout",
     "output_type": "stream",
     "text": [
      "o: 6\n",
      "r: 5\n",
      "a: 4\n",
      "t: 1\n",
      "e: 3\n",
      "u: 2\n",
      "p: 1\n",
      "d: 2\n",
      "i: 1\n",
      "m: 1\n"
     ]
    }
   ],
   "source": [
    "frase = input(\"Escreva uma frase e exibiremos quantas vezes cada letra aparece: \").lower()\n",
    "contagem = {}\n",
    "\n",
    "for letra in frase:\n",
    "    if letra != \" \":\n",
    "        if letra in contagem:\n",
    "            contagem[letra] += 1\n",
    "        else:\n",
    "            contagem[letra] = 1\n",
    "\n",
    "for letra, qtd in contagem.items():\n",
    "    print(f\"{letra}: {qtd}\")\n",
    "        "
   ]
  },
  {
   "cell_type": "code",
   "execution_count": null,
   "id": "ceb38d86",
   "metadata": {},
   "outputs": [],
   "source": []
  }
 ],
 "metadata": {
  "kernelspec": {
   "display_name": "Python 3",
   "language": "python",
   "name": "python3"
  },
  "language_info": {
   "codemirror_mode": {
    "name": "ipython",
    "version": 3
   },
   "file_extension": ".py",
   "mimetype": "text/x-python",
   "name": "python",
   "nbconvert_exporter": "python",
   "pygments_lexer": "ipython3",
   "version": "3.12.4"
  }
 },
 "nbformat": 4,
 "nbformat_minor": 5
}
