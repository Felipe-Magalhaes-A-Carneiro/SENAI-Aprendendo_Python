{
 "cells": [
  {
   "cell_type": "markdown",
   "id": "82435e76",
   "metadata": {},
   "source": [
    "# Enunciado:\n",
    "Use o for para imprimir os números de 1 a 10."
   ]
  },
  {
   "cell_type": "code",
   "execution_count": 3,
   "id": "e5e24fa7",
   "metadata": {},
   "outputs": [
    {
     "name": "stdout",
     "output_type": "stream",
     "text": [
      "1\n",
      "2\n",
      "3\n",
      "4\n",
      "5\n",
      "6\n",
      "7\n",
      "8\n",
      "9\n",
      "10\n"
     ]
    }
   ],
   "source": [
    "for i in range(1,11):\n",
    "    print(i)"
   ]
  },
  {
   "cell_type": "markdown",
   "id": "bb1afd23",
   "metadata": {},
   "source": [
    "\n",
    "Calcule a soma de todos os números de 1 a 100."
   ]
  },
  {
   "cell_type": "code",
   "execution_count": 9,
   "id": "3fe26d18",
   "metadata": {},
   "outputs": [
    {
     "name": "stdout",
     "output_type": "stream",
     "text": [
      "5050\n"
     ]
    }
   ],
   "source": [
    "soma = 0\n",
    "\n",
    "for i in range(1,101):\n",
    "    soma += i\n",
    "\n",
    "print(soma)"
   ]
  },
  {
   "cell_type": "markdown",
   "id": "fddaacef",
   "metadata": {},
   "source": [
    "Peça um número e mostre sua tabuada de 1 a 10."
   ]
  },
  {
   "cell_type": "code",
   "execution_count": null,
   "id": "938c4623",
   "metadata": {},
   "outputs": [],
   "source": []
  }
 ],
 "metadata": {
  "kernelspec": {
   "display_name": "Python 3",
   "language": "python",
   "name": "python3"
  },
  "language_info": {
   "codemirror_mode": {
    "name": "ipython",
    "version": 3
   },
   "file_extension": ".py",
   "mimetype": "text/x-python",
   "name": "python",
   "nbconvert_exporter": "python",
   "pygments_lexer": "ipython3",
   "version": "3.12.4"
  }
 },
 "nbformat": 4,
 "nbformat_minor": 5
}
