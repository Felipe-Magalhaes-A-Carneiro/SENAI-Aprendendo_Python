{
 "cells": [
  {
   "cell_type": "markdown",
   "id": "1bc9a747",
   "metadata": {},
   "source": [
    "## Condições - Algoritmos feitos para praticar o uso de condições\n",
    "---\n",
    "Exercícios de 1 a 10, sendo o primeiro o mais fácil e a dificuldade sendo aumentada a cada exercício."
   ]
  },
  {
   "cell_type": "markdown",
   "id": "45c5b0bc",
   "metadata": {},
   "source": [
    "# 1. Par ou Ímpar\n",
    "\n",
    "Peça para o usuário digitar um número e informe se ele é par ou ímpar."
   ]
  },
  {
   "cell_type": "code",
   "execution_count": null,
   "id": "48a77efa",
   "metadata": {},
   "outputs": [
    {
     "name": "stdout",
     "output_type": "stream",
     "text": [
      "O número escolhido foi: 4. Fazendo o cálculo...\n",
      "O número 4 é PAR!\n"
     ]
    }
   ],
   "source": [
    "# Algoritmo: Lê o número de define se ele é par ou ímpar.\n",
    "# Autor: Felipe Magalhães\n",
    "numero = int(input(\"Digite um número\"))\n",
    "msg = f\"O número escolhido foi: {numero}. Fazendo o cálculo...\"\n",
    "\n",
    "print(msg)\n",
    "\n",
    "if(numero % 2) == 0:\n",
    "    print(f\"O número {numero} é PAR!\")\n",
    "else:\n",
    "    print(f\"O número {numero} é IMPAR!\")"
   ]
  },
  {
   "cell_type": "markdown",
   "id": "34a6f9fe",
   "metadata": {},
   "source": [
    "---"
   ]
  },
  {
   "cell_type": "markdown",
   "id": "bfd58d0f",
   "metadata": {},
   "source": [
    "# 2. 2. Maior de Idade\n",
    "\n",
    "Receba a idade de uma pessoa e diga se ela é maior de idade (18 anos ou mais) ou menor de idade."
   ]
  },
  {
   "cell_type": "markdown",
   "id": "249dafdc",
   "metadata": {},
   "source": []
  }
 ],
 "metadata": {
  "kernelspec": {
   "display_name": "Python 3",
   "language": "python",
   "name": "python3"
  },
  "language_info": {
   "codemirror_mode": {
    "name": "ipython",
    "version": 3
   },
   "file_extension": ".py",
   "mimetype": "text/x-python",
   "name": "python",
   "nbconvert_exporter": "python",
   "pygments_lexer": "ipython3",
   "version": "3.12.1"
  }
 },
 "nbformat": 4,
 "nbformat_minor": 5
}
