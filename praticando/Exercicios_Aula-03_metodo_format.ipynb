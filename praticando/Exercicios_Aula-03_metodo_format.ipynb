{
 "cells": [
  {
   "cell_type": "markdown",
   "id": "a220e4e2",
   "metadata": {
    "id": "a220e4e2"
   },
   "source": [
    "## **Exercícios  - Metódo .format**"
   ]
  },
  {
   "cell_type": "markdown",
   "id": "737f7ee0",
   "metadata": {
    "id": "737f7ee0"
   },
   "source": [
    "## Crie programas em python para atender as especificações abaixo."
   ]
  },
  {
   "cell_type": "markdown",
   "id": "b9d7d65b",
   "metadata": {
    "id": "b9d7d65b"
   },
   "source": [
    "# 1 - Faça um programa que peça o nome de um país, a capital e o idioma oficial e exiba uma mensagem com essas informações."
   ]
  },
  {
   "cell_type": "code",
   "execution_count": 1,
   "id": "1b62af10",
   "metadata": {
    "id": "1b62af10"
   },
   "outputs": [
    {
     "name": "stdin",
     "output_type": "stream",
     "text": [
      "Escolha um país, digite o nome:  Brasil\n",
      "Digite a capital do país escolhido:  DF\n",
      "Digite o idioma oficial do país escolhido: Português\n"
     ]
    },
    {
     "name": "stdout",
     "output_type": "stream",
     "text": [
      " \n",
      "O país escolhido por você foi Brasil. \n",
      "A sua capital é a DF.\n",
      "E a sua bela língua oficial é a Português!\n",
      "\n",
      "Já pensou no motivo em que você escolheu esse país?\n",
      "Será que você digitou a capital errada?\n",
      "Se não, parabéns! Poucas pessoas decoram o país e a sua capital adquadamente!\n",
      "\n",
      "\n"
     ]
    }
   ],
   "source": [
    "pais = input(\"Escolha um país, digite o nome: \")\n",
    "capital = input(\"Digite a capital do país escolhido: \")\n",
    "idioma = input(\"Digite o idioma oficial do país escolhido:\")\n",
    "\n",
    "print(f\"\"\" \n",
    "O país escolhido por você foi {pais}. \n",
    "A sua capital é o(a) {capital}.\n",
    "E a sua bela língua oficial é o(a) {idioma}!\n",
    "\n",
    "Já pensou no motivo em que você escolheu esse país?\n",
    "Será que você digitou o(a) capital errada?\n",
    "Se não, parabéns! Poucas pessoas decoram o país e a sua capital adequadamente!\n",
    "\n",
    "\"\"\")"
   ]
  },
  {
   "cell_type": "markdown",
   "id": "1aa984cf",
   "metadata": {
    "id": "1aa984cf"
   },
   "source": [
    "#  6 - Você foi contratado para desenvolver um programa que auxilie um petshop a gerar mensagens personalizadas para seus clientes. O programa deve solicitar algumas informações do cliente e, em seguida, exibir uma mensagem customizada com base nos dados fornecidos.\n",
    "\n",
    "O programa deve conter as seguintes etapas:\n",
    "\n",
    "Solicitar ao usuário que digite seu nome, o nome do seu pet (animal de estimação) e a espécie do pet (por exemplo, cachorro, gato, pássaro, etc.).\n",
    "\n",
    "Em seguida, peça ao usuário que informe a idade do pet em anos.\n",
    "\n",
    "Solicite também ao usuário que informe se o pet já tomou todas as vacinas obrigatórias (responda com \"Sim\" ou \"Não\").\n",
    "\n",
    "Com base nas informações coletadas, o programa deve gerar uma mensagem personalizada para o cliente. A mensagem deve incluir o nome do cliente, o nome do pet, a espécie do pet, sua idade em anos e se já tomou todas as vacinas obrigatórias."
   ]
  },
  {
   "cell_type": "code",
   "execution_count": 7,
   "id": "72c15eff",
   "metadata": {
    "id": "72c15eff"
   },
   "outputs": [
    {
     "name": "stdin",
     "output_type": "stream",
     "text": [
      "Digite o seu nome:  Felipe\n",
      "Digite o nome do seu pet(animal de estimação):  Pé de Pano\n",
      "Agora, digite a espécie dele(a). (Ex.: cachorro, gato...):  cavalo\n",
      "E qual é a idade do Pé de Pano em anos? 6\n",
      "E o Pé de Pano já tomou todas as vacinas obrigatórias? Responda com 'Sim' ou 'Não'? Sim\n"
     ]
    },
    {
     "name": "stdout",
     "output_type": "stream",
     "text": [
      " \n",
      "\n",
      "|-------------------------------------------------------------------|\n",
      "|### MENSAGEM DA 'PETSHOP' - CUIDAMOS DO SEUS ANIMAIS POR VOCÊ! ### |\n",
      "|-------------------------------------------------------------------|\n",
      "\n",
      "Olá, Felipe. Tudo bem com você?\n",
      "Estamos preocupados com o(a) Pé de Pano. Como estão indo às coisas?\n",
      "\n",
      "Precisamos remarcar a próxima visita! \n",
      "\n",
      "Como ele(a) é da especie de cavalos, todo o cuidado é pouco. \n",
      "Vamos cuidar para que ele(a) tenha mais 6 anos de idade, certo? :D\n",
      "\n",
      "Aliás, você nos disse que a vacinação está completa? Sua resposta foi que \"Sim\", certo?\n",
      "\n",
      "Vamos continuar cuidando do(a) Pé de Pano, Felipe!\n",
      "\n",
      "Até a próxima!\n",
      "\n"
     ]
    }
   ],
   "source": [
    "nome = input(\"Digite o seu nome: \")\n",
    "nome_pet = input(\"Digite o nome do seu pet(animal de estimação): \")\n",
    "especie = input(\"Agora, digite a espécie dele(a). (Ex.: cachorro, gato...): \")\n",
    "idade = input(f\"E qual é a idade do {nome_pet} em anos?\")\n",
    "vacinas = input(f\"E o {nome_pet} já tomou todas as vacinas obrigatórias? Responda com 'Sim' ou 'Não'?\")\n",
    "\n",
    "#if vacinas == \"Sim\" || \"sim\"\n",
    "#    f\"Que bom que {nome} está com as vacinas em dia!\"\n",
    "#else\n",
    "#   f\"Lembre-se que precisamos completar a vacinação do(a) {nome}.\n",
    "\n",
    "print(f\"\"\" \n",
    "\n",
    "|-------------------------------------------------------------------|\n",
    "|### MENSAGEM DA 'PETSHOP' - CUIDAMOS DO SEUS ANIMAIS POR VOCÊ! ### |\n",
    "|-------------------------------------------------------------------|\n",
    "\n",
    "Olá, {nome}. Tudo bem com você?\n",
    "Estamos preocupados com o(a) {nome_pet}. Como estão indo às coisas?\n",
    "\n",
    "Precisamos remarcar a próxima visita! \n",
    "\n",
    "Como ele(a) é da especie de {especie}s, todo o cuidado é pouco. \n",
    "Vamos cuidar para que ele(a) tenha mais {idade} anos de idade, certo? :D\n",
    "\n",
    "Aliás, você nos disse que a vacinação está completa? Sua resposta foi que \"{vacinas}\", certo?\n",
    "\n",
    "Vamos continuar cuidando do(a) {nome_pet}, {nome}!\n",
    "\n",
    "Até a próxima!\n",
    "\"\"\")\n"
   ]
  },
  {
   "cell_type": "code",
   "execution_count": null,
   "id": "V8yGoItXDAop",
   "metadata": {
    "id": "V8yGoItXDAop"
   },
   "outputs": [],
   "source": []
  }
 ],
 "metadata": {
  "colab": {
   "provenance": []
  },
  "kernelspec": {
   "display_name": "Python [conda env:base] *",
   "language": "python",
   "name": "conda-base-py"
  },
  "language_info": {
   "codemirror_mode": {
    "name": "ipython",
    "version": 3
   },
   "file_extension": ".py",
   "mimetype": "text/x-python",
   "name": "python",
   "nbconvert_exporter": "python",
   "pygments_lexer": "ipython3",
   "version": "3.13.5"
  }
 },
 "nbformat": 4,
 "nbformat_minor": 5
}
