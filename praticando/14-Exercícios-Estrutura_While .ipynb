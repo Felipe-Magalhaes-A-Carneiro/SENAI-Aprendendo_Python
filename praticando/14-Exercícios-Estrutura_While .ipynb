{
 "cells": [
  {
   "cell_type": "code",
   "execution_count": 1,
   "id": "uwj102UAgJrp",
   "metadata": {
    "colab": {
     "base_uri": "https://localhost:8080/",
     "height": 0
    },
    "executionInfo": {
     "elapsed": 640,
     "status": "error",
     "timestamp": 1733603161301,
     "user": {
      "displayName": "Anderson Fontes",
      "userId": "11387347798778007297"
     },
     "user_tz": 180
    },
    "id": "uwj102UAgJrp",
    "outputId": "6cef25b2-1b26-4fc2-a380-4e2869a6c272"
   },
   "outputs": [
    {
     "ename": "NameError",
     "evalue": "name 'maria' is not defined",
     "output_type": "error",
     "traceback": [
      "\u001b[0;31m---------------------------------------------------------------------------\u001b[0m",
      "\u001b[0;31mNameError\u001b[0m                                 Traceback (most recent call last)",
      "\u001b[0;32m<ipython-input-1-51eb69f68943>\u001b[0m in \u001b[0;36m<cell line: 3>\u001b[0;34m()\u001b[0m\n\u001b[1;32m      1\u001b[0m \u001b[0mvenda\u001b[0m \u001b[0;34m=\u001b[0m \u001b[0;34m[\u001b[0m\u001b[0;36m250\u001b[0m\u001b[0;34m,\u001b[0m\u001b[0;36m330\u001b[0m\u001b[0;34m,\u001b[0m\u001b[0;36m440\u001b[0m\u001b[0;34m,\u001b[0m\u001b[0;36m540\u001b[0m\u001b[0;34m,\u001b[0m\u001b[0;36m350\u001b[0m\u001b[0;34m,\u001b[0m\u001b[0;36m250\u001b[0m\u001b[0;34m,\u001b[0m\u001b[0;36m368\u001b[0m\u001b[0;34m,\u001b[0m\u001b[0;36m40\u001b[0m\u001b[0;34m,\u001b[0m\u001b[0;36m250\u001b[0m\u001b[0;34m,\u001b[0m\u001b[0;36m30\u001b[0m\u001b[0;34m,\u001b[0m\u001b[0;36m30\u001b[0m\u001b[0;34m,\u001b[0m\u001b[0;34m]\u001b[0m\u001b[0;34m\u001b[0m\u001b[0;34m\u001b[0m\u001b[0m\n\u001b[1;32m      2\u001b[0m \u001b[0;34m\u001b[0m\u001b[0m\n\u001b[0;32m----> 3\u001b[0;31m \u001b[0mvendedores\u001b[0m \u001b[0;34m=\u001b[0m\u001b[0;34m[\u001b[0m\u001b[0mmaria\u001b[0m\u001b[0;34m,\u001b[0m\u001b[0mmara\u001b[0m\u001b[0;34m,\u001b[0m\u001b[0mjoão\u001b[0m\u001b[0;34m,\u001b[0m\u001b[0msilva\u001b[0m\u001b[0;34m,\u001b[0m\u001b[0msantos\u001b[0m\u001b[0;34m,\u001b[0m\u001b[0mmario\u001b[0m\u001b[0;34m,\u001b[0m\u001b[0mcarlos\u001b[0m\u001b[0;34m,\u001b[0m\u001b[0mmarly\u001b[0m\u001b[0;34m,\u001b[0m\u001b[0mxuxa\u001b[0m\u001b[0;34m,\u001b[0m\u001b[0mchica\u001b[0m\u001b[0;34m,\u001b[0m\u001b[0mzinha\u001b[0m\u001b[0;34m]\u001b[0m\u001b[0;34m\u001b[0m\u001b[0;34m\u001b[0m\u001b[0m\n\u001b[0m\u001b[1;32m      4\u001b[0m \u001b[0;34m\u001b[0m\u001b[0m\n\u001b[1;32m      5\u001b[0m \u001b[0mmeta\u001b[0m \u001b[0;34m=\u001b[0m \u001b[0;36m50\u001b[0m\u001b[0;34m\u001b[0m\u001b[0;34m\u001b[0m\u001b[0m\n",
      "\u001b[0;31mNameError\u001b[0m: name 'maria' is not defined"
     ]
    }
   ],
   "source": [
    "venda = [250,330,440,540,350,250,368,40,250,30,30,]\n",
    "\n",
    "vendedores = [maria,mara,joão,silva,santos,mario,carlos,marly,xuxa,chica,zinha]\n",
    "\n",
    "meta = 50\n",
    "\n",
    "\n",
    "i= 0\n",
    "\n",
    "\n",
    "while venda[i] > meta:\n",
    "  print('{}  a meta de vendas: {}'.format(vendedores[i], venda[i]))\n",
    "\n",
    "\n",
    "\n",
    "\n"
   ]
  },
  {
   "cell_type": "markdown",
   "id": "39f9a7fb",
   "metadata": {
    "id": "39f9a7fb"
   },
   "source": [
    "# Desafios de Treinamento em Python com o Loop While\n",
    "\n",
    "\n",
    "\n",
    "#### \"Desafios de Treinamento em Python com o Loop While\"! Você está prestes a embarcar em uma jornada emocionante para aprimorar suas habilidades de programação usando a linguagem Python. Os exercícios que apresentamos aqui foram projetados para proporcionar a você uma compreensão sólida e prática do loop while, uma ferramenta poderosa que permite que seu código execute repetidamente enquanto uma condição for verdadeira.\n",
    "\n",
    "#### À medida que você trabalha nesses exercícios, você estará mergulhando em situações do mundo real, resolvendo problemas e construindo soluções criativas usando o loop while. Essa é uma oportunidade incrível para fortalecer sua lógica de programação e sua capacidade de transformar conceitos abstratos em código funcional.\n",
    "\n",
    "##### Cada exercício apresenta uma situação desafiadora que requer o uso eficaz do loop while. Ao enfrentar esses desafios, você não apenas dominará os aspectos técnicos da linguagem Python, mas também desenvolverá uma abordagem analítica para resolver problemas complexos de maneira iterativa e estruturada.\n",
    "\n",
    "#### Lembre-se de que a prática é fundamental para aprimorar suas habilidades. Reserve um tempo para entender completamente cada exercício, experimentar diferentes abordagens e testar suas soluções. Se encontrar dificuldades, não hesite em pesquisar documentações, tutoriais e recursos online para obter insights adicionais."
   ]
  },
  {
   "cell_type": "code",
   "execution_count": 1,
   "id": "MagDtXJ5iR4Z",
   "metadata": {
    "colab": {
     "base_uri": "https://localhost:8080/"
    },
    "executionInfo": {
     "elapsed": 317,
     "status": "ok",
     "timestamp": 1691437576461,
     "user": {
      "displayName": "Johnny Braga",
      "userId": "03578342034079492651"
     },
     "user_tz": 180
    },
    "id": "MagDtXJ5iR4Z",
    "outputId": "0ae28f56-c6a1-45b7-d17b-c061dfc8f1a3"
   },
   "outputs": [
    {
     "name": "stdout",
     "output_type": "stream",
     "text": [
      "maria atingiu a meta de vendas: 250\n",
      "mara atingiu a meta de vendas: 330\n",
      "joão atingiu a meta de vendas: 440\n",
      "silva atingiu a meta de vendas: 540\n",
      "santos atingiu a meta de vendas: 350\n",
      "mario atingiu a meta de vendas: 250\n",
      "carlos atingiu a meta de vendas: 368\n",
      "xuxa atingiu a meta de vendas: 250\n"
     ]
    }
   ],
   "source": [
    "venda = [250, 330, 440, 540, 350, 250, 368, 40, 250, 30, 30]\n",
    "vendedores = ['maria', 'mara', 'joão', 'silva', 'santos', 'mario', 'carlos', 'marly', 'xuxa', 'chica', 'zinha']\n",
    "meta = 50\n",
    "\n",
    "i = 0\n",
    "\n",
    "while i < len(venda):\n",
    "    if venda[i] >= meta:\n",
    "        print('{} atingiu a meta de vendas: {}'.format(vendedores[i], venda[i]))\n",
    "    i += 1\n"
   ]
  },
  {
   "cell_type": "markdown",
   "id": "cb724eb6",
   "metadata": {
    "id": "cb724eb6"
   },
   "source": [
    "## Exercício 1: Contagem regressiva\n",
    "Situação Problema: Você está lançando um foguete espacial e deseja fazer uma contagem regressiva a partir de 10 até o lançamento. Escreva um programa que imprima os números de 30 a 1, indicando a contagem regressiva.\n",
    "\n"
   ]
  },
  {
   "cell_type": "code",
   "execution_count": 5,
   "id": "dca60fff",
   "metadata": {
    "id": "dca60fff"
   },
   "outputs": [
    {
     "name": "stdout",
     "output_type": "stream",
     "text": [
      "Lançamento em 30...\n",
      "Lançamento em 29...\n",
      "Lançamento em 28...\n",
      "Lançamento em 27...\n",
      "Lançamento em 26...\n",
      "Lançamento em 25...\n",
      "Lançamento em 24...\n",
      "Lançamento em 23...\n",
      "Lançamento em 22...\n",
      "Lançamento em 21...\n",
      "Lançamento em 20...\n",
      "Lançamento em 19...\n",
      "Lançamento em 18...\n",
      "Lançamento em 17...\n",
      "Lançamento em 16...\n",
      "Lançamento em 15...\n",
      "Lançamento em 14...\n",
      "Lançamento em 13...\n",
      "Lançamento em 12...\n",
      "Lançamento em 11...\n",
      "Lançamento em 10...\n",
      "Lançamento em 9...\n",
      "Lançamento em 8...\n",
      "Lançamento em 7...\n",
      "Lançamento em 6...\n",
      "Lançamento em 5...\n",
      "Lançamento em 4...\n",
      "Lançamento em 3...\n",
      "Lançamento em 2...\n",
      "Lançamento em 1...\n"
     ]
    }
   ],
   "source": [
    "contagem = 30\n",
    "\n",
    "while contagem > 0:\n",
    "    print(f\"Lançamento em {contagem}...\")\n",
    "    contagem -= 1"
   ]
  },
  {
   "cell_type": "markdown",
   "id": "59c8b30f",
   "metadata": {
    "id": "59c8b30f"
   },
   "source": [
    "### Exercício 2: Soma até certo limite\n",
    "Situação Problema: Você está jogando um jogo em que precisa somar números inteiros sequencialmente até que a soma ultrapasse 20. Escreva um programa que calcule e exiba a soma desses números.\n",
    "\n"
   ]
  },
  {
   "cell_type": "code",
   "execution_count": 12,
   "id": "718fd861",
   "metadata": {
    "id": "718fd861"
   },
   "outputs": [
    {
     "name": "stdout",
     "output_type": "stream",
     "text": [
      "Pontuação adquirida! +1 pontos...\n",
      "Pontuação adquirida! +2 pontos...\n",
      "Pontuação adquirida! +3 pontos...\n",
      "Pontuação adquirida! +4 pontos...\n",
      "Pontuação adquirida! +5 pontos...\n",
      "Pontuação adquirida! +6 pontos...\n",
      "Pontuação adquirida! +7 pontos...\n",
      "Pontuação adquirida! +8 pontos...\n",
      "Pontuação adquirida! +9 pontos...\n",
      "Pontuação adquirida! +10 pontos...\n",
      "Pontuação adquirida! +11 pontos...\n",
      "Pontuação adquirida! +12 pontos...\n",
      "Pontuação adquirida! +13 pontos...\n",
      "Pontuação adquirida! +14 pontos...\n",
      "Pontuação adquirida! +15 pontos...\n",
      "Pontuação adquirida! +16 pontos...\n",
      "Pontuação adquirida! +17 pontos...\n",
      "Pontuação adquirida! +18 pontos...\n",
      "Pontuação adquirida! +19 pontos...\n",
      "Pontuação adquirida! +20 pontos...\n",
      "Parabéns! Você ultrapassou a pontuação necessária!\n",
      "Pontuação adquirida! +21 pontos...\n",
      "Pontuação adquirida! +22 pontos...\n",
      "Pontuação adquirida! +23 pontos...\n",
      "Pontuação adquirida! +24 pontos...\n",
      "Pontuação adquirida! +25 pontos...\n"
     ]
    }
   ],
   "source": [
    "pontos = 0\n",
    "\n",
    "while pontos != 25:\n",
    "    pontos += 1\n",
    "    print(f\"Pontuação adquirida! +{pontos} pontos...\")\n",
    "    if(pontos == 20):\n",
    "        print(\"Parabéns! Você ultrapassou a pontuação necessária!\")"
   ]
  },
  {
   "cell_type": "markdown",
   "id": "d32b617c",
   "metadata": {
    "id": "d32b617c"
   },
   "source": [
    "### Exercício 3: Adivinhe o número\n",
    "Situação Problema: Você está brincando de adivinhar o número que um computador escolheu entre 1 e 100. Cada vez que você adivinha, o computador lhe dirá se o número é maior ou menor. Escreva um programa que permita que o jogador adivinhe o número e conte quantas tentativas foram necessárias.\n",
    "\n"
   ]
  },
  {
   "cell_type": "code",
   "execution_count": 20,
   "id": "3cc36712",
   "metadata": {
    "id": "3cc36712"
   },
   "outputs": [
    {
     "name": "stdout",
     "output_type": "stream",
     "text": [
      "Escolha um número! Ele é entre 1 e 100. Consegue adivinhar?\n"
     ]
    },
    {
     "name": "stdin",
     "output_type": "stream",
     "text": [
      "Faça várias tentativas; se quiser parar, digite ' 0 ': 5\n"
     ]
    },
    {
     "name": "stdout",
     "output_type": "stream",
     "text": [
      "5 não é o número secreto.\n",
      "O número secreto é MAIOR...\n"
     ]
    },
    {
     "name": "stdin",
     "output_type": "stream",
     "text": [
      "Escolha um outro número: 6\n"
     ]
    },
    {
     "name": "stdout",
     "output_type": "stream",
     "text": [
      "6 não é o número secreto.\n",
      "O número secreto é MAIOR...\n"
     ]
    },
    {
     "name": "stdin",
     "output_type": "stream",
     "text": [
      "Escolha um outro número: 7\n"
     ]
    },
    {
     "name": "stdout",
     "output_type": "stream",
     "text": [
      "7 não é o número secreto.\n",
      "O número secreto é MAIOR...\n"
     ]
    },
    {
     "name": "stdin",
     "output_type": "stream",
     "text": [
      "Escolha um outro número: 100\n"
     ]
    },
    {
     "name": "stdout",
     "output_type": "stream",
     "text": [
      "100 não é o número secreto.\n",
      "O número secreto é MENOR...\n"
     ]
    },
    {
     "name": "stdin",
     "output_type": "stream",
     "text": [
      "Escolha um outro número: 99\n"
     ]
    },
    {
     "name": "stdout",
     "output_type": "stream",
     "text": [
      "99 não é o número secreto.\n",
      "O número secreto é MENOR...\n"
     ]
    },
    {
     "name": "stdin",
     "output_type": "stream",
     "text": [
      "Escolha um outro número: 55\n"
     ]
    },
    {
     "name": "stdout",
     "output_type": "stream",
     "text": [
      "55 não é o número secreto.\n",
      "O número secreto é MENOR...\n"
     ]
    },
    {
     "name": "stdin",
     "output_type": "stream",
     "text": [
      "Escolha um outro número: 10\n"
     ]
    },
    {
     "name": "stdout",
     "output_type": "stream",
     "text": [
      "10 não é o número secreto.\n",
      "O número secreto é MAIOR...\n"
     ]
    },
    {
     "name": "stdin",
     "output_type": "stream",
     "text": [
      "Escolha um outro número: 12\n"
     ]
    },
    {
     "name": "stdout",
     "output_type": "stream",
     "text": [
      "12 não é o número secreto.\n",
      "O número secreto é MAIOR...\n"
     ]
    },
    {
     "name": "stdin",
     "output_type": "stream",
     "text": [
      "Escolha um outro número: 20\n"
     ]
    },
    {
     "name": "stdout",
     "output_type": "stream",
     "text": [
      "20 não é o número secreto.\n",
      "O número secreto é MAIOR...\n"
     ]
    },
    {
     "name": "stdin",
     "output_type": "stream",
     "text": [
      "Escolha um outro número: 30\n"
     ]
    },
    {
     "name": "stdout",
     "output_type": "stream",
     "text": [
      "30 não é o número secreto.\n",
      "O número secreto é MAIOR...\n"
     ]
    },
    {
     "name": "stdin",
     "output_type": "stream",
     "text": [
      "Escolha um outro número: 40\n"
     ]
    },
    {
     "name": "stdout",
     "output_type": "stream",
     "text": [
      "40 não é o número secreto.\n",
      "O número secreto é MAIOR...\n"
     ]
    },
    {
     "name": "stdin",
     "output_type": "stream",
     "text": [
      "Escolha um outro número: 50\n"
     ]
    },
    {
     "name": "stdout",
     "output_type": "stream",
     "text": [
      "50 não é o número secreto.\n",
      "O número secreto é MENOR...\n"
     ]
    },
    {
     "name": "stdin",
     "output_type": "stream",
     "text": [
      "Escolha um outro número: 44\n"
     ]
    },
    {
     "name": "stdout",
     "output_type": "stream",
     "text": [
      "44 não é o número secreto.\n",
      "O número secreto é MAIOR...\n"
     ]
    },
    {
     "name": "stdin",
     "output_type": "stream",
     "text": [
      "Escolha um outro número: 45\n"
     ]
    },
    {
     "name": "stdout",
     "output_type": "stream",
     "text": [
      "Você ACERTOU! O número secreto é 45!!! Parabéns!\n"
     ]
    }
   ],
   "source": [
    "import random\n",
    "numero = random.randint(1,100)\n",
    "#numero = 77\n",
    "\n",
    "print(\"Escolha um número! Ele é entre 1 e 100. Consegue adivinhar?\")\n",
    "escolha = int(input(\"Faça várias tentativas; se quiser parar, digite ' 0 ':\"))\n",
    "\n",
    "while escolha != numero:\n",
    "    if (escolha > numero):\n",
    "        print(f\"{escolha} não é o número secreto.\")\n",
    "        print(\"O número secreto é MENOR...\")\n",
    "    else:\n",
    "        print(f\"{escolha} não é o número secreto.\")\n",
    "        print(\"O número secreto é MAIOR...\")\n",
    "        \n",
    "    escolha = int(input(\"Escolha um outro número:\"))\n",
    "    \n",
    "    if(escolha == numero):\n",
    "        print(f\"Você ACERTOU! O número secreto é {numero}!!! Parabéns!\")\n",
    "    elif(escolha == 0):\n",
    "        print(\"Que pena! Tente novamente mais tarde! Obrigado por jogar.\")\n",
    "        break"
   ]
  },
  {
   "cell_type": "markdown",
   "id": "0e3b71f0",
   "metadata": {
    "id": "0e3b71f0"
   },
   "source": [
    "### Exercício 4: Tabuada\n",
    "Situação Problema: Você é um estudante tentando aprender a tabuada. Escreva um programa que peça um número ao usuário e, em seguida, exiba a tabuada desse número, de 1 a 10.\n",
    "\n"
   ]
  },
  {
   "cell_type": "code",
   "execution_count": null,
   "id": "a7bc5188",
   "metadata": {
    "id": "a7bc5188"
   },
   "outputs": [
    {
     "name": "stdin",
     "output_type": "stream",
     "text": [
      "Digite o número que deseja 2\n"
     ]
    },
    {
     "name": "stdout",
     "output_type": "stream",
     "text": [
      "2 x 0 = 0\n"
     ]
    },
    {
     "name": "stdin",
     "output_type": "stream",
     "text": [
      "Digite o número que deseja 3\n"
     ]
    },
    {
     "name": "stdout",
     "output_type": "stream",
     "text": [
      "3 x 1 = 3\n"
     ]
    }
   ],
   "source": [
    "numero = int(input(\"Digite o número que deseja\"))\n",
    "\n",
    "lista\n",
    "\n",
    "while tabuada < 11:\n",
    "    print(f\"{numero} x {tabuada} = {numero*tabuada}\")\n",
    "    tabuada += 1\n",
    "    \n",
    "    numero = int(input(\"Digite o número que deseja\"))"
   ]
  },
  {
   "cell_type": "markdown",
   "id": "e2a66077",
   "metadata": {
    "id": "e2a66077"
   },
   "source": [
    "### Exercício 5: Soma de números pares\n",
    "Situação Problema: Você está tentando calcular a soma de todos os números pares de 2 a 100. Escreva um programa que realize essa tarefa.\n",
    "\n"
   ]
  },
  {
   "cell_type": "code",
   "execution_count": null,
   "id": "31d1cff6",
   "metadata": {
    "id": "31d1cff6"
   },
   "outputs": [],
   "source": [
    "\n",
    "\n",
    "while par\n",
    "    somar = par + "
   ]
  },
  {
   "cell_type": "markdown",
   "id": "037a9f93",
   "metadata": {
    "id": "037a9f93"
   },
   "source": [
    "### Exercício 6: Média de números\n",
    "Situação Problema: Você é um professor que deseja calcular a média das notas de seus alunos. Escreva um programa que permita que o professor insira as notas dos alunos e calcule a média.\n",
    "\n"
   ]
  },
  {
   "cell_type": "code",
   "execution_count": 10,
   "id": "1620e4a6",
   "metadata": {
    "id": "1620e4a6"
   },
   "outputs": [
    {
     "name": "stdin",
     "output_type": "stream",
     "text": [
      "Bem-vindo ao lançamento de notas. Digite 'y' para começar. y\n",
      "Digite o nome do aluno(a):  Felipe\n",
      "Digite a PRIMEIRA NOTA:  8.5\n",
      "Digite a SEGUNDA NOTA:  9.0\n",
      "Digite a TERCEIRA NOTA:  7.5\n"
     ]
    },
    {
     "name": "stdout",
     "output_type": "stream",
     "text": [
      "O aluno(a): Felipe conseguiu a média de: 7.00.\n"
     ]
    },
    {
     "name": "stdin",
     "output_type": "stream",
     "text": [
      "Digite 'y' para continuar os lançamentos ou digite 'n' para sair do programa. y\n",
      "Digite o nome do aluno(a):  Ana\n",
      "Digite a PRIMEIRA NOTA:  9.0\n",
      "Digite a SEGUNDA NOTA:  7.5\n",
      "Digite a TERCEIRA NOTA:  6.5\n"
     ]
    },
    {
     "name": "stdout",
     "output_type": "stream",
     "text": [
      "O aluno(a): Ana conseguiu a média de: 7.00.\n"
     ]
    },
    {
     "name": "stdin",
     "output_type": "stream",
     "text": [
      "Digite 'y' para continuar os lançamentos ou digite 'n' para sair do programa. n\n"
     ]
    },
    {
     "name": "stdout",
     "output_type": "stream",
     "text": [
      "Obrigado por utilizar o nosso programa.\n"
     ]
    }
   ],
   "source": [
    "mensagem = input(\"Bem-vindo ao lançamento de notas. Digite 'y' para começar.\")\n",
    "\n",
    "while mensagem:\n",
    "    nome_aluno = input(\"\\nDigite o nome do aluno(a): \")\n",
    "    nota1 = float(input(\"Digite a PRIMEIRA NOTA: \"))\n",
    "    nota2 = float(input(\"Digite a SEGUNDA NOTA: \"))\n",
    "    nota3 = float(input(\"Digite a TERCEIRA NOTA: \"))\n",
    "    \n",
    "    mensagem = (nota1 + nota2 + nota3) / 3\n",
    "    print(f\"O aluno(a): {nome_aluno} conseguiu a média de: {media:.2f}.\")\n",
    "\n",
    "    mensagem = input(\"\\nDigite 'y' para continuar os lançamentos ou digite 'n' para sair do programa.\")\n",
    "    if (mensagem == 'n'):\n",
    "        print(\"\\nObrigado por utilizar o nosso programa.\")\n",
    "        break"
   ]
  },
  {
   "cell_type": "markdown",
   "id": "a9357fa1",
   "metadata": {
    "id": "a9357fa1"
   },
   "source": [
    "### Exercício 7: Fatorial\n",
    "Situação Problema: Você está resolvendo problemas matemáticos e precisa calcular o fatorial de um número inteiro. Escreva um programa que calcule e exiba o fatorial de um número dado.\n",
    "\n"
   ]
  },
  {
   "cell_type": "code",
   "execution_count": null,
   "id": "d2e14a06",
   "metadata": {
    "id": "d2e14a06"
   },
   "outputs": [],
   "source": []
  },
  {
   "cell_type": "markdown",
   "id": "a0150711",
   "metadata": {
    "id": "a0150711"
   },
   "source": [
    "### Exercício 8: Números primos\n",
    "Situação Problema: Você está explorando números primos e deseja verificar se um determinado número é primo. Escreva um programa que permita que o usuário insira um número e determine se ele é primo ou não.\n",
    "\n"
   ]
  },
  {
   "cell_type": "code",
   "execution_count": null,
   "id": "0d14fbb8",
   "metadata": {
    "id": "0d14fbb8"
   },
   "outputs": [],
   "source": []
  },
  {
   "cell_type": "markdown",
   "id": "f44c34b5",
   "metadata": {
    "id": "f44c34b5"
   },
   "source": [
    "### Exercício 9: Soma até ultrapassar valor\n",
    "Situação Problema: Você está tentando descobrir quantos números inteiros precisam ser somados sequencialmente até que a soma total seja maior que 100. Escreva um programa que realize esse cálculo.\n"
   ]
  },
  {
   "cell_type": "code",
   "execution_count": null,
   "id": "bf9de2aa",
   "metadata": {
    "id": "bf9de2aa"
   },
   "outputs": [],
   "source": []
  },
  {
   "cell_type": "markdown",
   "id": "9d8dca7a",
   "metadata": {
    "id": "9d8dca7a"
   },
   "source": [
    "\n",
    "### Exercício 10: Validando entrada numérica\n",
    "Situação Problema: Você está criando um programa que requer entrada numérica do usuário. No entanto, você deseja garantir que a entrada seja válida. Escreva um programa que solicite ao usuário um número e continue pedindo até que um número válido seja inserido.\n",
    "\n"
   ]
  },
  {
   "cell_type": "code",
   "execution_count": null,
   "id": "1ef94e86",
   "metadata": {
    "id": "1ef94e86"
   },
   "outputs": [],
   "source": []
  },
  {
   "cell_type": "markdown",
   "id": "c89c29ca",
   "metadata": {
    "id": "c89c29ca"
   },
   "source": [
    "### Exercício 11: Jogo de adivinhação com dicas\n",
    "Situação Problema: Você está jogando um jogo de adivinhação onde precisa adivinhar um número entre 1 e 100. O computador fornecerá dicas para orientar suas suposições. Escreva um programa que permita que você jogue esse jogo.\n",
    "\n"
   ]
  },
  {
   "cell_type": "code",
   "execution_count": null,
   "id": "f23e238a",
   "metadata": {
    "id": "f23e238a"
   },
   "outputs": [],
   "source": []
  },
  {
   "cell_type": "markdown",
   "id": "0a89370c",
   "metadata": {
    "id": "0a89370c"
   },
   "source": [
    "### Exercício 12: Contagem de vogais\n",
    "Situação Problema: Você está analisando palavras e deseja saber quantas vogais cada palavra contém. Escreva um programa que conte e exiba o número de vogais em uma palavra inserida pelo usuário.\n",
    "\n"
   ]
  },
  {
   "cell_type": "code",
   "execution_count": null,
   "id": "51b3893c",
   "metadata": {
    "id": "51b3893c"
   },
   "outputs": [],
   "source": []
  },
  {
   "cell_type": "markdown",
   "id": "4999df99",
   "metadata": {
    "id": "4999df99"
   },
   "source": [
    "### Exercício 13: Média de notas com validação\n",
    "Situação Problema: Você é um professor que deseja calcular a média das notas de seus alunos. No entanto, você também deseja validar as notas para garantir que estejam dentro de um intervalo adequado. Escreva um programa que permita que o professor insira as notas dos alunos, valide-as e calcule a média."
   ]
  },
  {
   "cell_type": "code",
   "execution_count": null,
   "id": "7e356ced",
   "metadata": {
    "id": "7e356ced"
   },
   "outputs": [],
   "source": []
  }
 ],
 "metadata": {
  "colab": {
   "provenance": []
  },
  "kernelspec": {
   "display_name": "Python [conda env:base] *",
   "language": "python",
   "name": "conda-base-py"
  },
  "language_info": {
   "codemirror_mode": {
    "name": "ipython",
    "version": 3
   },
   "file_extension": ".py",
   "mimetype": "text/x-python",
   "name": "python",
   "nbconvert_exporter": "python",
   "pygments_lexer": "ipython3",
   "version": "3.13.5"
  }
 },
 "nbformat": 4,
 "nbformat_minor": 5
}
