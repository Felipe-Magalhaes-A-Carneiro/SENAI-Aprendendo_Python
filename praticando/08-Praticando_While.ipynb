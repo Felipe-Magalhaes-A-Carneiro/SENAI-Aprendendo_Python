{
 "cells": [
  {
   "cell_type": "markdown",
   "id": "4e2a1b28",
   "metadata": {},
   "source": [
    "# Praticando o While\n",
    "\n",
    " Se determinada condição é verdadeira, o while é executado; quando a mesma condição definida passar a ser falsa, o while será finalizado e irá para a próxima etapa do código.\n",
    " O uso do loop While, em Python é feito da mesma maneira sintatica que o If."
   ]
  },
  {
   "cell_type": "code",
   "execution_count": 7,
   "id": "c39ded1f",
   "metadata": {},
   "outputs": [
    {
     "name": "stdout",
     "output_type": "stream",
     "text": [
      "Bem-vindo ao progrma de análise de números. Será que ele é par ou ímpar? Vamos descobrir...\n",
      "O número 5 é ÍMPAR!\n",
      "Total de números ÍMPARES: 1.\n",
      "O número 2 é PAR!\n",
      "Total números PARES: 1.\n",
      "O número 6 é PAR!\n",
      "Total números PARES: 2.\n",
      "O número 99 é ÍMPAR!\n",
      "Total de números ÍMPARES: 2.\n",
      "O número 77 é ÍMPAR!\n",
      "Total de números ÍMPARES: 3.\n",
      "O número 7 é ÍMPAR!\n",
      "Total de números ÍMPARES: 4.\n",
      "O número 5 é ÍMPAR!\n",
      "Total de números ÍMPARES: 5.\n",
      "O número 4 é PAR!\n",
      "Total números PARES: 3.\n",
      "O número 12 é PAR!\n",
      "Total números PARES: 4.\n",
      "\n",
      "------ TOTAL DE NÚMEROS ------\n",
      "\n",
      "O total de números ÍMPARES foi de 5.\n",
      "O total de números PARES foi de 4.\n"
     ]
    }
   ],
   "source": [
    "# Algoritmo: Um sistema que recebe números, define se ele é par ou ímpar e conta quantas vezes houveram esses números para cada caso\n",
    "# Author: Felipe Magalhães\n",
    "\n",
    "print(\"Bem-vindo ao progrma de análise de números. Será que ele é par ou ímpar? Vamos descobrir...\")\n",
    "\n",
    "contador_par = 0\n",
    "contador_impar = 0\n",
    "\n",
    "numero = int(input(\"Digite um número ou digite ' 0 ' para finalizar o programa.\"))\n",
    "\n",
    "while numero != 0:\n",
    "    if(numero % 2 == 1):\n",
    "        print(f\"O número {numero} é ÍMPAR!\")\n",
    "        contador_impar += 1\n",
    "        print(f\"Total de números ÍMPARES: {contador_impar}.\")\n",
    "        \n",
    "    else:\n",
    "        print(f\"O número {numero} é PAR!\")\n",
    "        contador_par += 1\n",
    "        print(f\"Total números PARES: {contador_par}.\")\n",
    "    \n",
    "    numero = int(input(\"Gostaria de continuar? Se sim, digite um número OU digite 0 para parar\"))\n",
    "\n",
    "print(\"\")\n",
    "print(\"-\" * 6, \"TOTAL DE NÚMEROS\", \"-\" * 6)\n",
    "print(\"\")\n",
    "print(f\"O total de números ÍMPARES foi de {contador_impar}.\")\n",
    "print(f\"O total de números PARES foi de {contador_par}.\")"
   ]
  },
  {
   "cell_type": "code",
   "execution_count": null,
   "id": "3e2a015f",
   "metadata": {},
   "outputs": [],
   "source": []
  }
 ],
 "metadata": {
  "kernelspec": {
   "display_name": "Python 3",
   "language": "python",
   "name": "python3"
  },
  "language_info": {
   "codemirror_mode": {
    "name": "ipython",
    "version": 3
   },
   "file_extension": ".py",
   "mimetype": "text/x-python",
   "name": "python",
   "nbconvert_exporter": "python",
   "pygments_lexer": "ipython3",
   "version": "3.12.4"
  }
 },
 "nbformat": 4,
 "nbformat_minor": 5
}
