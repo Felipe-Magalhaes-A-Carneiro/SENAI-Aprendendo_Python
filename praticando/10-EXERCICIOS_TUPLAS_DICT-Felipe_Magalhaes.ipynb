{
 "cells": [
  {
   "cell_type": "markdown",
   "id": "65b1ac8c-b151-46ea-a277-b51032099ed4",
   "metadata": {},
   "source": [
    "# Exercício 1: Tuplas\n",
    "## Tema: Pódio de Corrida\n",
    "\n",
    "Você tem uma tupla chamada podio com os nomes dos 5 primeiros colocados de uma corrida: (\"João\", \"Maria\", \"Ana\", \"Carlos\", \"Paulo\").\n",
    "Use o método index para descobrir em qual posição está o corredor chamado \"Ana\" e exiba o resultado.\n",
    "O corredor chamado \"Carlos\" foi desclassificado e não pode mais estar no pódio. Crie uma nova tupla sem o nome dele e exiba o novo pódio.\n",
    "Exemplo de saída esperada:\n",
    "\n",
    "Exemplo de saída:\n",
    "\n",
    "Ana ficou na posição 3.\n",
    "Novo pódio: ('João', 'Maria', 'Ana', 'Paulo')\n",
    "\n"
   ]
  },
  {
   "cell_type": "code",
   "execution_count": 21,
   "id": "2182ac42-ef3a-4f78-b850-b9293c5ced5d",
   "metadata": {},
   "outputs": [
    {
     "name": "stdout",
     "output_type": "stream",
     "text": [
      "Ana ficou na posição 3. Novo pódio:('João', 'Maria', 'Ana', 'Paulo')\n"
     ]
    }
   ],
   "source": [
    "# SEU CODIGO AQUI\n",
    "podio = (\"João\", \"Maria\", \"Ana\", \"Carlos\", \"Paulo\")\n",
    "\n",
    "posicao = podio.index(\"Ana\")\n",
    "\n",
    "novo_podio = (\"João\", \"Maria\", \"Ana\", \"Paulo\")\n",
    "\n",
    "print(f\"Ana ficou na posição {posicao+1}. Novo pódio:{novo_podio}\")"
   ]
  },
  {
   "cell_type": "markdown",
   "id": "f5139fcb-7ddb-4e37-b75f-6fc593a36968",
   "metadata": {},
   "source": [
    "# Exercício 2: Dicionários\n",
    "## Tema: Cadastro de Personagens de Jogo**\n",
    "\n",
    "Crie um dicionário chamado personagem com as seguintes informações:\n",
    "\n",
    "nome: \"Zelda\"\n",
    "poder: 80\n",
    "classe: \"Mago\"\n",
    "\n",
    "O personagem ganhou uma nova arma mágica. Adicione a chave \"arma\" com o valor \"Cajado dos Elementos\".\n",
    "Durante uma batalha, o poder do personagem foi aumentado. Atualize o poder para 95 usando o método update.\n",
    "\n",
    "Exiba o dicionário completo do personagem.\n",
    "\n",
    "O personagem perdeu sua arma mágica. Remova a chave \"arma\" usando o método pop e exiba o dicionário atualizado.\n",
    "Exemplo de saída esperada:\n",
    "\n",
    "Saída esperada:\n",
    "\n",
    "Personagem completo: {'nome': 'Zelda', 'poder': 95, 'classe': 'Mago', 'arma': 'Cajado dos Elementos'}\n",
    "Personagem atualizado: {'nome': 'Zelda', 'poder': 95, 'classe': 'Mago'}\n"
   ]
  },
  {
   "cell_type": "code",
   "execution_count": 51,
   "id": "39e8a69c-977c-431d-99b9-1dde2a7abce3",
   "metadata": {},
   "outputs": [
    {
     "name": "stdout",
     "output_type": "stream",
     "text": [
      "O personagem Zelda ganhou uma nova arma mágica.\n",
      "Arma adicionada: Cajado dos Elementos\n",
      "Durante uma batalha, o poder do personagem Zelda foi aumentado. Atualize o poder para 95 usando o método update.\n",
      "{'nome': 'Zelda', 'poder': 95, 'classe': 'Mago', 'arma': 'Cajado dos Elementos'}\n",
      "O personagem perdeu sua arma mágica. Remova a chave Cajado dos Elementos.\n",
      "{'nome': 'Zelda', 'poder': 95, 'classe': 'Mago'}\n"
     ]
    }
   ],
   "source": [
    "# SEU CODIGO AQUI\n",
    "personagem = {\n",
    "    \"nome\": \"Zelda\",\n",
    "    \"poder\": 80,\n",
    "    \"classe\": \"Mago\"\n",
    "}\n",
    "\n",
    "nome = personagem[\"nome\"]\n",
    "poder = personagem[\"poder\"]\n",
    "classe = personagem[\"classe\"]\n",
    "\n",
    "print(f\"O personagem {nome} ganhou uma nova arma mágica.\")\n",
    "\n",
    "personagem[\"arma\"] = \"Cajado dos Elementos\"\n",
    "print(f\"Arma adicionada: {arma}\")\n",
    "\n",
    "print(f\"Durante uma batalha, o poder do personagem {nome} foi aumentado. Atualize o poder para 95 usando o método update.\")\n",
    "experiencia = personagem = {\n",
    "    \"nome\": \"Zelda\",\n",
    "    \"poder\": 95,\n",
    "    \"classe\": \"Mago\",\n",
    "    \"arma\": \"Cajado dos Elementos\"\n",
    "}\n",
    "personagem.update(experiencia)  \n",
    "print(personagem)\n",
    "\n",
    "print(f\"O personagem perdeu sua arma mágica. A {arma} foi removida do seu inventário.\")\n",
    "personagem.pop(\"arma\")\n",
    "\n",
    "print(personagem)"
   ]
  },
  {
   "cell_type": "code",
   "execution_count": null,
   "id": "87003bdc-5e8f-4237-a432-66b94616b565",
   "metadata": {},
   "outputs": [],
   "source": []
  }
 ],
 "metadata": {
  "kernelspec": {
   "display_name": "Python [conda env:base] *",
   "language": "python",
   "name": "conda-base-py"
  },
  "language_info": {
   "codemirror_mode": {
    "name": "ipython",
    "version": 3
   },
   "file_extension": ".py",
   "mimetype": "text/x-python",
   "name": "python",
   "nbconvert_exporter": "python",
   "pygments_lexer": "ipython3",
   "version": "3.13.5"
  }
 },
 "nbformat": 4,
 "nbformat_minor": 5
}
