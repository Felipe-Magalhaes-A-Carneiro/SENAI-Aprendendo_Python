{
 "cells": [
  {
   "cell_type": "markdown",
   "id": "5a9ec263-e671-4837-8939-495a0ecf1431",
   "metadata": {},
   "source": [
    "# Exercícios\n",
    "\n",
    "CRIE UMA FUNÇÃO QUE RECEBA 3 NOTAS E RETORNE \n",
    "A MEDIA DAS NOTAS\n",
    "ELA PODE SE CHAMAR calcular_media\n",
    "\n",
    "FAÇA UM PROGRAMA QUE PEÇA PRO USUARIO DIGITAR AS NOTAS \n",
    "E IMPRIMA # A MÉDIA UTILIZANDO A FUNÇÃO"
   ]
  },
  {
   "cell_type": "code",
   "execution_count": 14,
   "id": "44b8fd2b-3a85-435f-bb37-b92feee2d2bb",
   "metadata": {},
   "outputs": [
    {
     "data": {
      "text/plain": [
       "10.0"
      ]
     },
     "execution_count": 14,
     "metadata": {},
     "output_type": "execute_result"
    }
   ],
   "source": [
    "def calcular_media(nota1, nota2, nota3):\n",
    "    media = (float(nota1) + float(nota2) + float(nota3)) / 3\n",
    "    return media\n",
    "\n",
    "calcular_media(10.0, 10.0, 10.0)"
   ]
  },
  {
   "cell_type": "code",
   "execution_count": null,
   "id": "7b119aa2-2231-4724-ba40-585d963c6890",
   "metadata": {},
   "outputs": [],
   "source": []
  }
 ],
 "metadata": {
  "kernelspec": {
   "display_name": "Python [conda env:base] *",
   "language": "python",
   "name": "conda-base-py"
  },
  "language_info": {
   "codemirror_mode": {
    "name": "ipython",
    "version": 3
   },
   "file_extension": ".py",
   "mimetype": "text/x-python",
   "name": "python",
   "nbconvert_exporter": "python",
   "pygments_lexer": "ipython3",
   "version": "3.13.5"
  }
 },
 "nbformat": 4,
 "nbformat_minor": 5
}
