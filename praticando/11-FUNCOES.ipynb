{
 "cells": [
  {
   "cell_type": "code",
   "execution_count": null,
   "id": "b4c1ac10-9dba-4312-95ab-be3b1426cad6",
   "metadata": {},
   "outputs": [],
   "source": [
    "# DESAFIO DE DICIONÁRIOS:\n",
    "# Crie um programa que implemente inicialmente uma lista vazia\n",
    "# chamada emprestimos. (serve pra registrar emprestimos de livros)\n",
    "# O programa então irá, em loop, perguntar sempre o usuario e o livro \n",
    "# que foi emprestado, criar um dicionario com estas duas informações e \n",
    "# fazer um append na lista.\n",
    "# para encerrar o programa, o usuario devera digitar SAIR no lugar do usuario\n",
    "# o programa entao fará outro loop para mostrar os dados de todos os emprestimos\n",
    "# dica1: vc precisara de 2 loops: um de cadastro e outro pra gerar o relatorio\n",
    "# dica2: lembre-se dos métodos .items(), .keys() e .values() e encontre o que melhor\n",
    "# servirá para sua lógica\n",
    "\n",
    "# EXEMPLO: como ficara a lista depois dos cadastros:\n",
    "emprestimos = [\n",
    "    {'usuario': 'anderson' , 'livro': 'o sol'},\n",
    "    {'usuario': 'nicolas' , 'livro': 'o mar'},\n",
    "    {'usuario': 'marcelo' , 'livro': 'a lua'},\n",
    "]\n",
    "\n",
    "**** RELATORIO ***\n",
    "usuario: anderson\n",
    "livro: o sol\n",
    "\n",
    "usuario: nicolas\n",
    "livro: o mar\n",
    "\n",
    "usuario: marcelo\n",
    "livro: a lua"
   ]
  }
 ],
 "metadata": {
  "kernelspec": {
   "display_name": "Python 3 (ipykernel)",
   "language": "python",
   "name": "python3"
  },
  "language_info": {
   "codemirror_mode": {
    "name": "ipython",
    "version": 3
   },
   "file_extension": ".py",
   "mimetype": "text/x-python",
   "name": "python",
   "nbconvert_exporter": "python",
   "pygments_lexer": "ipython3",
   "version": "3.13.5"
  }
 },
 "nbformat": 4,
 "nbformat_minor": 5
}
