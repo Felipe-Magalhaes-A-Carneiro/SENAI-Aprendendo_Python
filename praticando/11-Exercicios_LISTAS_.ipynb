{
 "cells": [
  {
   "cell_type": "markdown",
   "id": "fe872b31",
   "metadata": {
    "id": "fe872b31"
   },
   "source": [
    "# Exercícios - LISTAS\n",
    "\n",
    "### Neste conjunto de exercícios, você será desafiado a aplicar os conceitos aprendidos sobre listas em Python. Os exercícios abrangem operações como criação de listas, remoção de elementos, adição de itens, índices, uso de list comprehensions e muito mais. Siga as instruções de cada exercício e tente resolver utilizando apenas o código dentro do script."
   ]
  },
  {
   "cell_type": "markdown",
   "id": "ced88942",
   "metadata": {
    "id": "ced88942"
   },
   "source": [
    "### 1 - Crie uma lista contendo os nomes de 5 países. Peça ao usuário para inserir o nome de mais um país. Em seguida, verifique se o país fornecido pelo usuário está na lista e exiba uma mensagem informando se ele está ou não na lista."
   ]
  },
  {
   "cell_type": "code",
   "execution_count": 20,
   "id": "a0921d54",
   "metadata": {
    "id": "a0921d54"
   },
   "outputs": [
    {
     "name": "stdout",
     "output_type": "stream",
     "text": [
      "['Portugal', 'Italia', 'México', 'Argentina', 'Espanha']\n"
     ]
    },
    {
     "name": "stdin",
     "output_type": "stream",
     "text": [
      "Digite o nome de um país para adicionarmos na nossa lista:  Brasil\n"
     ]
    },
    {
     "name": "stdout",
     "output_type": "stream",
     "text": [
      "O país 'Brasil' foi adicionado em nossa lista:\n",
      "['Portugal', 'Italia', 'México', 'Argentina', 'Espanha', 'Brasil']\n"
     ]
    }
   ],
   "source": [
    "paises = [\"Portugal\", \"Italia\", \"México\", \"Argentina\", \"Espanha\"]\n",
    "print(\"Veja a nosa lista de países: \", paises)\n",
    "pais = input(\"Digite o nome de um país para adicionarmos na nossa lista: \")\n",
    "\n",
    "\n",
    "if(pais in paises):\n",
    "    print(f\"O país '{pais}' já está em nossa lista. Escolha outro\")\n",
    "    print(paises)\n",
    "else:\n",
    "    paises.append(pais)\n",
    "    print(f\"O país '{pais}' foi adicionado em nossa lista:\")\n",
    "    print(paises)\n"
   ]
  },
  {
   "cell_type": "markdown",
   "id": "e63dc0cd",
   "metadata": {
    "id": "e63dc0cd"
   },
   "source": [
    "### 2 - Crie uma lista contendo os preços de 5 produtos. Em seguida, calcule e exiba o preço médio desses produtos."
   ]
  },
  {
   "cell_type": "code",
   "execution_count": 33,
   "id": "fbe16db3",
   "metadata": {
    "id": "fbe16db3"
   },
   "outputs": [
    {
     "name": "stdout",
     "output_type": "stream",
     "text": [
      "[10.0, 25.0, 17.99, 55.0, 5.99]\n",
      "A média de valor dos produtos é R$22.80\n"
     ]
    }
   ],
   "source": [
    "produtos = [10.00, 25.00 , 17.99 , 55.00, 5.99]\n",
    "print(produtos)\n",
    "media = (produtos[0] + produtos[1] + produtos[2] + produtos[3] + produtos[4]) / len(produtos)\n",
    "\n",
    "print(f\"A média de valor dos produtos é R${media:.2f}\")\n"
   ]
  },
  {
   "cell_type": "markdown",
   "id": "a6c25a88",
   "metadata": {
    "id": "a6c25a88"
   },
   "source": [
    "  ### 3 - Crie uma lista com 5 cores diferentes. Peça ao usuário para inserir o nome de uma cor. Se a cor estiver na lista, remova-a e exiba a lista atualizada. Caso contrário, exiba uma mensagem informando que a cor não foi encontrada."
   ]
  },
  {
   "cell_type": "code",
   "execution_count": 36,
   "id": "0e451513",
   "metadata": {
    "id": "0e451513"
   },
   "outputs": [
    {
     "name": "stdin",
     "output_type": "stream",
     "text": [
      "Digite o nome de uma cor: Azul\n"
     ]
    },
    {
     "name": "stdout",
     "output_type": "stream",
     "text": [
      "['Laranja', 'Vermelho', 'Amarelo', 'Verde']\n"
     ]
    }
   ],
   "source": [
    "cores = [\"Laranja\", \"Vermelho\", \"Amarelo\", \"Azul\", \"Verde\"]\n",
    "cor = input(\"Digite o nome de uma cor:\")\n",
    "\n",
    "if(cor in cores):\n",
    "    cores.remove(cor)\n",
    "    print(cores)\n",
    "else:\n",
    "    print(f\"A cor escolhida: '{cor}' não foi encontra em nossa lista\")"
   ]
  },
  {
   "cell_type": "code",
   "execution_count": null,
   "id": "69d50d64-5fad-418b-a4cd-1361c7816382",
   "metadata": {},
   "outputs": [],
   "source": []
  }
 ],
 "metadata": {
  "colab": {
   "provenance": []
  },
  "kernelspec": {
   "display_name": "Python [conda env:base] *",
   "language": "python",
   "name": "conda-base-py"
  },
  "language_info": {
   "codemirror_mode": {
    "name": "ipython",
    "version": 3
   },
   "file_extension": ".py",
   "mimetype": "text/x-python",
   "name": "python",
   "nbconvert_exporter": "python",
   "pygments_lexer": "ipython3",
   "version": "3.13.5"
  }
 },
 "nbformat": 4,
 "nbformat_minor": 5
}
