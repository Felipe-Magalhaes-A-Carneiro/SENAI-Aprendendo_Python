{
 "cells": [
  {
   "cell_type": "markdown",
   "id": "17f1ec88-7b77-41f0-a9b1-fc3f4b2fa78e",
   "metadata": {},
   "source": [
    "# Tuplas\n",
    "\n",
    "Estrutura de Dados => Formas de armazenamento de Dados\n",
    "\n",
    "- São definidas usando parênteses ' ( ) ';\n",
    "- A Tupla necessita de um nome;\n",
    "- cada item é acessado pelo seu índice numérico (semelhante à Listas);\n",
    "- Tuplas são como Listas, mas a diferença entre Tuplas e a Lista, é que a Tupla é IMUTAVEL! \n",
    "\n",
    "Exemplo:\n",
    "\n",
    "frutas = (\"uva\", \"pera\")\n",
    "print(frutas[1]) \n",
    "\n",
    "*irá imprimir:*\n",
    "\n",
    "pera"
   ]
  },
  {
   "cell_type": "markdown",
   "id": "4dd38617-72bc-4eb2-a5b2-6cb15bc56db0",
   "metadata": {},
   "source": [
    "# Dicionários\n",
    "\n",
    "- São definidos usando chaves ' { } ';\n",
    "- necessita de um nome;\n",
    "- cada item tem = uma chave e o seu valor.\n",
    "\n",
    "Exemplo:\n",
    "\n",
    "dados = { nome: \"João\", idade: 30 }\n",
    "\n",
    "print(dados[nome])\n",
    "\n",
    "*irá imprimir:*\n",
    "\n",
    "João\n"
   ]
  },
  {
   "cell_type": "code",
   "execution_count": 3,
   "id": "66ed01fa-a415-43ea-b2a3-3638b114c89a",
   "metadata": {},
   "outputs": [
    {
     "name": "stdout",
     "output_type": "stream",
     "text": [
      "Jorge 20/05/2024 Iphone 14 3000\n"
     ]
    }
   ],
   "source": [
    "# Usando Tuplas\n",
    "\n",
    "venda = (\"Jorge\", \"20/05/2024\", \"Iphone 14\", 3000)\n",
    "\n",
    "# Como a Tupla é IMUTAVEL, essa é uma das formas de utilizar seus dados:\n",
    "nome = venda[0]\n",
    "data_venda = venda[1]\n",
    "produto = venda[2]\n",
    "valor = venda[3]\n",
    "\n",
    "print(nome, data_venda, produto, valor)"
   ]
  },
  {
   "cell_type": "code",
   "execution_count": 4,
   "id": "f6302f9d-2e36-4d07-8247-385137421699",
   "metadata": {},
   "outputs": [
    {
     "name": "stdout",
     "output_type": "stream",
     "text": [
      "Fiat Uno 1996 gasolina CBN8765\n"
     ]
    }
   ],
   "source": [
    "# Podemos utilizar o UNPACKING (Desempacotar) para pegar TODOS os itens da Tupla de uma só vez\n",
    "\n",
    "carro = (\"Fiat\", \"Uno\", \"1996\", \"gasolina\", \"CBN8765\") # 5 itens no total\n",
    "\n",
    "marca, modelo, ano, combustivel, placa = carro # 5 variaveis no total e na ordem que está declarado de acordo com a tupla. Isso é um UNPACKING\n",
    "\n",
    "print(marca, modelo, ano, combustivel, placa)"
   ]
  },
  {
   "cell_type": "code",
   "execution_count": 6,
   "id": "813127bc-d0f2-425d-afac-a3319914acd2",
   "metadata": {},
   "outputs": [
    {
     "ename": "ValueError",
     "evalue": "too many values to unpack (expected 4)",
     "output_type": "error",
     "traceback": [
      "\u001b[1;31m---------------------------------------------------------------------------\u001b[0m",
      "\u001b[1;31mValueError\u001b[0m                                Traceback (most recent call last)",
      "Cell \u001b[1;32mIn[6], line 5\u001b[0m\n\u001b[0;32m      1\u001b[0m \u001b[38;5;66;03m# Se você não usar o mesmo número de itens, o unpacking dará um ERRO:\u001b[39;00m\n\u001b[0;32m      3\u001b[0m carro2 \u001b[38;5;241m=\u001b[39m (\u001b[38;5;124m\"\u001b[39m\u001b[38;5;124mFiat\u001b[39m\u001b[38;5;124m\"\u001b[39m, \u001b[38;5;124m\"\u001b[39m\u001b[38;5;124mUno\u001b[39m\u001b[38;5;124m\"\u001b[39m, \u001b[38;5;124m\"\u001b[39m\u001b[38;5;124m1996\u001b[39m\u001b[38;5;124m\"\u001b[39m, \u001b[38;5;124m\"\u001b[39m\u001b[38;5;124mgasolina\u001b[39m\u001b[38;5;124m\"\u001b[39m, \u001b[38;5;124m\"\u001b[39m\u001b[38;5;124mCBN8765\u001b[39m\u001b[38;5;124m\"\u001b[39m) \u001b[38;5;66;03m# 5 itens no total\u001b[39;00m\n\u001b[1;32m----> 5\u001b[0m marca, modelo, ano, combustivel \u001b[38;5;241m=\u001b[39m carro2\n",
      "\u001b[1;31mValueError\u001b[0m: too many values to unpack (expected 4)"
     ]
    }
   ],
   "source": [
    "# Se você não usar o mesmo número de itens, o unpacking dará um ERRO:\n",
    "\n",
    "carro2 = (\"Fiat\", \"Uno\", \"1996\", \"gasolina\", \"CBN8765\") # 5 itens no total\n",
    "\n",
    "marca, modelo, ano, combustivel = carro2 #removemos a variavel 'placa', dando um erro! O mesmo se for o contrário, removendo um item e mantendo a variavel\n",
    "\n"
   ]
  },
  {
   "cell_type": "code",
   "execution_count": 7,
   "id": "b5039d38-1d4e-40ed-ab58-f6befc63c711",
   "metadata": {},
   "outputs": [
    {
     "ename": "ValueError",
     "evalue": "not enough values to unpack (expected 5, got 4)",
     "output_type": "error",
     "traceback": [
      "\u001b[1;31m---------------------------------------------------------------------------\u001b[0m",
      "\u001b[1;31mValueError\u001b[0m                                Traceback (most recent call last)",
      "Cell \u001b[1;32mIn[7], line 2\u001b[0m\n\u001b[0;32m      1\u001b[0m carro3 \u001b[38;5;241m=\u001b[39m (\u001b[38;5;124m\"\u001b[39m\u001b[38;5;124mFiat\u001b[39m\u001b[38;5;124m\"\u001b[39m, \u001b[38;5;124m\"\u001b[39m\u001b[38;5;124mUno\u001b[39m\u001b[38;5;124m\"\u001b[39m, \u001b[38;5;124m\"\u001b[39m\u001b[38;5;124m1996\u001b[39m\u001b[38;5;124m\"\u001b[39m, \u001b[38;5;124m\"\u001b[39m\u001b[38;5;124mgasolina\u001b[39m\u001b[38;5;124m\"\u001b[39m) \n\u001b[1;32m----> 2\u001b[0m marca, modelo, ano, combustivel, placa \u001b[38;5;241m=\u001b[39m carro3 \u001b[38;5;66;03m# O mesmo se for o contrário, removendo um item e mantendo a variavel\u001b[39;00m\n\u001b[0;32m      4\u001b[0m \u001b[38;5;28mprint\u001b[39m(marca, modelo, ano, combustivel, placa)\n",
      "\u001b[1;31mValueError\u001b[0m: not enough values to unpack (expected 5, got 4)"
     ]
    }
   ],
   "source": [
    "\n",
    "carro3 = (\"Fiat\", \"Uno\", \"1996\", \"gasolina\") \n",
    "marca, modelo, ano, combustivel, placa = carro3 # O mesmo se for o contrário, removendo um item e mantendo a variavel\n",
    "\n",
    "print(marca, modelo, ano, combustivel, placa)"
   ]
  },
  {
   "cell_type": "code",
   "execution_count": 11,
   "id": "9bb124b1-53c2-45d3-99bc-d7b54ad6a992",
   "metadata": {},
   "outputs": [
    {
     "name": "stdout",
     "output_type": "stream",
     "text": [
      "(0, 1000)\n",
      "(1, 2000)\n",
      "(2, 300)\n",
      "(3, 300)\n",
      "(4, 150)\n"
     ]
    }
   ],
   "source": [
    "# o enumerate deve ser usado em uma interavel e gera uma tupla de tuplas, onde o primeiro era o indice e o segundo item era o valor\n",
    "\n",
    "vendas = [1000, 2000, 300, 300, 150]\n",
    "\n",
    "for venda in enumerate(vendas):\n",
    "    print(venda)"
   ]
  },
  {
   "cell_type": "code",
   "execution_count": 13,
   "id": "c24ea6c3-2b1d-4b53-b318-913766cbb2ca",
   "metadata": {},
   "outputs": [
    {
     "name": "stdout",
     "output_type": "stream",
     "text": [
      "0\n",
      "1000\n",
      "João\n",
      "------\n",
      "1\n",
      "2000\n",
      "Lira\n",
      "------\n",
      "2\n",
      "300\n",
      "Ana\n",
      "------\n",
      "3\n",
      "300\n",
      "Maria\n",
      "------\n",
      "4\n",
      "150\n",
      "Paula\n",
      "------\n"
     ]
    }
   ],
   "source": [
    "# Exemplo do uso de Tuplas em Loops\n",
    "\n",
    "vendas = [1000, 2000, 300, 300, 150]\n",
    "funcionarios = [\"João\", \"Lira\", \"Ana\", \"Maria\", \"Paula\"]\n",
    "\n",
    "for item in enumerate(vendas):\n",
    "    i, vendas = item\n",
    "    print(i)\n",
    "    print(vendas)\n",
    "    print(funcionarios[i])\n",
    "    print(\"-\" * 6)"
   ]
  },
  {
   "cell_type": "code",
   "execution_count": 15,
   "id": "7eb1f191-cdae-476f-ae28-c73d03f604ba",
   "metadata": {},
   "outputs": [
    {
     "name": "stdout",
     "output_type": "stream",
     "text": [
      "0\n",
      "1000\n",
      "João\n",
      "------\n",
      "1\n",
      "2000\n",
      "Lira\n",
      "------\n",
      "2\n",
      "300\n",
      "Ana\n",
      "------\n",
      "3\n",
      "300\n",
      "Maria\n",
      "------\n",
      "4\n",
      "150\n",
      "Paula\n",
      "------\n"
     ]
    }
   ],
   "source": [
    "# UNPACKING 'fora' dor for, no momento da sua declaração\n",
    "\n",
    "vendas = [1000, 2000, 300, 300, 150]\n",
    "funcionarios = [\"João\", \"Lira\", \"Ana\", \"Maria\", \"Paula\"]\n",
    "\n",
    "for i, vendas in enumerate(vendas):\n",
    "    print(i)\n",
    "    print(vendas)\n",
    "    print(funcionarios[i])\n",
    "    print(\"-\" * 6)"
   ]
  },
  {
   "cell_type": "code",
   "execution_count": 22,
   "id": "2ae88673-8886-469c-ae99-8fff85dc75fa",
   "metadata": {},
   "outputs": [
    {
     "name": "stdout",
     "output_type": "stream",
     "text": [
      "O funcionário João vendeu 1000\n",
      "------------\n",
      "O funcionário Lira vendeu 2000\n",
      "------------\n",
      "O funcionário Ana vendeu 300\n",
      "------------\n",
      "O funcionário Maria vendeu 300\n",
      "------------\n",
      "O funcionário Paula vendeu 150\n",
      "------------\n"
     ]
    }
   ],
   "source": [
    "# DESAFIO - Faça com que ele imprima uma frase dizendo quanto o funcionário vendeu. A frase deve incluir o nome e o valor\n",
    "\n",
    "vendas = [1000, 2000, 300, 300, 150]\n",
    "funcionarios = [\"João\", \"Lira\", \"Ana\", \"Maria\", \"Paula\"]\n",
    "\n",
    "for i, vendas in enumerate(vendas):\n",
    "    print(f\"O funcionário {funcionarios[i]} vendeu {vendas}\")\n",
    "    print(\"-\" * 32)\n"
   ]
  },
  {
   "cell_type": "code",
   "execution_count": null,
   "id": "6f368663-6e5c-45d7-a150-6ae6ebaa2e85",
   "metadata": {},
   "outputs": [],
   "source": []
  }
 ],
 "metadata": {
  "kernelspec": {
   "display_name": "Python [conda env:base] *",
   "language": "python",
   "name": "conda-base-py"
  },
  "language_info": {
   "codemirror_mode": {
    "name": "ipython",
    "version": 3
   },
   "file_extension": ".py",
   "mimetype": "text/x-python",
   "name": "python",
   "nbconvert_exporter": "python",
   "pygments_lexer": "ipython3",
   "version": "3.13.5"
  }
 },
 "nbformat": 4,
 "nbformat_minor": 5
}
