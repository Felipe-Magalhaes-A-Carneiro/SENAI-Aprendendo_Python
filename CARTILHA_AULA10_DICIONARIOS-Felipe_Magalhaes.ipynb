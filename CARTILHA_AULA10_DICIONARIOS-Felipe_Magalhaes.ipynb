{
 "cells": [
  {
   "cell_type": "markdown",
   "id": "cc2db94e-dbf1-45f8-8e24-a5a3f41230b4",
   "metadata": {},
   "source": [
    "# Dicionário"
   ]
  },
  {
   "cell_type": "code",
   "execution_count": 3,
   "id": "6163b356-d1ef-4ed4-8d1f-a69cff6311c1",
   "metadata": {},
   "outputs": [
    {
     "name": "stdout",
     "output_type": "stream",
     "text": [
      "João\n"
     ]
    }
   ],
   "source": [
    "\n",
    "# Dicionário vazio\n",
    "dicionario_vazio = {}\n",
    "\n",
    "# Dicionário com dados\n",
    "dicionario = {\"nome\": \"João\", \"idade\": 25, \"cidade\": \"São Paulo\"}\n",
    "\n",
    "print(dicionario[\"nome\"]) # acessando dado em um dicionario"
   ]
  },
  {
   "cell_type": "code",
   "execution_count": 4,
   "id": "3c30d007-e9f8-4fde-a600-bf72e1ee3c15",
   "metadata": {},
   "outputs": [
    {
     "name": "stdout",
     "output_type": "stream",
     "text": [
      "João\n"
     ]
    }
   ],
   "source": [
    "# Exemplo do mesmo caso, mas com Lista\n",
    "\n",
    "lista = [\"João\", 25, \"São Paulo\"]\n",
    "\n",
    "print(lista[0]) # acessando dado em uma lista"
   ]
  },
  {
   "cell_type": "code",
   "execution_count": 5,
   "id": "1924ba60-5364-4aee-8ab3-cda0c9584717",
   "metadata": {},
   "outputs": [
    {
     "name": "stdout",
     "output_type": "stream",
     "text": [
      "O Alquimista\n"
     ]
    }
   ],
   "source": [
    "mais_vendidos = {\n",
    "    \"tecnologia\": \"iphone\",\n",
    "    \"refrigeracao\": \"ar consul 100btu\",\n",
    "    \"livros\": \"O Alquimista\"\n",
    "}\n",
    "\n",
    "livro = mais_vendidos[\"livros\"]\n",
    "\n",
    "print(livro)"
   ]
  },
  {
   "cell_type": "code",
   "execution_count": 7,
   "id": "160946ef-ee6b-4c33-afc8-2472cc79c96b",
   "metadata": {},
   "outputs": [
    {
     "name": "stdout",
     "output_type": "stream",
     "text": [
      "O Alquimista\n"
     ]
    }
   ],
   "source": [
    "# outra forma de acessar => uso do método .get()\n",
    "\n",
    "print(mais_vendidos.get(\"livros\"))"
   ]
  },
  {
   "cell_type": "code",
   "execution_count": 11,
   "id": "80bd00ec-a352-4f2c-a9ff-a4b9a4026431",
   "metadata": {},
   "outputs": [
    {
     "ename": "KeyError",
     "evalue": "'cd'",
     "output_type": "error",
     "traceback": [
      "\u001b[1;31m---------------------------------------------------------------------------\u001b[0m",
      "\u001b[1;31mKeyError\u001b[0m                                  Traceback (most recent call last)",
      "Cell \u001b[1;32mIn[11], line 3\u001b[0m\n\u001b[0;32m      1\u001b[0m \u001b[38;5;66;03m# forçar uma falha com colchetes []\u001b[39;00m\n\u001b[1;32m----> 3\u001b[0m \u001b[38;5;28mprint\u001b[39m(mais_vendidos[\u001b[38;5;124m\"\u001b[39m\u001b[38;5;124mcd\u001b[39m\u001b[38;5;124m\"\u001b[39m])\n",
      "\u001b[1;31mKeyError\u001b[0m: 'cd'"
     ]
    }
   ],
   "source": [
    "# forçar uma falha com colchetes []\n",
    "\n",
    "print(mais_vendidos[\"cd\"])"
   ]
  },
  {
   "cell_type": "code",
   "execution_count": 12,
   "id": "2054f2b2-2faf-4506-80a5-641ce71a020f",
   "metadata": {},
   "outputs": [
    {
     "name": "stdout",
     "output_type": "stream",
     "text": [
      "None\n"
     ]
    }
   ],
   "source": [
    "# forçando erro com .get\n",
    "\n",
    "print(mais_vendidos.get(\"cd\")) # .get() possui uma condição dentro dela, quando der errado dará 'None'"
   ]
  },
  {
   "cell_type": "code",
   "execution_count": 14,
   "id": "208116d2-905e-4bca-9bf6-e3c252236bf9",
   "metadata": {},
   "outputs": [
    {
     "name": "stdout",
     "output_type": "stream",
     "text": [
      "{'Ruy': 1000, 'Alex': 2000, 'Nick': 3000}\n"
     ]
    }
   ],
   "source": [
    "# atualizando os valores do dicionario\n",
    "vendas_vendedores = {'Ruy': 1000, 'Alex': 2000, 'Nick': 3000}\n",
    "\n",
    "print(vendas_vendedores)"
   ]
  },
  {
   "cell_type": "code",
   "execution_count": 15,
   "id": "5de3b586-3083-4a5c-b006-2d43e35a5826",
   "metadata": {},
   "outputs": [
    {
     "name": "stdout",
     "output_type": "stream",
     "text": [
      "{'Ruy': 1000, 'Alex': 2000, 'Nick': 3000, 'Leo': 2500}\n"
     ]
    }
   ],
   "source": [
    "# atualizando os valores do dicionario. Como fazer:\n",
    "vendas_vendedores['Leo'] = 2500\n",
    "\n",
    "print(vendas_vendedores)"
   ]
  },
  {
   "cell_type": "code",
   "execution_count": 16,
   "id": "1f660e20-6f65-4f7c-a3b6-3d28ee9c4f9a",
   "metadata": {},
   "outputs": [
    {
     "name": "stdout",
     "output_type": "stream",
     "text": [
      "{'Ruy': 5000, 'Alex': 2000, 'Nick': 3000, 'Leo': 2500}\n"
     ]
    }
   ],
   "source": [
    "# É possível atualizar algo que já esta dentro do dicionario\n",
    "vendas_vendedores['Ruy'] = 5000\n",
    "\n",
    "print(vendas_vendedores)"
   ]
  },
  {
   "cell_type": "code",
   "execution_count": 17,
   "id": "94398c24-ad06-4529-9f8d-d40d2c45a825",
   "metadata": {},
   "outputs": [
    {
     "name": "stdout",
     "output_type": "stream",
     "text": [
      "{'Ruy': 5000, 'Alex': 3000, 'Nick': 3000, 'Leo': 2500}\n"
     ]
    }
   ],
   "source": [
    "# utilizando metodo .update()\n",
    "vendas_vendedores.update({'Alex': 3000}) # vantagem de usar o .update() é que você pode atualizar mais de um item do dicionario\n",
    "\n",
    "print(vendas_vendedores)"
   ]
  },
  {
   "cell_type": "code",
   "execution_count": 18,
   "id": "d024357a-0fe5-40ff-9b6d-b5bb100aa7dc",
   "metadata": {},
   "outputs": [
    {
     "name": "stdout",
     "output_type": "stream",
     "text": [
      "{'Ruy': 5000, 'Alex': 3000, 'Nick': 3000, 'Leo': 1000, 'Nic': 3500}\n"
     ]
    }
   ],
   "source": [
    "vendas_vendedores.update({'Nic': 3500, 'Leo': 1000}) # vantagem de usar o .update() é que você pode atualizar mais de um item do dicionario\n",
    "\n",
    "print(vendas_vendedores)"
   ]
  },
  {
   "cell_type": "code",
   "execution_count": 19,
   "id": "15547b1f-a2ce-4918-a3d6-de1f726c2b6e",
   "metadata": {},
   "outputs": [
    {
     "data": {
      "text/plain": [
       "('Nic', 3500)"
      ]
     },
     "execution_count": 19,
     "metadata": {},
     "output_type": "execute_result"
    }
   ],
   "source": [
    "# iterando sobre os dicionários\n",
    "\n",
    "vendas_vendedores.popitem() # irá tirar o ultimo item (ele usa o indice -1), no nosso caso, o Nic que foi adicionado"
   ]
  },
  {
   "cell_type": "code",
   "execution_count": 20,
   "id": "0de464cb-93e2-452a-8a8d-bc7ea10a2f00",
   "metadata": {},
   "outputs": [
    {
     "name": "stdout",
     "output_type": "stream",
     "text": [
      "{'Ruy': 5000, 'Alex': 3000, 'Nick': 3000, 'Leo': 1000}\n"
     ]
    }
   ],
   "source": [
    "print(vendas_vendedores)"
   ]
  },
  {
   "cell_type": "code",
   "execution_count": 21,
   "id": "1e8c3cd3-82c5-4777-b2bf-be92d56180da",
   "metadata": {},
   "outputs": [
    {
     "name": "stdout",
     "output_type": "stream",
     "text": [
      "{'Alex': 3000, 'Nick': 3000, 'Leo': 1000}\n"
     ]
    }
   ],
   "source": [
    "# .pop() irá tirar o item que você deseja, usando o nome como argumento para tal\n",
    "vendas_vendedores.pop('Ruy')\n",
    "\n",
    "print(vendas_vendedores)"
   ]
  },
  {
   "cell_type": "code",
   "execution_count": 24,
   "id": "ef4d36ba-2788-455c-ad66-d459db2f8cc0",
   "metadata": {},
   "outputs": [
    {
     "name": "stdout",
     "output_type": "stream",
     "text": [
      "dict_keys(['Alex', 'Nick', 'Leo'])\n"
     ]
    }
   ],
   "source": [
    "# keys - retorna SÓ as chaves do seu dicionario\n",
    "\n",
    "print(vendas_vendedores.keys())\n"
   ]
  },
  {
   "cell_type": "code",
   "execution_count": 25,
   "id": "d372cac6-87a4-464e-899b-19b5595cc571",
   "metadata": {},
   "outputs": [
    {
     "name": "stdout",
     "output_type": "stream",
     "text": [
      "dict_values([3000, 3000, 1000])\n"
     ]
    }
   ],
   "source": [
    "# values => trará apenas os valores\n",
    "print(vendas_vendedores.values())"
   ]
  },
  {
   "cell_type": "code",
   "execution_count": 26,
   "id": "b7b6c8d3-c74f-4395-8953-beddecf1cdd5",
   "metadata": {},
   "outputs": [
    {
     "name": "stdout",
     "output_type": "stream",
     "text": [
      "dict_items([('Alex', 3000), ('Nick', 3000), ('Leo', 1000)])\n"
     ]
    }
   ],
   "source": [
    "print(vendas_vendedores.items()) # entenda ele como o enumerate() do for"
   ]
  },
  {
   "cell_type": "code",
   "execution_count": 27,
   "id": "9795761d-931c-4046-9e99-a84740549dca",
   "metadata": {},
   "outputs": [
    {
     "name": "stdout",
     "output_type": "stream",
     "text": [
      "O vendedor Alex vendeu 3000\n",
      "O vendedor Nick vendeu 3000\n",
      "O vendedor Leo vendeu 1000\n"
     ]
    }
   ],
   "source": [
    "# uso com o for\n",
    "\n",
    "for vendedor, venda in vendas_vendedores.items():\n",
    "    print(f\"O vendedor {vendedor} vendeu {venda}\")"
   ]
  },
  {
   "cell_type": "code",
   "execution_count": 29,
   "id": "962a019d-98df-4d7a-b497-474bfa83e070",
   "metadata": {},
   "outputs": [
    {
     "name": "stdout",
     "output_type": "stream",
     "text": [
      "usuario: Anderson\n",
      "livro: O Sol\n"
     ]
    }
   ],
   "source": [
    "emprestimo = { 'usuario': 'Anderson', 'livro': 'O Sol'}\n",
    "\n",
    "for chave, valor in emprestimo.items():\n",
    "    print(f\"{chave}: {valor}\")"
   ]
  },
  {
   "cell_type": "code",
   "execution_count": 30,
   "id": "e9602510-d5fa-4948-87e9-998951d20656",
   "metadata": {},
   "outputs": [
    {
     "name": "stdout",
     "output_type": "stream",
     "text": [
      "usuario: Anderson\n",
      "Livro: O Sol\n",
      "nota: 10\n",
      "comentarios: muito bom!\n"
     ]
    }
   ],
   "source": [
    "avaliacao_livro = { \n",
    "    'usuario': 'Anderson', \n",
    "    'Livro': 'O Sol',\n",
    "    'nota': '10',\n",
    "    'comentarios': 'muito bom!'\n",
    "}\n",
    "\n",
    "for chave, valor in avaliacao_livro.items():\n",
    "    print(f\"{chave}: {valor}\")"
   ]
  },
  {
   "cell_type": "markdown",
   "id": "51fd19a4-dd75-4249-9e2a-cafbe57be3bc",
   "metadata": {},
   "source": [
    "# DESAFIO\n",
    "\n",
    "Faça uma lógica de impressão de relatorio que intere a lista de dicionarios abaixo e imprima todos os dados de todos os empréstimos.\n",
    "DICA: Pegue o código abaixo que intera o empréstimo e coloque dentro de outro for que irá inteirar sobre cada item da lista emprestimos"
   ]
  },
  {
   "cell_type": "code",
   "execution_count": 35,
   "id": "6a253b1a-5d9b-4fe0-a3be-712065cae265",
   "metadata": {},
   "outputs": [
    {
     "name": "stdout",
     "output_type": "stream",
     "text": [
      "usuario: Anderson\n",
      "livro: O Sol\n",
      "usuario: André\n",
      "livro: O Mar\n",
      "usuario: Antonio\n",
      "livro: A Lua\n",
      "usuario: Altair\n",
      "livro: A Vida\n"
     ]
    }
   ],
   "source": [
    "emprestimo = [\n",
    "    { 'usuario': 'Anderson', 'livro': 'O Sol'},\n",
    "    { 'usuario': 'André', 'livro': 'O Mar'},\n",
    "    { 'usuario': 'Antonio', 'livro': 'A Lua'},\n",
    "    { 'usuario': 'Altair', 'livro': 'A Vida'}\n",
    "]\n",
    "for registro in emprestimo:\n",
    "    for chave, valor in registro.items():\n",
    "        print(f\"{chave}: {valor}\")"
   ]
  },
  {
   "cell_type": "code",
   "execution_count": null,
   "id": "187fc295-7405-42af-8d89-5740e2fb34d7",
   "metadata": {},
   "outputs": [],
   "source": []
  }
 ],
 "metadata": {
  "kernelspec": {
   "display_name": "Python [conda env:base] *",
   "language": "python",
   "name": "conda-base-py"
  },
  "language_info": {
   "codemirror_mode": {
    "name": "ipython",
    "version": 3
   },
   "file_extension": ".py",
   "mimetype": "text/x-python",
   "name": "python",
   "nbconvert_exporter": "python",
   "pygments_lexer": "ipython3",
   "version": "3.13.5"
  }
 },
 "nbformat": 4,
 "nbformat_minor": 5
}
