{
 "cells": [
  {
   "cell_type": "markdown",
   "id": "e1549cbf-d6a1-4152-b9fc-e9353668c080",
   "metadata": {},
   "source": [
    "### Revisão da aula anteriores:\n",
    "\n",
    "- print() => imprime na tela;\n",
    "- string, int, float, bool => tipos de dados;\n",
    "- str(), int(), float(), bool() => funções para converter tipos de dados;\n",
    "- ( + - * / // % ) => operadores aritméticos (servem para fazer cálculos);\n",
    "- ( == < <= => > != ) => operadores de comparação (servem para fazer uma 'afirmação' - teste lógico)"
   ]
  },
  {
   "cell_type": "markdown",
   "id": "411244d6-123e-4fd2-83c0-4f4675802c35",
   "metadata": {},
   "source": [
    "### Variáveis\n",
    "\n",
    "- As variáveis são como 'caixas' que guardam um valor na memória RAM do computador;\n",
    "- Uma variável sempre vai ter um NOME(rótulo) e o VALOR que carrega;\n",
    "    - O NOME serve para o programador saber o que tem lá dentro;\n",
    "        - Sempre use nomes curtos e objetivos indicando o que está armazenado naquela variável \n",
    "    - O VALOR é quem sempre será acessado e utilizado pelo seu programa;\n"
   ]
  },
  {
   "cell_type": "code",
   "execution_count": 1,
   "id": "63365726-9a24-4bbf-8409-fc78f3415f0e",
   "metadata": {},
   "outputs": [
    {
     "name": "stdout",
     "output_type": "stream",
     "text": [
      "Olá, Mundo!\n"
     ]
    }
   ],
   "source": [
    "mensagem = \"Olá, Mundo!\"\n",
    "\n",
    "print(mensagem)"
   ]
  },
  {
   "cell_type": "code",
   "execution_count": 2,
   "id": "946ad9a0-9183-4a56-abef-d8a7d28166ad",
   "metadata": {},
   "outputs": [
    {
     "name": "stdout",
     "output_type": "stream",
     "text": [
      "Oláaaaaaaaa, Mundooooooooo!\n"
     ]
    }
   ],
   "source": [
    "mensagem = \"Oláaaaaaaaa, Mundooooooooo!\" \n",
    "\n",
    "print(mensagem)"
   ]
  },
  {
   "cell_type": "code",
   "execution_count": 5,
   "id": "0c14e363-dec3-4b72-a382-638b595f8203",
   "metadata": {},
   "outputs": [
    {
     "name": "stdout",
     "output_type": "stream",
     "text": [
      "Felipe 32\n"
     ]
    }
   ],
   "source": [
    "nome = \"Felipe\"\n",
    "idade = str(32)\n",
    "\n",
    "print(nome , idade)"
   ]
  },
  {
   "cell_type": "code",
   "execution_count": null,
   "id": "0d805d5d-5f46-4c9f-8a26-224c821f93c7",
   "metadata": {},
   "outputs": [
    {
     "name": "stdout",
     "output_type": "stream",
     "text": [
      "Felipe 32\n"
     ]
    }
   ],
   "source": [
    "# 03-Conversão temporária => apenas no momento da usa impressão\n",
    "nome = \"Felipe\"\n",
    "idade = 32\n",
    "\n",
    "print(nome + str(idade))"
   ]
  },
  {
   "cell_type": "code",
   "execution_count": null,
   "id": "d8c4014f-6266-4f4c-b9f3-4543267f5827",
   "metadata": {},
   "outputs": [
    {
     "name": "stdout",
     "output_type": "stream",
     "text": [
      "Felipe 32\n"
     ]
    }
   ],
   "source": [
    "# 04-Conversão com vírgula ' , '\n",
    "nome = \"Felipe\"\n",
    "idade = 32\n",
    "\n",
    "print(nome , str(idade)) # Obs.: A conversão com ' , ' não necessita que os tipos de dados no argumento sejam todos do mesmo tipo, como é o caso da concatenação ' + '"
   ]
  },
  {
   "cell_type": "code",
   "execution_count": 9,
   "id": "71680698-b42c-47e1-b7dc-1f86d97ca9df",
   "metadata": {},
   "outputs": [
    {
     "name": "stdout",
     "output_type": "stream",
     "text": [
      "80\n"
     ]
    }
   ],
   "source": [
    "# usando variáveis de forma mais robusta\n",
    "preco = 100\n",
    "desconto = 20\n",
    "\n",
    "print(preco - desconto)"
   ]
  },
  {
   "cell_type": "code",
   "execution_count": 11,
   "id": "e4ca6c8a-5723-429d-9709-64256c30d516",
   "metadata": {},
   "outputs": [
    {
     "name": "stdout",
     "output_type": "stream",
     "text": [
      "O preço final do produto é:  80\n"
     ]
    }
   ],
   "source": [
    "# usando variáveis de forma mais robusta\n",
    "preco = 100\n",
    "desconto = 20\n",
    "preco_final = str(preco - desconto)\n",
    "\n",
    "print(\"O preço final do produto é: \" , preco_final)"
   ]
  },
  {
   "cell_type": "code",
   "execution_count": 2,
   "id": "dee2af3a-e61a-44b1-a5ac-4a91553621fd",
   "metadata": {},
   "outputs": [
    {
     "name": "stdout",
     "output_type": "stream",
     "text": [
      "160.0\n"
     ]
    }
   ],
   "source": [
    "preconovo = 200\n",
    "desconto_percentual = 0.2\n",
    "\n",
    "precofinal_comdesconto = (preconovo * ( 1 - desconto_percentual))\n",
    "print(precofinal_comdesconto)"
   ]
  },
  {
   "cell_type": "code",
   "execution_count": 3,
   "id": "101bfc47-9046-464b-87be-8bf9697df28b",
   "metadata": {},
   "outputs": [
    {
     "name": "stdout",
     "output_type": "stream",
     "text": [
      "<class 'float'>\n",
      "<class 'str'>\n",
      "<class 'int'>\n"
     ]
    }
   ],
   "source": [
    "# Usar o método type() para retornar o tipo de dado declarado\n",
    "\n",
    "print(type(precofinal_comdesconto))\n",
    "print(type(nome))\n",
    "print(type(idade))"
   ]
  },
  {
   "cell_type": "markdown",
   "id": "25821faf-e692-4a6a-8248-0e8111099f35",
   "metadata": {},
   "source": [
    "## Entrada de dados com input()"
   ]
  },
  {
   "cell_type": "code",
   "execution_count": 1,
   "id": "3a8dafd6-a10e-47e4-aa53-89257d2dc059",
   "metadata": {},
   "outputs": [
    {
     "name": "stdout",
     "output_type": "stream",
     "text": [
      "O seu nome é: Felipe\n"
     ]
    }
   ],
   "source": [
    "# uso do input() => função de recebimento de dados e que possuí o retorno dado pelo usuário\n",
    "\n",
    "nome2 = input(\"Digite o seu nome: \") # Ao usar uma variável e atribui-la a uma função input(), permitimos que esta armazene a informação que é dada pelo usuário\n",
    "print(\"O seu nome é:\", nome2)"
   ]
  },
  {
   "cell_type": "code",
   "execution_count": null,
   "id": "b81e8b1c-af67-4923-b1c4-e2e83b70fa1a",
   "metadata": {},
   "outputs": [
    {
     "name": "stdout",
     "output_type": "stream",
     "text": [
      "O numero 80 em binário é 1010000\n"
     ]
    }
   ],
   "source": [
    "# Transformar um valor em seu estado binário\n",
    "numero = 80\n",
    "\n",
    "print(\"O numero 80 em binário é {:b}\".format(numero))"
   ]
  },
  {
   "cell_type": "code",
   "execution_count": null,
   "id": "7ef64653-9912-4d51-921b-2f7ae2d4a6af",
   "metadata": {},
   "outputs": [],
   "source": []
  }
 ],
 "metadata": {
  "kernelspec": {
   "display_name": "Python 3",
   "language": "python",
   "name": "python3"
  },
  "language_info": {
   "codemirror_mode": {
    "name": "ipython",
    "version": 3
   },
   "file_extension": ".py",
   "mimetype": "text/x-python",
   "name": "python",
   "nbconvert_exporter": "python",
   "pygments_lexer": "ipython3",
   "version": "3.12.4"
  }
 },
 "nbformat": 4,
 "nbformat_minor": 5
}
