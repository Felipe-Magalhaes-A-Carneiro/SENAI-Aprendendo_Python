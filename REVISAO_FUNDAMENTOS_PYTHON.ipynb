{
 "cells": [
  {
   "cell_type": "markdown",
   "id": "0ba0031a-93ee-4f81-8944-928b76df68ac",
   "metadata": {},
   "source": [
    "# Revisão"
   ]
  },
  {
   "cell_type": "code",
   "execution_count": 1,
   "id": "7f324b69-1534-49ec-bc59-36dee33a990f",
   "metadata": {},
   "outputs": [
    {
     "name": "stdout",
     "output_type": "stream",
     "text": [
      "['pera', 'maca', 'uva']\n"
     ]
    }
   ],
   "source": [
    "# Listas\n",
    "frutas = [\"pera\", \"maca\", \"uva\"]\n",
    "\n",
    "print(frutas)"
   ]
  },
  {
   "cell_type": "code",
   "execution_count": 2,
   "id": "77626e1c-e5f4-4ca8-9a46-2892919355d9",
   "metadata": {},
   "outputs": [
    {
     "name": "stdout",
     "output_type": "stream",
     "text": [
      "maca\n"
     ]
    }
   ],
   "source": [
    "print(frutas[1])"
   ]
  },
  {
   "cell_type": "code",
   "execution_count": 3,
   "id": "ffa2d95c-fb4b-4766-bf40-6897d62e2dc0",
   "metadata": {},
   "outputs": [
    {
     "name": "stdout",
     "output_type": "stream",
     "text": [
      "['pera', 'maca', 'uva', 'melancia']\n"
     ]
    }
   ],
   "source": [
    "frutas.append(\"melancia\")\n",
    "\n",
    "print(frutas)"
   ]
  },
  {
   "cell_type": "code",
   "execution_count": 6,
   "id": "ea9a94ad-adc3-4665-b693-de713ac38e7e",
   "metadata": {},
   "outputs": [
    {
     "data": {
      "text/plain": [
       "'melancia'"
      ]
     },
     "execution_count": 6,
     "metadata": {},
     "output_type": "execute_result"
    }
   ],
   "source": [
    "frutas.pop(2) # método pop necessita do indice (ou seja posição) do valor na lista"
   ]
  },
  {
   "cell_type": "code",
   "execution_count": 5,
   "id": "47bb99ce-324d-4188-b66d-69858e4e14cc",
   "metadata": {},
   "outputs": [
    {
     "name": "stdout",
     "output_type": "stream",
     "text": [
      "['pera', 'maca', 'melancia']\n"
     ]
    }
   ],
   "source": [
    "print(frutas)"
   ]
  },
  {
   "cell_type": "code",
   "execution_count": null,
   "id": "0a360dd0-e4ce-40e7-9b8b-a4c5453529ac",
   "metadata": {},
   "outputs": [],
   "source": [
    "# caso você nqueira remover algo pelo valor, utilize o método .remove()\n",
    "frutas.remove(\"pera\")"
   ]
  },
  {
   "cell_type": "code",
   "execution_count": 9,
   "id": "1003db6d-f3d6-40c4-8516-80e1ab392c4f",
   "metadata": {},
   "outputs": [
    {
     "name": "stdout",
     "output_type": "stream",
     "text": [
      "['maca']\n"
     ]
    }
   ],
   "source": [
    "print(frutas)"
   ]
  },
  {
   "cell_type": "code",
   "execution_count": 11,
   "id": "adbb3a2e-280a-480f-a5c9-966c897c78eb",
   "metadata": {},
   "outputs": [
    {
     "data": {
      "text/plain": [
       "0"
      ]
     },
     "execution_count": 11,
     "metadata": {},
     "output_type": "execute_result"
    }
   ],
   "source": [
    "# caso você não saiba a posição de um elemento, utilize o método .index()\n",
    "frutas.index(\"maca\")"
   ]
  },
  {
   "cell_type": "markdown",
   "id": "6774c5d7-2d62-4a97-97e2-820b66946268",
   "metadata": {},
   "source": [
    "# LOOPS"
   ]
  },
  {
   "cell_type": "markdown",
   "id": "eb1ec6be-b77a-4187-9b2d-75d9daa00d9b",
   "metadata": {},
   "source": [
    "Loopr FOR\n",
    "1- uso quando quero repetir um codigo um numero N de vezes.\n",
    "Eu posso usar o valor 'variavel' do contador dentro do bloco\n",
    "A cada volta, o nome do for irá receber o valor conforme a volta que ele dá"
   ]
  },
  {
   "cell_type": "code",
   "execution_count": 13,
   "id": "f3e2aef5-5e43-4a66-b4b3-3d01173f049b",
   "metadata": {},
   "outputs": [
    {
     "name": "stdout",
     "output_type": "stream",
     "text": [
      "0\n",
      "1\n",
      "2\n",
      "3\n",
      "4\n",
      "5\n",
      "6\n",
      "7\n",
      "8\n",
      "9\n"
     ]
    }
   ],
   "source": [
    "for n in range(10): # sintaxe básica do for => o nome dado para o for (no caso n), recebe o valor da volta estabelecida pela função range()\n",
    "    print(n) "
   ]
  },
  {
   "cell_type": "code",
   "execution_count": 14,
   "id": "ef18295e-48e7-48a6-8c50-8c3bb4044eff",
   "metadata": {},
   "outputs": [],
   "source": [
    "# note que o argumento da função range() está 10, mas a função print() vai até o 9; isso porque o for considera o 0 como numero de início e não o 1"
   ]
  },
  {
   "cell_type": "code",
   "execution_count": 18,
   "id": "d0997968-19b0-473c-9a62-2c0c98a6a7ef",
   "metadata": {},
   "outputs": [
    {
     "name": "stdout",
     "output_type": "stream",
     "text": [
      "Eu sou a 1a. volta do for.\n",
      "-------------------------\n",
      "Eu sou a 2a. volta do for.\n",
      "-------------------------\n",
      "Eu sou a 3a. volta do for.\n",
      "-------------------------\n",
      "Eu sou a 4a. volta do for.\n",
      "-------------------------\n",
      "Eu sou a 5a. volta do for.\n",
      "-------------------------\n",
      "Eu sou a 6a. volta do for.\n",
      "-------------------------\n",
      "Eu sou a 7a. volta do for.\n",
      "-------------------------\n",
      "Eu sou a 8a. volta do for.\n",
      "-------------------------\n",
      "Eu sou a 9a. volta do for.\n",
      "-------------------------\n",
      "Eu sou a 10a. volta do for.\n",
      "-------------------------\n"
     ]
    }
   ],
   "source": [
    "for n in range(10):\n",
    "    print(f\"Eu sou a {n + 1}a. volta do for.\")\n",
    "    print(\"-\" * 25)"
   ]
  },
  {
   "cell_type": "code",
   "execution_count": 19,
   "id": "7986af62-b55f-4ab6-ab66-e17e96328ea9",
   "metadata": {},
   "outputs": [
    {
     "name": "stdout",
     "output_type": "stream",
     "text": [
      "uno\n",
      "gol\n",
      "147\n",
      "ka\n",
      "tigra\n"
     ]
    }
   ],
   "source": [
    "# 2- forma => Usando for para percorrer listas, tuplas ou dicionários (conhecidos como interáveis)\n",
    "\n",
    "carros = ('uno', 'gol', '147', 'ka', 'tigra')\n",
    "\n",
    "for carro in carros: # usar o termo no singular, por bom senso, como no caso queremos cada carro dentro de 'carros'. criamos uma boa prática com isso\n",
    "    print(carro)"
   ]
  },
  {
   "cell_type": "code",
   "execution_count": 22,
   "id": "4f21831a-fbae-4d81-acc3-aec8319c6a88",
   "metadata": {},
   "outputs": [
    {
     "name": "stdout",
     "output_type": "stream",
     "text": [
      "O for agora está no item: uno\n",
      "------------------------------\n",
      "O for agora está no item: gol\n",
      "------------------------------\n",
      "O for agora está no item: 147\n",
      "------------------------------\n",
      "O for agora está no item: ka\n",
      "------------------------------\n",
      "O for agora está no item: tigra\n",
      "------------------------------\n"
     ]
    }
   ],
   "source": [
    "carros = ('uno', 'gol', '147', 'ka', 'tigra')\n",
    "\n",
    "for carro in carros: # usar o termo no singular,\n",
    "    print(f\"O for agora está no item: {carro}\")\n",
    "    print(\"-\" * 30)"
   ]
  },
  {
   "cell_type": "markdown",
   "id": "de787699-fbce-4c70-b4fc-9df9fc14489c",
   "metadata": {},
   "source": [
    "# WHILE\n",
    "\n",
    "Irá executar o loop ENQUANTO (WHILE) uma dada condição for VERDADEIRA\n",
    "ATENÇÃO => Você DEVE garantir que a condição ficará em algum momento FALSA, caso o contrário você irá criar um 'loop infinito' (nada bom para a sua máquina)"
   ]
  },
  {
   "cell_type": "code",
   "execution_count": 31,
   "id": "da8cb4e7-0394-4c1d-ab8f-1568ed3f5fb3",
   "metadata": {},
   "outputs": [
    {
     "name": "stdin",
     "output_type": "stream",
     "text": [
      "\n",
      "Digite o número e vou lhe dizer o dobro. Dê um 'Enter' para parar. 4\n"
     ]
    },
    {
     "name": "stdout",
     "output_type": "stream",
     "text": [
      "Você digitou 4. O dobro é 8\n",
      "------------------------------\n"
     ]
    },
    {
     "name": "stdin",
     "output_type": "stream",
     "text": [
      "Digite outro número ou dê um 'Enter' para parar. 8\n"
     ]
    },
    {
     "name": "stdout",
     "output_type": "stream",
     "text": [
      "Você digitou 8. O dobro é 16\n",
      "------------------------------\n"
     ]
    },
    {
     "name": "stdin",
     "output_type": "stream",
     "text": [
      "Digite outro número ou dê um 'Enter' para parar. 2\n"
     ]
    },
    {
     "name": "stdout",
     "output_type": "stream",
     "text": [
      "Você digitou 2. O dobro é 4\n",
      "------------------------------\n"
     ]
    },
    {
     "name": "stdin",
     "output_type": "stream",
     "text": [
      "Digite outro número ou dê um 'Enter' para parar. 9\n"
     ]
    },
    {
     "name": "stdout",
     "output_type": "stream",
     "text": [
      "Você digitou 9. O dobro é 18\n",
      "------------------------------\n"
     ]
    },
    {
     "name": "stdin",
     "output_type": "stream",
     "text": [
      "Digite outro número ou dê um 'Enter' para parar. \n"
     ]
    },
    {
     "name": "stdout",
     "output_type": "stream",
     "text": [
      "--------------------------------------------------------------------------------------------------------------\n",
      "Programa finalziado ao digitar 'Enter', criando um None (Nada). O While foi encerrado, alterado a sua condição\n"
     ]
    }
   ],
   "source": [
    "num = input(\"\\nDigite o número e vou lhe dizer o dobro. Dê um 'Enter' para parar.\")\n",
    "\n",
    "while (num != ''):\n",
    "    print(f\"Você digitou {num}. O dobro é {int(num) * 2}\")\n",
    "    print(\"-\" * 30)\n",
    "    num = input(\"Digite outro número ou dê um 'Enter' para parar.\")\n",
    "\n",
    "print(\"-\" * 110)\n",
    "print(\"Programa finalziado ao digitar 'Enter', criando um None (Nada). O While foi encerrado, alterado a sua condição\")"
   ]
  },
  {
   "cell_type": "code",
   "execution_count": 33,
   "id": "6c45cb7c-d553-4e24-9192-27e334aaae6c",
   "metadata": {},
   "outputs": [
    {
     "name": "stdin",
     "output_type": "stream",
     "text": [
      "\n",
      "Digite o número e vou lhe dizer o dobro. Dê um 'Enter' para parar. 5\n"
     ]
    },
    {
     "name": "stdout",
     "output_type": "stream",
     "text": [
      "O número digitado foi 5\n"
     ]
    },
    {
     "name": "stdin",
     "output_type": "stream",
     "text": [
      "\n",
      "Digite outro número. 1\n"
     ]
    },
    {
     "name": "stdout",
     "output_type": "stream",
     "text": [
      "O número digitado foi 1\n"
     ]
    },
    {
     "name": "stdin",
     "output_type": "stream",
     "text": [
      "\n",
      "Digite outro número. 2\n"
     ]
    },
    {
     "name": "stdout",
     "output_type": "stream",
     "text": [
      "O número digitado foi 2\n"
     ]
    },
    {
     "name": "stdin",
     "output_type": "stream",
     "text": [
      "\n",
      "Digite outro número. 9\n"
     ]
    },
    {
     "name": "stdout",
     "output_type": "stream",
     "text": [
      "O número digitado foi 9\n"
     ]
    },
    {
     "name": "stdin",
     "output_type": "stream",
     "text": [
      "\n",
      "Digite outro número. \n"
     ]
    },
    {
     "name": "stdout",
     "output_type": "stream",
     "text": [
      "Programa finalziado ao digitar 'Enter', criando um None (Nada). O While foi encerrado, alterado a sua condição\n"
     ]
    }
   ],
   "source": [
    "# 2 fomra de usar o While => O While True\n",
    "# Esta técnica trata-se de criar propositalmente um loop infinito, e dentro do bloco de instruções dele, em algum lugar,\n",
    "# haverá um break para interromper o loop\n",
    "\n",
    "num = input(\"\\nDigite o número e vou lhe dizer o dobro. Dê um 'Enter' para parar.\")\n",
    "\n",
    "while True:\n",
    "    if num == '':\n",
    "        break\n",
    "    else:\n",
    "        print(f\"O número digitado foi {num}\")\n",
    "        num = input(\"\\nDigite outro número.\")\n",
    "\n",
    "print(\"Programa finalziado ao digitar 'Enter', criando um None (Nada). O While foi encerrado, alterado a sua condição\")\n"
   ]
  },
  {
   "cell_type": "markdown",
   "id": "51b26e68-5238-4470-9c23-ded4499c0883",
   "metadata": {},
   "source": [
    "# TUPLAS => Interando uma lista de tuplas"
   ]
  },
  {
   "cell_type": "code",
   "execution_count": 37,
   "id": "fa1498a4-3e5a-4df3-a448-6fde9a89b4da",
   "metadata": {},
   "outputs": [
    {
     "name": "stdout",
     "output_type": "stream",
     "text": [
      "Nova York\n",
      "\n",
      "    ----------\n",
      "    HEROI: Superman\n",
      "    PODER: Super-Força\n",
      "    IDENTIDADE: Clark Kent\n",
      "    CIDADE: Metropolis\n",
      "    ----------\n",
      "\n",
      "    \n",
      "\n",
      "    ----------\n",
      "    HEROI: Batman\n",
      "    PODER: Inteligência\n",
      "    IDENTIDADE: Bruce Wayne\n",
      "    CIDADE: Gothan City\n",
      "    ----------\n",
      "\n",
      "    \n",
      "\n",
      "    ----------\n",
      "    HEROI: Homem-Aranha\n",
      "    PODER: Agilidade e força\n",
      "    IDENTIDADE: Peter Parker\n",
      "    CIDADE: Nova York\n",
      "    ----------\n",
      "\n",
      "    \n"
     ]
    }
   ],
   "source": [
    "# Criando uma lista de tuplas\n",
    "# interando e usando o UNPACKING\n",
    "\n",
    "herois = [\n",
    "    (\"Superman\", \"Super-Força\", \"Clark Kent\", \"Metropolis\"),\n",
    "    (\"Batman\", \"Inteligência\", \"Bruce Wayne\", \"Gothan City\"),\n",
    "    (\"Homem-Aranha\", \"Agilidade e força\", \"Peter Parker\", \"Nova York\")\n",
    "]\n",
    "\n",
    "print(herois[2][3])\n",
    "\n",
    "for heroi in herois:\n",
    "    nome, poder, identidade, cidade = heroi\n",
    "    print(f\"\"\"\n",
    "    {\"-\" * 10}\n",
    "    HEROI: {nome}\n",
    "    PODER: {poder}\n",
    "    IDENTIDADE: {identidade}\n",
    "    CIDADE: {cidade}\n",
    "    {\"-\" * 10}\n",
    "\n",
    "    \"\"\")"
   ]
  },
  {
   "cell_type": "code",
   "execution_count": null,
   "id": "6ce9a291-c2c4-4cfa-987d-8a4a2f112fd8",
   "metadata": {},
   "outputs": [],
   "source": []
  }
 ],
 "metadata": {
  "kernelspec": {
   "display_name": "Python [conda env:base] *",
   "language": "python",
   "name": "conda-base-py"
  },
  "language_info": {
   "codemirror_mode": {
    "name": "ipython",
    "version": 3
   },
   "file_extension": ".py",
   "mimetype": "text/x-python",
   "name": "python",
   "nbconvert_exporter": "python",
   "pygments_lexer": "ipython3",
   "version": "3.13.5"
  }
 },
 "nbformat": 4,
 "nbformat_minor": 5
}
