{
 "cells": [
  {
   "cell_type": "code",
   "execution_count": 7,
   "id": "a9cc0519-ee51-49c8-961b-43a512e247ae",
   "metadata": {},
   "outputs": [
    {
     "name": "stdout",
     "output_type": "stream",
     "text": [
      "Avaliação Escolar\n",
      "Aluno REPROVADO!\n"
     ]
    }
   ],
   "source": [
    "nota = 4\n",
    "\n",
    "if(nota > 5):\n",
    "    print(\"Avaliação Escolar\")\n",
    "    print(\"Aluno Aprovado!\")\n",
    "else:\n",
    "    print(\"Avaliação Escolar\")\n",
    "    print(\"Aluno REPROVADO!\")\n",
    "\n",
    "# ATENÇÃO: No Python, a identação é OBRIGATÓRIA!"
   ]
  },
  {
   "cell_type": "markdown",
   "id": "b7ce6c30-31c6-4d91-8b9b-2f122e52c43a",
   "metadata": {},
   "source": [
    "## DESAFIO RELÂMPAGO\n",
    "\n",
    "A loja Marabrás pediu um programa que autorize automaticamente o vendedor da loja a dar um desconto na venda de produtos. \n",
    "\n",
    "A lógica de funcionamento do programa é o seguinte:abs\n",
    "- o programa pede para o usuário (vendedor) digitar o nome do produto;\n",
    "- o preço da etiqueta e o preço proposto pelo cliente;\n",
    "- Se o preço proposto for até 15% abaixo do preço de lista, o programa deverá exibir uma mensagem dizendo:\n",
    "- \"Desconto Aprovado - Volte Sempre\"\n",
    "- Se não o programa exibirá uma mensagem dizendo que o valor não foi aprovado e informando o preço minímo é possível fazer(ou seja com 15% off)\n",
    "\n",
    "- DICA: Faça primeiro a lógica, resolva o problema e depois faça o código!"
   ]
  },
  {
   "cell_type": "code",
   "execution_count": 16,
   "id": "0385d8cb-ad83-49e8-bc6b-7bf01b473243",
   "metadata": {},
   "outputs": [
    {
     "name": "stdin",
     "output_type": "stream",
     "text": [
      "Digite o nome do produto:  mOUSE\n",
      "Digite o preço do produto:  100\n",
      "Digite o preço PROPOSTO do produto pelo cliente:  75.00\n"
     ]
    },
    {
     "name": "stdout",
     "output_type": "stream",
     "text": [
      "O valor NÃO foi aprovado” - O recomendado é preço o mínimo de até R$85.00 (ou seja, com 15% de desconto).\n"
     ]
    }
   ],
   "source": [
    "produto = input(\"Digite o nome do produto: \")\n",
    "\n",
    "preco = float(input(\"Digite o preço do produto: \"))\n",
    "preco_proposto = float(input(\"Digite o preço PROPOSTO do produto pelo cliente: \"))\n",
    "\n",
    "analise_preco = preco * .85\n",
    "\n",
    "if(preco_proposto >= analise_preco):\n",
    "    print(\"Desconto Aprovado - Volte Sempre\")\n",
    "else:\n",
    "    print(f\"O valor NÃO foi aprovado” - O recomendado é preço o mínimo de até R${analise_preco:.2f} (ou seja, com 15% de desconto).\")"
   ]
  },
  {
   "cell_type": "markdown",
   "id": "42154d7a-3b6d-4403-a651-081cc70592c1",
   "metadata": {},
   "source": [
    "## Aumento de Condições"
   ]
  },
  {
   "cell_type": "code",
   "execution_count": 23,
   "id": "40c2f5e7-f152-475e-8070-d96fb7d409c9",
   "metadata": {},
   "outputs": [
    {
     "name": "stdout",
     "output_type": "stream",
     "text": [
      "Time Paissandu é o campeão! Por número de vitórias!\n"
     ]
    }
   ],
   "source": [
    "time1 = \"Paissandu\"\n",
    "time2 = \"Juventus\"\n",
    "\n",
    "pontuacao_time1 = 100\n",
    "pontuacao_time2 = 100\n",
    "\n",
    "vitorias_time1 = 50\n",
    "vitorias_time2 = 48\n",
    "\n",
    "# Checar primeiro se as pontuações são diferentes\n",
    "if(pontuacao_time1 != pontuacao_time2):\n",
    "    if(pontuacao_time > pontuacao_time2): # if interno => só executa se o if anterior for verdadeiro\n",
    "        print(f\"Time {time1} é o campeão!\")\n",
    "    else:\n",
    "        print(f\"Time {time2} é o campeão!\")\n",
    "else:\n",
    "    if(vitorias_time1 > vitorias_time2):\n",
    "        print(f\"Time {time1} é o campeão! Por número de vitórias!\")\n",
    "    else:\n",
    "        print(f\"Time {time2} é o campeão! Por número de vitórias!\")\n",
    "    \n"
   ]
  },
  {
   "cell_type": "markdown",
   "id": "365aea13-65db-4071-a351-54f68354d58d",
   "metadata": {},
   "source": [
    "## DESAFIO RELÂMPAGO\n",
    "\n",
    "Incremente o codigo abaixo para avaliar mais um criterio de desempate, caso o numero de vitorias também seja igual, ele deverá avaliar o saldo de gols"
   ]
  },
  {
   "cell_type": "code",
   "execution_count": 25,
   "id": "944a23ca-d868-4bd8-add8-610f93253364",
   "metadata": {},
   "outputs": [
    {
     "name": "stdout",
     "output_type": "stream",
     "text": [
      "Time Juventus é o campeão! Pelo SALDO de gols!\n"
     ]
    }
   ],
   "source": [
    "time1 = \"Paissandu\"\n",
    "time2 = \"Juventus\"\n",
    "\n",
    "pontuacao_time1 = 100\n",
    "pontuacao_time2 = 100\n",
    "\n",
    "vitorias_time1 = 50\n",
    "vitorias_time2 = 50\n",
    "\n",
    "saldo_gols_time1 = 4\n",
    "saldo_gols_time2 = 5\n",
    "\n",
    "#gols_marcados_time1 =\n",
    "#gols_marcados_time2 =\n",
    "\n",
    "\n",
    "# Checar primeiro se as pontuações são diferentes\n",
    "if(pontuacao_time1 != pontuacao_time2):\n",
    "    if(pontuacao_time > pontuacao_time2): # if interno => só executa se o if anterior for verdadeiro\n",
    "        print(f\"Time {time1} é o campeão!\")\n",
    "    else:\n",
    "        print(f\"Time {time2} é o campeão!\")\n",
    "else:\n",
    "    if(vitorias_time1 != vitorias_time2):\n",
    "        if(vitorias_time1 > vitorias_time2):\n",
    "            print(f\"Time {time1} é o campeão! Pelo Numero de VITÓRIAS de gols!\")\n",
    "        else: \n",
    "            print(f\"Time {time2} é o campeão! Pelo Numero de VITÓRIAS de gols!\")\n",
    "    else:\n",
    "        if(saldo_gols_time1 > saldo_gols_time2):\n",
    "            print(f\"Time {time1} é o campeão! Pelo SALDO de gols!\")\n",
    "        else:\n",
    "            print(f\"Time {time2} é o campeão! Pelo SALDO de gols!\")\n",
    "    \n"
   ]
  },
  {
   "cell_type": "markdown",
   "id": "e6d7e859-c649-405a-a3e2-2dc1bd33efa8",
   "metadata": {},
   "source": [
    "## Mais condições"
   ]
  },
  {
   "cell_type": "code",
   "execution_count": 27,
   "id": "dcbcb8ef-9535-47fb-a754-142e9e1a8264",
   "metadata": {},
   "outputs": [],
   "source": [
    "time1 = \"Paissandu\"\n",
    "time2 = \"Juventus\"\n",
    "\n",
    "pontuacao_time1 = 100\n",
    "pontuacao_time2 = 100\n",
    "\n",
    "vitorias_time1 = 50\n",
    "vitorias_time2 = 50\n",
    "\n",
    "saldo_gols_time1 = 5\n",
    "saldo_gols_time2 = 4\n",
    "\n",
    "gols_marcados_time1 = 2\n",
    "gols_marcados_time2 = 0\n",
    "\n",
    "\n",
    "# Checar primeiro se as pontuações são diferentes\n",
    "if(pontuacao_time1 != pontuacao_time2):\n",
    "    if(pontuacao_time > pontuacao_time2): # if interno => só executa se o if anterior for verdadeiro\n",
    "        print(f\"Time {time1} é o campeão!\")\n",
    "    else:\n",
    "        print(f\"Time {time2} é o campeão!\")\n",
    "else:\n",
    "    if(vitorias_time1 != vitorias_time2):\n",
    "        if(vitorias_time1 > vitorias_time2):\n",
    "            print(f\"Time {time1} é o campeão! Pelo Numero de VITÓRIAS de gols!\")\n",
    "        else: \n",
    "            print(f\"Time {time2} é o campeão! Pelo Numero de VITÓRIAS de gols!\")\n",
    "    else:\n",
    "        if(saldo_gols_time1 != saldo_gols_time2):\n",
    "            if(saldo_gols_time1 > saldo_gols_time2):\n",
    "                print(f\"Time {time1} é o campeão! Pelo SALDO de gols!\")\n",
    "            else:\n",
    "                print(f\"Time {time2} é o campeão! Pelo SALDO de gols!\")   \n",
    "        else:\n",
    "            if(gols_marcados_time1 > gols_marcados_time2):\n",
    "                print(f\"Time {time1} é o campeão! Pelos GOLS MARCADOS de gols!\")\n",
    "            else:\n",
    "                print(f\"Time {time2} é o campeão! Pelos GOLS MARCADOS de gols!\")"
   ]
  },
  {
   "cell_type": "code",
   "execution_count": null,
   "id": "ac4aeb37-ed09-4e27-8b7a-d1ebd11c0d74",
   "metadata": {},
   "outputs": [],
   "source": []
  }
 ],
 "metadata": {
  "kernelspec": {
   "display_name": "Python [conda env:base] *",
   "language": "python",
   "name": "conda-base-py"
  },
  "language_info": {
   "codemirror_mode": {
    "name": "ipython",
    "version": 3
   },
   "file_extension": ".py",
   "mimetype": "text/x-python",
   "name": "python",
   "nbconvert_exporter": "python",
   "pygments_lexer": "ipython3",
   "version": "3.13.5"
  }
 },
 "nbformat": 4,
 "nbformat_minor": 5
}
