{
 "cells": [
  {
   "cell_type": "markdown",
   "id": "d75ff14b-12c4-45e6-be6b-d787e370ab60",
   "metadata": {},
   "source": [
    "# titulo nivel 1\n",
    "## titulo nivel 2\n",
    "### titulo nivel 3"
   ]
  },
  {
   "cell_type": "code",
   "execution_count": 2,
   "id": "d0e3a893-e301-40bc-9ef0-abb1f9931fb3",
   "metadata": {},
   "outputs": [
    {
     "name": "stdout",
     "output_type": "stream",
     "text": [
      "Olá, Mundo!\n"
     ]
    }
   ],
   "source": [
    "print(\"Olá, Mundo!\")"
   ]
  },
  {
   "cell_type": "code",
   "execution_count": 3,
   "id": "7543568a-0464-483e-ac5a-bdcbc4d824c3",
   "metadata": {},
   "outputs": [
    {
     "name": "stdout",
     "output_type": "stream",
     "text": [
      "Eu sou uma String, preciso de aspas (duplas ou não) entre o texto para funcionar...\n"
     ]
    }
   ],
   "source": [
    "print(\"Eu sou uma String, preciso de aspas (duplas ou não) entre o texto para funcionar...\")"
   ]
  },
  {
   "cell_type": "code",
   "execution_count": 5,
   "id": "aab1a474-6826-4880-b501-8c3a2593ae06",
   "metadata": {},
   "outputs": [
    {
     "name": "stdout",
     "output_type": "stream",
     "text": [
      "Este texto \n",
      " será quebrado \n",
      " em várias \n",
      " linhas...\n"
     ]
    }
   ],
   "source": [
    "# eu sou um comentario\n",
    "# utilize \\n para quebrar as linhas dentro de uma String\n",
    "\n",
    "print(\"Este texto \\n será quebrado \\n em várias \\n linhas...\") # \\n é um character de espaço"
   ]
  },
  {
   "cell_type": "markdown",
   "id": "db17fbbe-0779-49e5-a196-4c728de759b8",
   "metadata": {},
   "source": [
    "# Podemos fazer um texto pré-formatado com 3 aspas"
   ]
  },
  {
   "cell_type": "code",
   "execution_count": 6,
   "id": "91725ed0-f8c1-4fa2-a4e4-2baf4e81ac7a",
   "metadata": {},
   "outputs": [
    {
     "name": "stdout",
     "output_type": "stream",
     "text": [
      "  Olá, eu sou um texto pré-formatado\n",
      "            eu vou aparecer na tela\n",
      "            \n",
      "        exatamente do jeito \n",
      "        \n",
      "        que você me definir aqui!\n"
     ]
    }
   ],
   "source": [
    "print(\"\"\"  Olá, eu sou um texto pré-formatado\n",
    "            eu vou aparecer na tela\n",
    "            \n",
    "        exatamente do jeito \n",
    "        \n",
    "        que você me definir aqui!\"\"\")"
   ]
  },
  {
   "cell_type": "markdown",
   "id": "b686fa31-2fac-4c27-b8de-98571b70f081",
   "metadata": {},
   "source": [
    "### Concatenação de Strings"
   ]
  },
  {
   "cell_type": "code",
   "execution_count": 7,
   "id": "1868d339-1b3b-4b94-bae7-75b44f87d509",
   "metadata": {},
   "outputs": [
    {
     "name": "stdout",
     "output_type": "stream",
     "text": [
      "Concatenando Strings\n"
     ]
    }
   ],
   "source": [
    "print(\"Concatenando \" + \"Strings\")"
   ]
  },
  {
   "cell_type": "code",
   "execution_count": 8,
   "id": "f270b29c-00db-4697-8601-8e0fb6e45316",
   "metadata": {},
   "outputs": [
    {
     "name": "stdout",
     "output_type": "stream",
     "text": [
      "Concatenando Strings.Lembre-se de dar os espaços adequados se não o texto ficará com as palavras coladas umas nas outras\n"
     ]
    }
   ],
   "source": [
    "print(\"Concatenando \" + \"Strings\" + \".Lembre-se de dar os espaços adequados \" + \"se não o texto ficará com as palavras coladas umas nas outras\")"
   ]
  },
  {
   "cell_type": "code",
   "execution_count": 9,
   "id": "459854fd-885b-434a-b505-b2982cf06c0a",
   "metadata": {},
   "outputs": [
    {
     "name": "stdout",
     "output_type": "stream",
     "text": [
      "Concatenar usando virgulas, não é necessário colocar espaços\n"
     ]
    }
   ],
   "source": [
    "print(\"Concatenar\", \"usando virgulas,\", \"não é necessário colocar espaços\")"
   ]
  },
  {
   "cell_type": "markdown",
   "id": "9683f9d2-02ca-4282-9c8e-0bc67bf1c07e",
   "metadata": {},
   "source": [
    "### Operações aritméticas"
   ]
  },
  {
   "cell_type": "code",
   "execution_count": 10,
   "id": "36fb1aad-9f01-4ced-ac1c-3438dc3191b7",
   "metadata": {},
   "outputs": [
    {
     "name": "stdout",
     "output_type": "stream",
     "text": [
      "99\n"
     ]
    }
   ],
   "source": [
    "print(\"9\" + \"9\") # Neste caso, será entendio pelo Python como String"
   ]
  },
  {
   "cell_type": "code",
   "execution_count": 11,
   "id": "c6108859-a8c6-47b6-b22c-d5b45cba63e3",
   "metadata": {},
   "outputs": [
    {
     "name": "stdout",
     "output_type": "stream",
     "text": [
      "18\n"
     ]
    }
   ],
   "source": [
    "print( 9 + 9 ) # Sem Strings, eles serão números e o mais, passa a ser adição"
   ]
  },
  {
   "cell_type": "code",
   "execution_count": 12,
   "id": "04910e9f-0953-4155-8fb3-f776743ccc80",
   "metadata": {},
   "outputs": [
    {
     "name": "stdout",
     "output_type": "stream",
     "text": [
      "10.0\n"
     ]
    }
   ],
   "source": [
    "print(5 + (5 *(5/5)))"
   ]
  },
  {
   "cell_type": "code",
   "execution_count": 13,
   "id": "835b88da-6a84-414d-9be2-7a7fb6f2beb2",
   "metadata": {},
   "outputs": [
    {
     "name": "stdout",
     "output_type": "stream",
     "text": [
      "5.0\n"
     ]
    }
   ],
   "source": [
    "print( 10 / 2 ) # O operador de / (divisão), sempre dará um resultado tipo float(DECIMAL)"
   ]
  },
  {
   "cell_type": "code",
   "execution_count": 14,
   "id": "37ff2d6c-5d5f-42ab-aac6-6e0e542bc509",
   "metadata": {},
   "outputs": [
    {
     "name": "stdout",
     "output_type": "stream",
     "text": [
      "3.3333333333333335\n"
     ]
    }
   ],
   "source": [
    "print( 10 / 3 )"
   ]
  },
  {
   "cell_type": "code",
   "execution_count": 15,
   "id": "29c36881-8f9c-414a-91f2-62451f240841",
   "metadata": {},
   "outputs": [
    {
     "name": "stdout",
     "output_type": "stream",
     "text": [
      "3\n"
     ]
    }
   ],
   "source": [
    "print( int(10 / 3) ) # A funçãoi int() converte um valor para inteiro"
   ]
  },
  {
   "cell_type": "code",
   "execution_count": null,
   "id": "1524d047-75dc-4fcf-8362-a510a3cd5f7b",
   "metadata": {},
   "outputs": [
    {
     "ename": "TypeError",
     "evalue": "can only concatenate str (not \"int\") to str",
     "output_type": "error",
     "traceback": [
      "\u001b[1;31m---------------------------------------------------------------------------\u001b[0m",
      "\u001b[1;31mTypeError\u001b[0m                                 Traceback (most recent call last)",
      "Cell \u001b[1;32mIn[16], line 1\u001b[0m\n\u001b[1;32m----> 1\u001b[0m \u001b[38;5;28mprint\u001b[39m( \u001b[38;5;124m\"\u001b[39m\u001b[38;5;124mEu tenho \u001b[39m\u001b[38;5;124m\"\u001b[39m \u001b[38;5;241m+\u001b[39m \u001b[38;5;241m28\u001b[39m \u001b[38;5;241m+\u001b[39m \u001b[38;5;124m\"\u001b[39m\u001b[38;5;124m anos de idade.\u001b[39m\u001b[38;5;124m\"\u001b[39m  )\n",
      "\u001b[1;31mTypeError\u001b[0m: can only concatenate str (not \"int\") to str"
     ]
    }
   ],
   "source": [
    "print( \"Eu tenho \" + 28 + \" anos de idade.\"  ) # ERRO: A concatenação deve ocorrer com os mesmos tipos de dados"
   ]
  },
  {
   "cell_type": "code",
   "execution_count": 17,
   "id": "63870123-ebb9-48a8-acc5-3263105834be",
   "metadata": {},
   "outputs": [
    {
     "name": "stdout",
     "output_type": "stream",
     "text": [
      "Eu tenho 28 anos de idade.\n"
     ]
    }
   ],
   "source": [
    "print( \"Eu tenho \" + str(28) + \" anos de idade.\"  ) # A função str() converte o número para String"
   ]
  },
  {
   "cell_type": "code",
   "execution_count": 18,
   "id": "341f0a14-4289-462a-8023-eed4426c7bc9",
   "metadata": {},
   "outputs": [
    {
     "name": "stdout",
     "output_type": "stream",
     "text": [
      "3\n"
     ]
    }
   ],
   "source": [
    "print( 10 // 3 ) # O operador // faz uma divisão inteira"
   ]
  },
  {
   "cell_type": "code",
   "execution_count": 19,
   "id": "7b34dfb7-8636-43f0-b1c8-c9c9965a647c",
   "metadata": {},
   "outputs": [
    {
     "name": "stdout",
     "output_type": "stream",
     "text": [
      "1\n"
     ]
    }
   ],
   "source": [
    "print(11 % 2) # Operador % me dá o resto da divisão"
   ]
  },
  {
   "cell_type": "markdown",
   "id": "54613130-c201-451e-b9db-cf20a9d66b11",
   "metadata": {},
   "source": [
    "### Resumo: Operadores aritméticos\n",
    "###### + soma\n",
    "###### - subtração\n",
    "###### * multiplicação\n",
    "###### / divisão\n",
    "###### // divisão se torna int\n",
    "######  ** potenciação\n",
    "###### % resto\n",
    "\n",
    "### Conversores de tipo de dado:\n",
    "######  int() - converte para inteiro\n",
    "######  str() - converte para string\n",
    "######  float() - converte para float\n",
    "######  bool() - converte para booleano"
   ]
  },
  {
   "cell_type": "code",
   "execution_count": 22,
   "id": "8811b9ba-3339-4d70-ba23-13b251bcc902",
   "metadata": {},
   "outputs": [
    {
     "name": "stdout",
     "output_type": "stream",
     "text": [
      "25\n",
      "9\n",
      "8\n"
     ]
    }
   ],
   "source": [
    "print(5**2)\n",
    "print(3**2)\n",
    "print(2**3)"
   ]
  },
  {
   "cell_type": "markdown",
   "id": "cd2c7fd0-8a08-46f8-854a-5f503574d0cc",
   "metadata": {},
   "source": [
    "### Tipos Booleano (boolean)"
   ]
  },
  {
   "cell_type": "code",
   "execution_count": 24,
   "id": "bee4d2fe-dfd5-4210-90a9-c3bbc0d9c305",
   "metadata": {},
   "outputs": [
    {
     "name": "stdout",
     "output_type": "stream",
     "text": [
      "True\n"
     ]
    }
   ],
   "source": [
    "# O tipo booleano é um dado binário que pode ser TRUE ou FALSE\n",
    "# para ele dar um resultado booleano, você precisa fornecer uma afirmação para ele avaliar\n",
    "\n",
    "print( 5 == 5 )"
   ]
  },
  {
   "cell_type": "code",
   "execution_count": 25,
   "id": "1c3279e7-0bc1-47d8-8676-941a691f70a1",
   "metadata": {},
   "outputs": [
    {
     "name": "stdout",
     "output_type": "stream",
     "text": [
      "False\n"
     ]
    }
   ],
   "source": [
    "print( 5 != 5 )"
   ]
  },
  {
   "cell_type": "code",
   "execution_count": 26,
   "id": "e401f921-ac73-4ce2-bd55-3d04c85d2574",
   "metadata": {},
   "outputs": [
    {
     "name": "stdout",
     "output_type": "stream",
     "text": [
      "True\n"
     ]
    }
   ],
   "source": [
    "print(10 > 5)"
   ]
  },
  {
   "cell_type": "code",
   "execution_count": 27,
   "id": "98a66c93-ba57-445f-bd98-ceed5451740d",
   "metadata": {},
   "outputs": [
    {
     "name": "stdout",
     "output_type": "stream",
     "text": [
      "False\n"
     ]
    }
   ],
   "source": [
    "print(10 < 5)"
   ]
  },
  {
   "cell_type": "code",
   "execution_count": 28,
   "id": "ee8ad342-453d-4f13-8f9e-30e36970e7e6",
   "metadata": {},
   "outputs": [
    {
     "name": "stdout",
     "output_type": "stream",
     "text": [
      "True\n"
     ]
    }
   ],
   "source": [
    "print(5 >= 5)"
   ]
  },
  {
   "cell_type": "markdown",
   "id": "9d9fd2e8-f692-49a7-b254-65ca69e4db06",
   "metadata": {},
   "source": [
    "### Resumo dos Operadores lógicos:\n",
    "\n",
    "###### > maior\n",
    "###### < menor\n",
    "###### >= maior ou igual\n",
    "###### <= menor ou igual\n",
    "###### == igual a\n",
    "###### != diferente de\n",
    "\n"
   ]
  },
  {
   "cell_type": "code",
   "execution_count": null,
   "id": "d1a43a79-d700-4827-8da6-91ad6acb19ae",
   "metadata": {},
   "outputs": [],
   "source": []
  }
 ],
 "metadata": {
  "kernelspec": {
   "display_name": "Python [conda env:base] *",
   "language": "python",
   "name": "conda-base-py"
  },
  "language_info": {
   "codemirror_mode": {
    "name": "ipython",
    "version": 3
   },
   "file_extension": ".py",
   "mimetype": "text/x-python",
   "name": "python",
   "nbconvert_exporter": "python",
   "pygments_lexer": "ipython3",
   "version": "3.13.5"
  }
 },
 "nbformat": 4,
 "nbformat_minor": 5
}
