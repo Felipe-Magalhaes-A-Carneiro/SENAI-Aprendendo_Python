{
 "cells": [
  {
   "cell_type": "code",
   "execution_count": 1,
   "id": "8b4ecdc2-059f-4419-b061-cc71d860ec33",
   "metadata": {},
   "outputs": [
    {
     "name": "stdout",
     "output_type": "stream",
     "text": [
      "ola mundo\n",
      "ola mundo\n",
      "ola mundo\n",
      "ola mundo\n",
      "ola mundo\n"
     ]
    }
   ],
   "source": [
    "# FOR serve para criar um LOOP\n",
    "# voc}e pode fazer ele excutar X vezes\n",
    "#exemplo: fazer 5 prints ola mundo\n",
    "#sem o FOR\n",
    "print(\"ola mundo\")\n",
    "print(\"ola mundo\")\n",
    "print(\"ola mundo\")\n",
    "print(\"ola mundo\")\n",
    "print(\"ola mundo\")\n",
    "\n"
   ]
  },
  {
   "cell_type": "code",
   "execution_count": 4,
   "id": "379d6fb4-3678-4b88-9057-29dbb150f371",
   "metadata": {},
   "outputs": [
    {
     "name": "stdout",
     "output_type": "stream",
     "text": [
      "ola mundo\n",
      "ola mundo\n",
      "ola mundo\n",
      "ola mundo\n",
      "ola mundo\n",
      "Eu estou fora do FOR, vou imprimir só uma vez!!\n"
     ]
    }
   ],
   "source": [
    "# usando FOR junto com range:\n",
    "for i in range(5):\n",
    "    print(\"ola mundo\")\n",
    "\n",
    "print(\"Eu estou fora do FOR, vou imprimir só uma vez!!\")    "
   ]
  },
  {
   "cell_type": "code",
   "execution_count": 5,
   "id": "7bfd26a3-9fd6-466f-93ba-1a3e6d4a9ba6",
   "metadata": {},
   "outputs": [
    {
     "name": "stdout",
     "output_type": "stream",
     "text": [
      "0\n",
      "1\n",
      "2\n",
      "3\n",
      "4\n"
     ]
    }
   ],
   "source": [
    "# O i neste caso é o nosso \"iterador\", a cada \"giro\" do for,\n",
    "# ele vai incrementar o valor\n",
    "\n",
    "for i in range(5):\n",
    "    print(i)"
   ]
  },
  {
   "cell_type": "code",
   "execution_count": 6,
   "id": "00aa417e-2861-423b-99f3-71e99f24d750",
   "metadata": {},
   "outputs": [
    {
     "name": "stdout",
     "output_type": "stream",
     "text": [
      " Carro: uno\n",
      " Carro: gol\n",
      " Carro: land rover\n",
      " Carro: fusca\n",
      " Carro: kombi\n"
     ]
    }
   ],
   "source": [
    "carros = [\"uno\", \"gol\", \"land rover\", \"fusca\", \"kombi\"]\n",
    "\n",
    "# vou imprimir cada carro SEM o for:\n",
    "print(f\" Carro: {carros[0]}\")\n",
    "print(f\" Carro: {carros[1]}\")\n",
    "print(f\" Carro: {carros[2]}\")\n",
    "print(f\" Carro: {carros[3]}\")\n",
    "print(f\" Carro: {carros[4]}\")"
   ]
  },
  {
   "cell_type": "code",
   "execution_count": 10,
   "id": "91bf14e0-39c4-4aa6-8ba3-10c8ab939d25",
   "metadata": {},
   "outputs": [
    {
     "name": "stdout",
     "output_type": "stream",
     "text": [
      "Carro: uno\n",
      "Carro: gol\n",
      "Carro: land rover\n",
      "Carro: fusca\n",
      "Carro: kombi\n"
     ]
    }
   ],
   "source": [
    "# vou imprimir os carros usando o for:\n",
    "\n",
    "for i in range(5):\n",
    "    print(f\"Carro: {carros[i]}\")\n",
    "    if i==3:\n",
    "        break  #break para parar o looping"
   ]
  },
  {
   "cell_type": "code",
   "execution_count": 5,
   "id": "ff9d921c-77cd-49d9-900b-04b68b61c47c",
   "metadata": {},
   "outputs": [
    {
     "name": "stdout",
     "output_type": "stream",
     "text": [
      "Jogo de adivinhação, são 6 tentativas!!!\n"
     ]
    },
    {
     "name": "stdin",
     "output_type": "stream",
     "text": [
      "Digite seu palpite de 1 a 10:  4\n"
     ]
    },
    {
     "name": "stdout",
     "output_type": "stream",
     "text": [
      "PARABÉNS você acertou!!! O número de tentativas: 1\n"
     ]
    }
   ],
   "source": [
    "# DESAFIO-RELAMPAGO:\n",
    "# CRIE UMA VARIAVEL COM UM NUMERO SECRETO DE 1 A 10\n",
    "# FAÇA UM LOOP FOR ONDE IRA PERGUNTAR PARA O USUARIO\n",
    "# O PALPITE E DIZER SE ELE ACERTOU OU ERROU\n",
    "# SE ELE ACERTAR, VOCE PODE INTERROMPER O LOOP COM BREAK\n",
    "# ELE TERA 6 TENTATIVAS\n",
    "\n",
    "print(\"Jogo de adivinhação, são 6 tentativas!!!\")\n",
    "\n",
    "numero_secreto = 4\n",
    "\n",
    "for i in range(6):\n",
    "    palpite = int(input(\"Digite seu palpite de 1 a 10: \"))\n",
    "\n",
    "    if palpite == numero_secreto:\n",
    "        print(f\"PARABÉNS você acertou!!! O seu número de tentativas foram: {i + 1}\")\n",
    "        break   \n",
    "    else:\n",
    "        print(\"Você errou tente novamente\")\n",
    "else:\n",
    "    print(f\"Suas tentativas acabaram. O número secreto era {numero_secreto}.\")"
   ]
  },
  {
   "cell_type": "code",
   "execution_count": 9,
   "id": "4a565af9-12a2-4ac2-972d-a395e11261e5",
   "metadata": {},
   "outputs": [
    {
     "name": "stdout",
     "output_type": "stream",
     "text": [
      "Produção do coca é de 15000\n",
      "Produção do pepsi é de 12000\n",
      "Produção do guaraná é de 13000\n",
      "Produção do sprite é de 5000\n",
      "Produção do fanta é de 250\n"
     ]
    }
   ],
   "source": [
    "# Acessando DUAS listas ao mesmo tempo SEM o for:\n",
    "\n",
    "produtos = ['coca', 'pepsi', 'guaraná', 'sprite', 'fanta']\n",
    "producao = [15000, 12000, 13000, 5000, 250]\n",
    "\n",
    "print('Produção do ' + produtos [0]+ ' é de '+str(producao[0]))\n",
    "print('Produção do ' + produtos [1]+ ' é de '+str(producao[1]))\n",
    "print('Produção do ' + produtos [2]+ ' é de '+str(producao[2]))\n",
    "print('Produção do ' + produtos [3]+ ' é de '+str(producao[3]))\n",
    "print('Produção do ' + produtos [4]+ ' é de '+str(producao[4]))"
   ]
  },
  {
   "cell_type": "code",
   "execution_count": 14,
   "id": "8d4ac8f3-ae7b-49b5-9212-317a6feb26d0",
   "metadata": {},
   "outputs": [
    {
     "name": "stdout",
     "output_type": "stream",
     "text": [
      "Produção do coca é de  15000\n",
      "Produção do pepsi é de  12000\n",
      "Produção do guaraná é de  13000\n",
      "Produção do sprite é de  5000\n",
      "Produção do fanta é de  250\n"
     ]
    }
   ],
   "source": [
    "# Acessando DUAS listas AO MESMO TEMPO com o for:\n",
    "\n",
    "for i in range(5):\n",
    "    print('Produção do ' + produtos [i]+' é de  '+str(producao [i]))"
   ]
  },
  {
   "cell_type": "code",
   "execution_count": 21,
   "id": "88e660ef-a71d-4ca9-a8fc-40d1eb80c075",
   "metadata": {},
   "outputs": [
    {
     "name": "stdout",
     "output_type": "stream",
     "text": [
      "Produção do coca é de 15000\n",
      "Produção do pepsi é de 12000\n",
      "Produção do guaraná é de 13000\n",
      "Produção do sprite é de 5000\n",
      "Produção do fanta é de 250\n",
      "Produção do dolly é de 400\n",
      "Produção do kuat é de 800\n"
     ]
    }
   ],
   "source": [
    "# Acessando DUAS listas AO MESMO TEMPO com o for, enquanto utiliza a função len() para definir o número de repetições:\n",
    "\n",
    "produtos = ['coca', 'pepsi', 'guaraná', 'sprite', 'fanta', 'dolly', 'kuat']\n",
    "producao = [15000, 12000, 13000, 5000, 250, 400, 800]\n",
    "\n",
    "for i in range(len(produtos)):\n",
    "    print('Produção do ' + produtos [i]+' é de '+str(producao [i]))"
   ]
  },
  {
   "cell_type": "code",
   "execution_count": null,
   "id": "8fdf8313-9bf0-49e7-8ab2-05953851b14f",
   "metadata": {},
   "outputs": [],
   "source": [
    "vendas = [15000, 12000, 13000, 5000, 250, 400, 800, 400, 200]\n",
    "meta = 500\n",
    "contador = 0\n",
    "\n",
    "for venda in vendas"
   ]
  },
  {
   "cell_type": "code",
   "execution_count": 20,
   "id": "5a20d098-94ef-4e41-999e-5a223fc25db9",
   "metadata": {},
   "outputs": [
    {
     "name": "stdout",
     "output_type": "stream",
     "text": [
      " O joao é o funcionário de matrícula n. 1\n",
      " O jose é o funcionário de matrícula n. 2\n",
      " O jorge é o funcionário de matrícula n. 3\n",
      " O joaquim é o funcionário de matrícula n. 4\n",
      " O juca é o funcionário de matrícula n. 5\n"
     ]
    }
   ],
   "source": [
    "# Utilizando a função enumerate() => cria uma tupla em resposta, na qual você poderá ter a posição (i) e o nome de cada valor na lista (nome),\n",
    "#ao mesmo tempo. Muito útil. Lembre-se de utiliza-lo com frequência\n",
    "funcionarios = ['joao','jose','jorge','joaquim','juca']\n",
    "\n",
    "for i, nome in enumerate(funcionarios):\n",
    "    print(f\" O {nome} é o funcionário de matrícula n. {i + 1}\")\n",
    "    "
   ]
  },
  {
   "cell_type": "code",
   "execution_count": null,
   "id": "20ec93ce-619a-4317-a5f8-105fbe14b5be",
   "metadata": {},
   "outputs": [],
   "source": []
  }
 ],
 "metadata": {
  "kernelspec": {
   "display_name": "Python [conda env:base] *",
   "language": "python",
   "name": "conda-base-py"
  },
  "language_info": {
   "codemirror_mode": {
    "name": "ipython",
    "version": 3
   },
   "file_extension": ".py",
   "mimetype": "text/x-python",
   "name": "python",
   "nbconvert_exporter": "python",
   "pygments_lexer": "ipython3",
   "version": "3.13.5"
  }
 },
 "nbformat": 4,
 "nbformat_minor": 5
}
