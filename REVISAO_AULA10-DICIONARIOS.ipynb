{
 "cells": [
  {
   "cell_type": "markdown",
   "id": "25f2de7c",
   "metadata": {},
   "source": [
    "# DICIONÁRIOS\n",
    "\n",
    "É muito bom para armazenar informações que precisam de algum tipo de identificador. Vamos ver no exemplo.\n",
    "\n",
    "Ex: E-mails de gerentes de loja"
   ]
  },
  {
   "cell_type": "code",
   "execution_count": 1,
   "id": "f42c38a2",
   "metadata": {},
   "outputs": [],
   "source": [
    "emails_gerentes = {\n",
    "    \"Iguatemi\": \"iguatemi@gmail.com\",\n",
    "    \"Plaza\": \"plaza@gmail.com\",\n",
    "    \"Barra\": \"barra@gmail.com\"\n",
    "}"
   ]
  },
  {
   "cell_type": "markdown",
   "id": "5a54750f",
   "metadata": {},
   "source": [
    "### Como RETORNAR algum valor de uma chave?"
   ]
  },
  {
   "cell_type": "code",
   "execution_count": null,
   "id": "ec21dfb8",
   "metadata": {},
   "outputs": [
    {
     "name": "stdout",
     "output_type": "stream",
     "text": [
      "iguatemi@gmail.com\n"
     ]
    }
   ],
   "source": [
    "email = emails_gerentes['Iguatemi']\n",
    "\n",
    "print(email)"
   ]
  },
  {
   "cell_type": "markdown",
   "id": "d88deed9",
   "metadata": {},
   "source": [
    "#### Como ADICIONAR uma NOVA KEY (shooping, no caso)?"
   ]
  },
  {
   "cell_type": "code",
   "execution_count": 4,
   "id": "ab3dea37",
   "metadata": {},
   "outputs": [
    {
     "name": "stdout",
     "output_type": "stream",
     "text": [
      "{'Iguatemi': 'iguatemi@gmail.com', 'Plaza': 'plaza@gmail.com', 'Barra': 'barra@gmail.com', 'Leblon': 'leblon@gmail.com'}\n"
     ]
    }
   ],
   "source": [
    "emails_gerentes[\"Leblon\"] = \"leblon@gmail.com\"\n",
    "print(emails_gerentes)"
   ]
  },
  {
   "cell_type": "markdown",
   "id": "49dddaba",
   "metadata": {},
   "source": [
    "#### Como SUBISTITUIR um VALOR (email, no caso)?\n",
    "Exatamente da mesma forma que ADICIONAR uma nova KEY, se ele já existir o VALOR atribuido irá SUBSTITUIR o anterior"
   ]
  },
  {
   "cell_type": "code",
   "execution_count": 5,
   "id": "8ce7f275",
   "metadata": {},
   "outputs": [
    {
     "name": "stdout",
     "output_type": "stream",
     "text": [
      "{'Iguatemi': 'iguatemi@gmail.com', 'Plaza': 'plaza@gmail.com', 'Barra': 'barra@gmail.com', 'Leblon': 'leblon.leblon@gmail.com'}\n"
     ]
    }
   ],
   "source": [
    "emails_gerentes[\"Leblon\"] = \"leblon.leblon@gmail.com\"\n",
    "print(emails_gerentes)"
   ]
  },
  {
   "cell_type": "markdown",
   "id": "0967e886",
   "metadata": {},
   "source": [
    "#### Como ANALISAR TODAS as KEYS?"
   ]
  },
  {
   "cell_type": "code",
   "execution_count": 6,
   "id": "8ae995bf",
   "metadata": {},
   "outputs": [
    {
     "name": "stdout",
     "output_type": "stream",
     "text": [
      "Iguatemi\n",
      "Plaza\n",
      "Barra\n",
      "Leblon\n"
     ]
    }
   ],
   "source": [
    "# Forma 1 => Utilizando FOR\n",
    "\n",
    "for i in emails_gerentes:\n",
    "    print(i)"
   ]
  },
  {
   "cell_type": "code",
   "execution_count": 21,
   "id": "b6b85f56",
   "metadata": {},
   "outputs": [
    {
     "name": "stdout",
     "output_type": "stream",
     "text": [
      "dict_keys(['Iguatemi', 'Plaza', 'Barra', 'Leblon'])\n"
     ]
    }
   ],
   "source": [
    "# Forma 2 => 'dicionario.keys()'\n",
    "print(emails_gerentes.keys())"
   ]
  },
  {
   "cell_type": "markdown",
   "id": "bb364bf2",
   "metadata": {},
   "source": [
    "#### Como trazer TODOS os VALUES?"
   ]
  },
  {
   "cell_type": "code",
   "execution_count": 22,
   "id": "b346f20f",
   "metadata": {},
   "outputs": [
    {
     "name": "stdout",
     "output_type": "stream",
     "text": [
      "iguatemi@gmail.com\n",
      "plaza@gmail.com\n",
      "barra@gmail.com\n",
      "leblon.leblon@gmail.com\n"
     ]
    }
   ],
   "source": [
    "# Forma 1 => Utilizando FOR\n",
    "\n",
    "for shooping in emails_gerentes:\n",
    "    email = emails_gerentes[shooping]\n",
    "    print(email)"
   ]
  },
  {
   "cell_type": "code",
   "execution_count": 23,
   "id": "4f79e915",
   "metadata": {},
   "outputs": [
    {
     "name": "stdout",
     "output_type": "stream",
     "text": [
      "dict_values(['iguatemi@gmail.com', 'plaza@gmail.com', 'barra@gmail.com', 'leblon.leblon@gmail.com'])\n"
     ]
    }
   ],
   "source": [
    "# Forma 2 => 'dicionario.values()'\n",
    "print(emails_gerentes.values())"
   ]
  },
  {
   "cell_type": "markdown",
   "id": "6ba0821a",
   "metadata": {},
   "source": [
    "#### Como RETIRAR uma KEY?"
   ]
  },
  {
   "cell_type": "code",
   "execution_count": 24,
   "id": "3e8af3ba",
   "metadata": {},
   "outputs": [
    {
     "name": "stdout",
     "output_type": "stream",
     "text": [
      "{'Iguatemi': 'iguatemi@gmail.com', 'Plaza': 'plaza@gmail.com', 'Barra': 'barra@gmail.com'}\n"
     ]
    }
   ],
   "source": [
    "emails_gerentes.pop(\"Leblon\")\n",
    "print(emails_gerentes)"
   ]
  },
  {
   "cell_type": "markdown",
   "id": "3bb3a391",
   "metadata": {},
   "source": [
    "#### Como VERIFICAR se uma KEY ainda existe?"
   ]
  },
  {
   "cell_type": "code",
   "execution_count": 25,
   "id": "3ccac86a",
   "metadata": {},
   "outputs": [
    {
     "name": "stdout",
     "output_type": "stream",
     "text": [
      "A key NÃO existe\n"
     ]
    }
   ],
   "source": [
    "if \"Leblon\" in emails_gerentes:\n",
    "    print(\"A key existe\")\n",
    "else:\n",
    "    print(\"A key NÃO existe\")"
   ]
  },
  {
   "cell_type": "markdown",
   "id": "4d544e02",
   "metadata": {},
   "source": [
    "#### Como VERIFICAR se uma VALUE ainda existe?"
   ]
  },
  {
   "cell_type": "code",
   "execution_count": 27,
   "id": "e8364c53",
   "metadata": {},
   "outputs": [
    {
     "name": "stdout",
     "output_type": "stream",
     "text": [
      "O value existe\n"
     ]
    }
   ],
   "source": [
    "if \"barra@gmail.com\" in emails_gerentes.values():\n",
    "    print(\"O value existe\")\n",
    "else:\n",
    "    print(\"O value NÃO existe\")"
   ]
  },
  {
   "cell_type": "code",
   "execution_count": null,
   "id": "724a43a9",
   "metadata": {},
   "outputs": [],
   "source": []
  }
 ],
 "metadata": {
  "kernelspec": {
   "display_name": "Python 3",
   "language": "python",
   "name": "python3"
  },
  "language_info": {
   "codemirror_mode": {
    "name": "ipython",
    "version": 3
   },
   "file_extension": ".py",
   "mimetype": "text/x-python",
   "name": "python",
   "nbconvert_exporter": "python",
   "pygments_lexer": "ipython3",
   "version": "3.12.4"
  }
 },
 "nbformat": 4,
 "nbformat_minor": 5
}
