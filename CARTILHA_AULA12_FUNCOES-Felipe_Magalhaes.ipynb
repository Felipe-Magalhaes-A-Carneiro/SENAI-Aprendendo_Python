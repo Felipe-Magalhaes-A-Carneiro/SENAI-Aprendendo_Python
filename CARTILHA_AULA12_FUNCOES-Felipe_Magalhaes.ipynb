{
 "cells": [
  {
   "cell_type": "markdown",
   "id": "489b02d1-0ff6-4561-a4a8-62a97beed943",
   "metadata": {},
   "source": [
    "# DESAFIO\n",
    "Crie um progrma que implemente inicialmente uma lista vazia chama emprestimos (servindo para registrar emprestimos de livros)\n",
    "O programa irá, em loop, perguntar sempre o usuário e o livro que foi emprestado, criar um dicionario com estas duas informações e fazer um append na lista. O encerramento do programa ocorre quando o usuário digitar 'SAIR' no lugar do usuário, o programa então fará outro loop para mostrar os dados de todos os emprestimos.\n",
    "\n",
    "Dica 1: você precisara de 2 loops: um de cadastro e outro para gerar o relatorio;\n",
    "Dica 2: lembre-se dos métodos .item(), .keys e . values e encontre o que melhor servirá para sua lógica\n"
   ]
  },
  {
   "cell_type": "code",
   "execution_count": 22,
   "id": "c8db5513-0eef-4ffd-ba75-9727fe377a4e",
   "metadata": {},
   "outputs": [
    {
     "name": "stdout",
     "output_type": "stream",
     "text": [
      "[{'usuario': 'Felipe', 'livro': 'A Arte de Aprender'}]\n",
      "[{'usuario': 'Felipe', 'livro': 'A Arte de Aprender'}, {'usuario': 'Fábio', 'livro': 'A Arte de Estudar'}]\n",
      "[{'usuario': 'Felipe', 'livro': 'A Arte de Aprender'}, {'usuario': 'Fábio', 'livro': 'A Arte de Estudar'}, {'usuario': 'Antonio', 'livro': 'A Arte de Falar em Público'}]\n",
      "\n",
      "**** RELATORIO ***\n",
      "\n",
      "\n",
      "    1\n",
      "    Usuario: Felipe\n",
      "    Livro: A Arte de Aprender\n",
      "\n",
      "    \n",
      "\n",
      "    2\n",
      "    Usuario: Fábio\n",
      "    Livro: A Arte de Estudar\n",
      "\n",
      "    \n",
      "\n",
      "    3\n",
      "    Usuario: Antonio\n",
      "    Livro: A Arte de Falar em Público\n",
      "\n",
      "    \n"
     ]
    }
   ],
   "source": [
    "emprestimos = []\n",
    "\n",
    "while True:\n",
    "\n",
    "    usuario = input(\"Digite o nome do Usuario:\")\n",
    "    if usuario == \"sair\":\n",
    "        break\n",
    "    else:\n",
    "        livro = input(\"Digite o nome do Livro emprestado:\")\n",
    "    \n",
    "    cadastro = {'usuario':usuario, 'livro':livro}\n",
    "    emprestimos.append(cadastro)\n",
    "\n",
    "    print(emprestimos)\n",
    "\n",
    "print(\"\\n**** RELATORIO ***\\n\")\n",
    "for i,registro in enumerate(emprestimos):\n",
    "    print(f\"\"\"\n",
    "    {i + 1}\n",
    "    Usuario: {registro['usuario']}\n",
    "    Livro: {registro['livro']}\n",
    "\n",
    "    \"\"\")"
   ]
  },
  {
   "cell_type": "markdown",
   "id": "0d06b63c-1a90-4976-abe9-440c392d49c8",
   "metadata": {},
   "source": [
    "# Como criar uma função?\n",
    "Lembre-se da seguinte pergunta: \"O que uma função faz?\""
   ]
  },
  {
   "cell_type": "code",
   "execution_count": 1,
   "id": "1520170c-4bf0-4522-b452-2c144f0d4384",
   "metadata": {},
   "outputs": [],
   "source": [
    "# Funções => Servem para \"envapsular\" código. Desta forma, você isola os detalhes, reaproveita o código e também organiza melhor a sua lógica.\n",
    "\n",
    "# Criação de uma função é também chamada de DECLARAÇÃO ou DEFINIÇÃO.\n",
    "# deafh => definir\n",
    "\n",
    "def dizer_ola():\n",
    "    print(\"Oláaaaa, mundooooo!\")\n",
    "\n",
    "# falta \"CHAMA-LA\" para usa-la\n",
    "# Obs.: Está função NÃO RETORNA NADA. Ou seja, o sistema não recebe nada do usuário. O mesmo ocorre com a função print(). Já o contrário com o input(), len(), int() e etc..."
   ]
  },
  {
   "cell_type": "code",
   "execution_count": 3,
   "id": "6517894d-e8e6-4ced-bc39-01fd9706771a",
   "metadata": {},
   "outputs": [
    {
     "name": "stdout",
     "output_type": "stream",
     "text": [
      "Oláaaaa, mundooooo!\n"
     ]
    }
   ],
   "source": [
    "dizer_ola()"
   ]
  },
  {
   "cell_type": "code",
   "execution_count": 4,
   "id": "c9b717da-47b6-4679-a3d4-3639811f5ebb",
   "metadata": {},
   "outputs": [
    {
     "name": "stdout",
     "output_type": "stream",
     "text": [
      "Oláaaaa, mundooooo!\n",
      "Oláaaaa, mundooooo!\n",
      "Oláaaaa, mundooooo!\n",
      "Oláaaaa, mundooooo!\n",
      "Oláaaaa, mundooooo!\n"
     ]
    }
   ],
   "source": [
    "# Você o DECLAROU APENAS UMA VEZ, mas pode usa-lo QUANTAS VEZES QUISER!\n",
    "\n",
    "dizer_ola()\n",
    "dizer_ola()\n",
    "dizer_ola()\n",
    "dizer_ola()\n",
    "dizer_ola()"
   ]
  },
  {
   "cell_type": "code",
   "execution_count": 13,
   "id": "666d8801-48cc-4085-acfd-d7c9971363d5",
   "metadata": {},
   "outputs": [],
   "source": [
    "# Continuamos com funções SEM RETORNO:\n",
    "\n",
    "# A função dobrp abaixo, receberá um numero como parâmetro e imprimirá na tela o dobro\n",
    "def dobro(num):\n",
    "    print(int(num) * 2)"
   ]
  },
  {
   "cell_type": "code",
   "execution_count": 8,
   "id": "02136c4f-f9fe-42a0-8952-9a13b0f196a1",
   "metadata": {},
   "outputs": [
    {
     "name": "stdout",
     "output_type": "stream",
     "text": [
      "6\n",
      "10\n",
      "20\n"
     ]
    }
   ],
   "source": [
    "# Neste caso, o 'num' usado como parâmetro anteriormente é agora o numero que você quiser, basta coloca-lo no MESMO LUGAR que o 'num':\n",
    "dobro(3)\n",
    "dobro(5)\n",
    "dobro(10)"
   ]
  },
  {
   "cell_type": "code",
   "execution_count": 14,
   "id": "ba0dc566-af0c-4ec8-8f73-ffe064d0a995",
   "metadata": {},
   "outputs": [
    {
     "name": "stdin",
     "output_type": "stream",
     "text": [
      "Digite um número e te direi o seu dobro: 123\n"
     ]
    },
    {
     "name": "stdout",
     "output_type": "stream",
     "text": [
      "246\n"
     ]
    }
   ],
   "source": [
    "# Outro contexto:\n",
    "\n",
    "x = input(\"Digite um número e te direi o seu dobro:\")\n",
    "dobro(x)"
   ]
  },
  {
   "cell_type": "code",
   "execution_count": 16,
   "id": "fa8c2650-03fc-453c-8b45-a19b4505a7c6",
   "metadata": {},
   "outputs": [],
   "source": [
    "# DECLARANDO outra função:\n",
    "\n",
    "def imprimir_dados(nome, sobrenome, cpf):\n",
    "    print(\"Dados do usuário:\")\n",
    "    print(\"Nome:\", nome)\n",
    "    print(\"Sobrenome:\", sobrenome)\n",
    "    print(\"CPF:\", cpf)"
   ]
  },
  {
   "cell_type": "code",
   "execution_count": 17,
   "id": "e7cd76e7-a960-4e0b-8695-457b2a3d98e0",
   "metadata": {},
   "outputs": [
    {
     "name": "stdout",
     "output_type": "stream",
     "text": [
      "Dados do usuário:\n",
      "Nome: Felipe\n",
      "Sobrenome: Magalhaes\n",
      "CPF: 45645645645\n"
     ]
    }
   ],
   "source": [
    "# CHAMANDO a função:\n",
    "x = \"Felipe\"\n",
    "y = \"Magalhaes\"\n",
    "z = \"45645645645\"\n",
    "\n",
    "imprimir_dados(x, y, z)"
   ]
  },
  {
   "cell_type": "code",
   "execution_count": 18,
   "id": "ad64f719-1839-4cf6-830b-69c45d26a012",
   "metadata": {},
   "outputs": [
    {
     "ename": "TypeError",
     "evalue": "imprimir_dados() missing 1 required positional argument: 'cpf'",
     "output_type": "error",
     "traceback": [
      "\u001b[1;31m---------------------------------------------------------------------------\u001b[0m",
      "\u001b[1;31mTypeError\u001b[0m                                 Traceback (most recent call last)",
      "Cell \u001b[1;32mIn[18], line 2\u001b[0m\n\u001b[0;32m      1\u001b[0m \u001b[38;5;66;03m# Tentando chamar a função usando APENAS 2 parâmetros / argumentos, forçando um ERRO\u001b[39;00m\n\u001b[1;32m----> 2\u001b[0m imprimir_dados(x, y,)\n",
      "\u001b[1;31mTypeError\u001b[0m: imprimir_dados() missing 1 required positional argument: 'cpf'"
     ]
    }
   ],
   "source": [
    "# Tentando chamar a função usando APENAS 2 parâmetros / argumentos, forçando um ERRO\n",
    "imprimir_dados(x, y,)"
   ]
  },
  {
   "cell_type": "code",
   "execution_count": 20,
   "id": "6b620238-ee47-4acc-b22f-d4ff2aa9d2e1",
   "metadata": {},
   "outputs": [],
   "source": [
    "# fazendo parâmetros OPCIONAIS:\n",
    "\n",
    "def imprimir_dados_opcionais(nome, sobrenome, cpf=\"NÃO INFORMADO\"): # cpf agora é opcional, se não colocar algo na sua posição, aparecerá essa mensagem\n",
    "    print(\"Dados do usuário:\")\n",
    "    print(\"Nome:\", nome)\n",
    "    print(\"Sobrenome:\", sobrenome)\n",
    "    print(\"CPF:\", cpf)"
   ]
  },
  {
   "cell_type": "code",
   "execution_count": 21,
   "id": "d32943f2-81b8-4c9e-877d-08084987ae5d",
   "metadata": {},
   "outputs": [
    {
     "name": "stdout",
     "output_type": "stream",
     "text": [
      "Dados do usuário:\n",
      "Nome: Felipe\n",
      "Sobrenome: Magalhaes\n",
      "CPF: NÃO INFORMADO\n"
     ]
    }
   ],
   "source": [
    "imprimir_dados_opcionais(x,y)"
   ]
  },
  {
   "cell_type": "code",
   "execution_count": 27,
   "id": "60d7a0ed-38e4-4ba4-9dfe-1a07a4d18772",
   "metadata": {},
   "outputs": [],
   "source": [
    "# outra função:\n",
    "\n",
    "def dizer_ola(nome = \"mundo\"): # nome é pré-definido, o que pode intender como opcional\n",
    "    print(\"Olá,\", nome)"
   ]
  },
  {
   "cell_type": "code",
   "execution_count": 30,
   "id": "6033d6ac-ed1e-4ffc-8356-407de249ec1c",
   "metadata": {},
   "outputs": [
    {
     "name": "stdout",
     "output_type": "stream",
     "text": [
      "Olá, Felipe\n",
      "Olá, Fábio\n",
      "Olá, Antonio\n"
     ]
    }
   ],
   "source": [
    "dizer_ola(\"Felipe\") # Definir valor no parâmetro nome\n",
    "dizer_ola(\"Fábio\")\n",
    "dizer_ola(\"Antonio\")"
   ]
  },
  {
   "cell_type": "code",
   "execution_count": 31,
   "id": "5fbd4e5f-26ce-4b68-9ca5-615c3f8583cc",
   "metadata": {},
   "outputs": [
    {
     "name": "stdout",
     "output_type": "stream",
     "text": [
      "Olá, mundo\n"
     ]
    }
   ],
   "source": [
    "dizer_ola() # Sem dar o parâmetro"
   ]
  },
  {
   "cell_type": "markdown",
   "id": "0ead5f96-7a55-4a73-a688-e1cb53b381b6",
   "metadata": {},
   "source": [
    "# FUNÇÕES - COM RETORNO\n",
    "Elas RETORNAM alguma coisa para o PROGRAMA! Não para o usuário. Esse retorno PODE SER, por exemplo, armazenado em uma variavel"
   ]
  },
  {
   "cell_type": "code",
   "execution_count": 36,
   "id": "60c4ca18-ea29-4137-832e-ca1dc74ae534",
   "metadata": {},
   "outputs": [],
   "source": [
    "def triplo(num):\n",
    "    return int(num) * 3 # return => retorna para o PROGRAMA e o programa manda para a variavel"
   ]
  },
  {
   "cell_type": "code",
   "execution_count": 37,
   "id": "4f9619eb-ab50-466b-a2ad-ff849a08b7c4",
   "metadata": {},
   "outputs": [
    {
     "name": "stdout",
     "output_type": "stream",
     "text": [
      "9\n"
     ]
    }
   ],
   "source": [
    "triplo = triplo(3)\n",
    "\n",
    "print(triplo) # NESTE CASO a função triplo RETORNA SIM para o sistema, e então O SISTEMA manda para o print(). Isso ocorre por causa do 'return'"
   ]
  },
  {
   "cell_type": "code",
   "execution_count": 38,
   "id": "37d720a8-601c-462e-98a7-f0da37daf1fa",
   "metadata": {},
   "outputs": [
    {
     "ename": "TypeError",
     "evalue": "'int' object is not callable",
     "output_type": "error",
     "traceback": [
      "\u001b[1;31m---------------------------------------------------------------------------\u001b[0m",
      "\u001b[1;31mTypeError\u001b[0m                                 Traceback (most recent call last)",
      "Cell \u001b[1;32mIn[38], line 1\u001b[0m\n\u001b[1;32m----> 1\u001b[0m \u001b[38;5;28mprint\u001b[39m(triplo(\u001b[38;5;241m3\u001b[39m))\n",
      "\u001b[1;31mTypeError\u001b[0m: 'int' object is not callable"
     ]
    }
   ],
   "source": [
    "print(triplo(3)) # NESTE CASO a função triplo NÃO retorna para o sistema, ele manda DIRETO para o print()"
   ]
  },
  {
   "cell_type": "code",
   "execution_count": 40,
   "id": "c989a7be-8481-45f0-b30c-f4adc4ec82ef",
   "metadata": {},
   "outputs": [],
   "source": [
    "# função COM CONDIÇÃO INTERNA:\n",
    "def checa_nome(nome):\n",
    "    if str(nome).isalpha():\n",
    "        print(\"nome válido!\")\n",
    "    else:\n",
    "        print(\"nome invalido\")"
   ]
  },
  {
   "cell_type": "code",
   "execution_count": 41,
   "id": "191df81d-b879-4cc6-a5b9-df0a1ac73d84",
   "metadata": {},
   "outputs": [
    {
     "ename": "AttributeError",
     "evalue": "'int' object has no attribute 'isalpha'",
     "output_type": "error",
     "traceback": [
      "\u001b[1;31m---------------------------------------------------------------------------\u001b[0m",
      "\u001b[1;31mAttributeError\u001b[0m                            Traceback (most recent call last)",
      "Cell \u001b[1;32mIn[41], line 1\u001b[0m\n\u001b[1;32m----> 1\u001b[0m checa_nome(\u001b[38;5;241m123\u001b[39m)\n\u001b[0;32m      2\u001b[0m checa_nome(\u001b[38;5;124m\"\u001b[39m\u001b[38;5;124m123\u001b[39m\u001b[38;5;124m\"\u001b[39m)\n\u001b[0;32m      3\u001b[0m checa_nome(\u001b[38;5;124m\"\u001b[39m\u001b[38;5;124mFelipe1\u001b[39m\u001b[38;5;124m\"\u001b[39m)\n",
      "Cell \u001b[1;32mIn[40], line 3\u001b[0m, in \u001b[0;36mcheca_nome\u001b[1;34m(nome)\u001b[0m\n\u001b[0;32m      2\u001b[0m \u001b[38;5;28;01mdef\u001b[39;00m\u001b[38;5;250m \u001b[39m\u001b[38;5;21mcheca_nome\u001b[39m(nome):\n\u001b[1;32m----> 3\u001b[0m     \u001b[38;5;28;01mif\u001b[39;00m nome\u001b[38;5;241m.\u001b[39misalpha():\n\u001b[0;32m      4\u001b[0m         \u001b[38;5;28mprint\u001b[39m(\u001b[38;5;124m\"\u001b[39m\u001b[38;5;124mnome válido!\u001b[39m\u001b[38;5;124m\"\u001b[39m)\n\u001b[0;32m      5\u001b[0m     \u001b[38;5;28;01melse\u001b[39;00m:\n",
      "\u001b[1;31mAttributeError\u001b[0m: 'int' object has no attribute 'isalpha'"
     ]
    }
   ],
   "source": [
    "checa_nome(123)\n",
    "checa_nome(\"123\")\n",
    "checa_nome(\"Felipe1\")\n",
    "checa_nome(\"Felipe\")"
   ]
  },
  {
   "cell_type": "code",
   "execution_count": 44,
   "id": "31baf499-71f5-4e22-8871-158f2f263c26",
   "metadata": {},
   "outputs": [],
   "source": [
    "# usando a mesma função, mas COM RETORNO:\n",
    "def checa_nome2(nome):\n",
    "    if str(nome).isalpha():\n",
    "        return True\n",
    "    else:\n",
    "        return False"
   ]
  },
  {
   "cell_type": "code",
   "execution_count": 45,
   "id": "9170963f-d000-4485-bd21-93a7ac0d811a",
   "metadata": {},
   "outputs": [
    {
     "ename": "AttributeError",
     "evalue": "'int' object has no attribute 'isalpha'",
     "output_type": "error",
     "traceback": [
      "\u001b[1;31m---------------------------------------------------------------------------\u001b[0m",
      "\u001b[1;31mAttributeError\u001b[0m                            Traceback (most recent call last)",
      "Cell \u001b[1;32mIn[45], line 1\u001b[0m\n\u001b[1;32m----> 1\u001b[0m \u001b[38;5;28mprint\u001b[39m(checa_nome(\u001b[38;5;241m123\u001b[39m))\n\u001b[0;32m      2\u001b[0m \u001b[38;5;28mprint\u001b[39m(checa_nome(\u001b[38;5;124m\"\u001b[39m\u001b[38;5;124m123\u001b[39m\u001b[38;5;124m\"\u001b[39m))\n\u001b[0;32m      3\u001b[0m \u001b[38;5;28mprint\u001b[39m(checa_nome(\u001b[38;5;124m\"\u001b[39m\u001b[38;5;124mFelipe1\u001b[39m\u001b[38;5;124m\"\u001b[39m))\n",
      "Cell \u001b[1;32mIn[40], line 3\u001b[0m, in \u001b[0;36mcheca_nome\u001b[1;34m(nome)\u001b[0m\n\u001b[0;32m      2\u001b[0m \u001b[38;5;28;01mdef\u001b[39;00m\u001b[38;5;250m \u001b[39m\u001b[38;5;21mcheca_nome\u001b[39m(nome):\n\u001b[1;32m----> 3\u001b[0m     \u001b[38;5;28;01mif\u001b[39;00m nome\u001b[38;5;241m.\u001b[39misalpha():\n\u001b[0;32m      4\u001b[0m         \u001b[38;5;28mprint\u001b[39m(\u001b[38;5;124m\"\u001b[39m\u001b[38;5;124mnome válido!\u001b[39m\u001b[38;5;124m\"\u001b[39m)\n\u001b[0;32m      5\u001b[0m     \u001b[38;5;28;01melse\u001b[39;00m:\n",
      "\u001b[1;31mAttributeError\u001b[0m: 'int' object has no attribute 'isalpha'"
     ]
    }
   ],
   "source": [
    "print(checa_nome(123))\n",
    "print(checa_nome(\"123\"))\n",
    "print(checa_nome(\"Felipe1\"))\n",
    "print(checa_nome(\"Felipe\"))"
   ]
  },
  {
   "cell_type": "code",
   "execution_count": null,
   "id": "e048c852-9614-4f80-9e28-e2c65185a27a",
   "metadata": {},
   "outputs": [],
   "source": [
    "# MELHORANDO AINDA MAIS a mesma função, mas COM RETORNO:\n",
    "def checa_nome2(nome):\n",
    "    return str(nome).isalpha()\n"
   ]
  }
 ],
 "metadata": {
  "kernelspec": {
   "display_name": "Python [conda env:base] *",
   "language": "python",
   "name": "conda-base-py"
  },
  "language_info": {
   "codemirror_mode": {
    "name": "ipython",
    "version": 3
   },
   "file_extension": ".py",
   "mimetype": "text/x-python",
   "name": "python",
   "nbconvert_exporter": "python",
   "pygments_lexer": "ipython3",
   "version": "3.13.5"
  }
 },
 "nbformat": 4,
 "nbformat_minor": 5
}
