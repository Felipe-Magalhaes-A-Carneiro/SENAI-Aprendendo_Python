{
 "cells": [
  {
   "cell_type": "markdown",
   "id": "9501387e-0aeb-4d90-b806-0b59a79d90ca",
   "metadata": {},
   "source": [
    "# LISTAS\n",
    "são uma estrutura de dados que permitem armazenar vários itens em uma só caixa - pode-se pensar em uma só prateleira\n",
    "\n",
    "## Criando uma lista:"
   ]
  },
  {
   "cell_type": "code",
   "execution_count": 1,
   "id": "629095da-09d9-4893-834e-8c04fcf3afd5",
   "metadata": {},
   "outputs": [
    {
     "name": "stdout",
     "output_type": "stream",
     "text": [
      "maça\n",
      "pera\n",
      "uva\n",
      "['pera', 'uva']\n",
      "['maça']\n"
     ]
    }
   ],
   "source": [
    "frutas = [\"maça\", \"pera\" , \"uva\"]\n",
    "\n",
    "# imprimindo valores\n",
    "print(frutas[0])\n",
    "print(frutas[1])\n",
    "print(frutas[2])\n",
    "\n",
    "# controlando os valores e imprimendo na ordem desejada\n",
    "print(frutas[1:]) # imprimindo o valor da posição e o que há depois dela\n",
    "print(frutas[:1]) # imprimindo APENAS o que está antes da posição definida"
   ]
  },
  {
   "cell_type": "code",
   "execution_count": 7,
   "id": "9738290f-0982-4ab1-b5f0-55601617900b",
   "metadata": {},
   "outputs": [
    {
     "name": "stdout",
     "output_type": "stream",
     "text": [
      "uva\n",
      "True\n",
      "1\n"
     ]
    }
   ],
   "source": [
    "# Python aceita diferentes tipos de dados em uma lista:\n",
    "lista = [\"uva\", True, 1]\n",
    "\n",
    "# imprimindo valores\n",
    "print(lista[0])\n",
    "print(lista[1])\n",
    "print(lista[2])"
   ]
  },
  {
   "cell_type": "code",
   "execution_count": 9,
   "id": "0b5859e8-6ea0-4c22-95e7-6274b7a35970",
   "metadata": {},
   "outputs": [
    {
     "name": "stdout",
     "output_type": "stream",
     "text": [
      "3\n",
      "15\n"
     ]
    }
   ],
   "source": [
    "# len() => retorna o numero de itens da lista (lenght)\n",
    "\n",
    "print(len(lista))\n",
    "\n",
    "lista2 = [1,2,3,4,5,6,7,8,9,10,11,12,13,14,15]\n",
    "print(len(lista2))"
   ]
  },
  {
   "cell_type": "code",
   "execution_count": 10,
   "id": "d916f90b-772e-4bdc-855d-9e5a70091307",
   "metadata": {},
   "outputs": [
    {
     "name": "stdout",
     "output_type": "stream",
     "text": [
      "15\n"
     ]
    }
   ],
   "source": [
    "# max() => função que retorna o maior numero de uma lista:\n",
    "\n",
    "print(max(lista2))"
   ]
  },
  {
   "cell_type": "code",
   "execution_count": 11,
   "id": "9b0ad892-393e-43b1-8485-901c3ef072af",
   "metadata": {},
   "outputs": [
    {
     "name": "stdout",
     "output_type": "stream",
     "text": [
      "1\n"
     ]
    }
   ],
   "source": [
    "# min() => função de retorna o menor valor de uma lista:\n",
    "\n",
    "print(min(lista2))"
   ]
  },
  {
   "cell_type": "code",
   "execution_count": 12,
   "id": "4c774666-7d9d-4b44-9d3a-028488db140d",
   "metadata": {},
   "outputs": [
    {
     "name": "stdout",
     "output_type": "stream",
     "text": [
      "7\n"
     ]
    }
   ],
   "source": [
    "# index() => método que retorna a posição de um valor em uma lista\n",
    "\n",
    "print(lista2.index(8))"
   ]
  },
  {
   "cell_type": "code",
   "execution_count": null,
   "id": "4fd1b779-24b9-4b23-957e-ab286b46b850",
   "metadata": {},
   "outputs": [
    {
     "name": "stdout",
     "output_type": "stream",
     "text": [
      "['maça', 'pera', 'uva', 'banana']\n",
      "['maça', 'pera', 'uva', 'banana', 'banana']\n"
     ]
    }
   ],
   "source": [
    "# .append() => método adiciona um item ao final da lista\n",
    "\n",
    "print(frutas)\n",
    "\n",
    "frutas.append(\"banana\") # obs: quanto mais for executado, mas adicionará o mesmo valor a lista\n",
    "print(frutas)"
   ]
  },
  {
   "cell_type": "code",
   "execution_count": 16,
   "id": "08e86963-657a-4d3e-b0c9-50bb5f7c20c7",
   "metadata": {},
   "outputs": [
    {
     "name": "stdout",
     "output_type": "stream",
     "text": [
      "['maça', 'pera', 'uva', 'banana', 'banana', 'abacaxi', 'kiwi']\n"
     ]
    }
   ],
   "source": [
    "# .extend() => método que 'uni' uma lista com uma outra que desejar\n",
    "\n",
    "mais_frutas = [\"abacaxi\",\"kiwi\"]\n",
    "\n",
    "frutas.extend(mais_frutas)\n",
    "\n",
    "print(frutas)"
   ]
  },
  {
   "cell_type": "code",
   "execution_count": 17,
   "id": "b9445ef2-6752-4fe9-be6e-47ca35f7a550",
   "metadata": {},
   "outputs": [
    {
     "name": "stdout",
     "output_type": "stream",
     "text": [
      "['maça', 'pera', 'uva', 'banana', 'abacaxi', 'kiwi']\n"
     ]
    }
   ],
   "source": [
    "# .remove() => método que remove um valor de uma lista\n",
    "\n",
    "frutas.remove(\"banana\")\n",
    "\n",
    "print(frutas)"
   ]
  },
  {
   "cell_type": "markdown",
   "id": "356cc9de-e389-437e-9133-8807b66ffd8a",
   "metadata": {},
   "source": [
    "# Lista de listas..."
   ]
  },
  {
   "cell_type": "code",
   "execution_count": 19,
   "id": "170afc6f-bb5d-4b05-8885-6b0212c25046",
   "metadata": {},
   "outputs": [
    {
     "name": "stdout",
     "output_type": "stream",
     "text": [
      "['maça', 'pera', 'uva', 'banana', 'abacaxi', 'kiwi', ['carambola', 'pessego']]\n"
     ]
    }
   ],
   "source": [
    "# utilizando o .append() para adicionar uma lista dentro de uma lista...\n",
    "\n",
    "novas_frutas = [\"carambola\",\"pessego\"]\n",
    "\n",
    "frutas.append(novas_frutas)\n",
    "print(frutas)"
   ]
  },
  {
   "cell_type": "code",
   "execution_count": 20,
   "id": "b4787197-97a7-48ae-ae80-e934e773ad30",
   "metadata": {},
   "outputs": [
    {
     "name": "stdout",
     "output_type": "stream",
     "text": [
      "maça\n",
      "['carambola', 'pessego']\n",
      "carambola\n"
     ]
    }
   ],
   "source": [
    "print(frutas[0]) # maça\n",
    "print(frutas[6]) # lista novas_frutas\n",
    "print(frutas[6][0]) # carambola da lista de novas_frutas"
   ]
  },
  {
   "cell_type": "code",
   "execution_count": null,
   "id": "951b15d4-3967-46cf-afb6-b10f14c7f513",
   "metadata": {},
   "outputs": [],
   "source": []
  }
 ],
 "metadata": {
  "kernelspec": {
   "display_name": "Python 3",
   "language": "python",
   "name": "python3"
  },
  "language_info": {
   "codemirror_mode": {
    "name": "ipython",
    "version": 3
   },
   "file_extension": ".py",
   "mimetype": "text/x-python",
   "name": "python",
   "nbconvert_exporter": "python",
   "pygments_lexer": "ipython3",
   "version": "3.12.4"
  }
 },
 "nbformat": 4,
 "nbformat_minor": 5
}
