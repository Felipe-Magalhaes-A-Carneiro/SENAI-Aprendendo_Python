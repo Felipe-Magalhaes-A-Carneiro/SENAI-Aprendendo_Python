{
 "cells": [
  {
   "cell_type": "markdown",
   "id": "3299d28d-921c-476d-8699-f5a3d0487732",
   "metadata": {},
   "source": [
    "# WHILE\n",
    "\n",
    "(Em inglês 'enquanto') irá executar as instruções enquanto a condição de controle for verdadeira.\n",
    "Quando a condição se tornar FALSA, Ele irá ENCERRAR O LOOP.\n",
    "ATENÇÃO - A variável de controle precisa mudar 'dentro do bloco' de instruções, se não terei um loop infinito"
   ]
  },
  {
   "cell_type": "code",
   "execution_count": 1,
   "id": "a3d880fe-d5b5-4b4d-9135-2ece16916a56",
   "metadata": {},
   "outputs": [
    {
     "name": "stdout",
     "output_type": "stream",
     "text": [
      "Volta numero 1\n",
      "Volta numero 2\n",
      "Volta numero 3\n",
      "Volta numero 4\n"
     ]
    }
   ],
   "source": [
    "x = 1 # Usaremos o x para exemplo, aqui ele é o agente excencial para que o while NÃO DÊ um loop infinito. Dê um valor para ele:\n",
    "\n",
    "while(x < 5): # Definie uma condição que se tornará FALSE caso x seja igual a 5. Obs.: Se fosse While True: ele NUNCA pararia!\n",
    "    print(f\"Volta numero {x}\")\n",
    "    x += 1 # O'x', será modificado, tendo o seu valor sendo somado +1, a cada loop. Isso é fundamental para NÃO DAR loop infinito.\n",
    "\n",
    "# Quando o x for igual a 5, assim como na condição definida na linha 3, o while passará a ser FALSE, finalizando-o\n",
    "\n",
    "# Obs.: O loop while NÃO começa com 0, como é o caso do loop for"
   ]
  },
  {
   "cell_type": "code",
   "execution_count": null,
   "id": "1b256ea6-2f81-4298-9832-345112321ce5",
   "metadata": {},
   "outputs": [],
   "source": []
  }
 ],
 "metadata": {
  "kernelspec": {
   "display_name": "Python [conda env:base] *",
   "language": "python",
   "name": "conda-base-py"
  },
  "language_info": {
   "codemirror_mode": {
    "name": "ipython",
    "version": 3
   },
   "file_extension": ".py",
   "mimetype": "text/x-python",
   "name": "python",
   "nbconvert_exporter": "python",
   "pygments_lexer": "ipython3",
   "version": "3.13.5"
  }
 },
 "nbformat": 4,
 "nbformat_minor": 5
}
