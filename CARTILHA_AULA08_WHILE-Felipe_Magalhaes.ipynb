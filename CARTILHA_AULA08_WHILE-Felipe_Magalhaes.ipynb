{
 "cells": [
  {
   "cell_type": "markdown",
   "id": "3299d28d-921c-476d-8699-f5a3d0487732",
   "metadata": {},
   "source": [
    "# WHILE\n",
    "\n",
    "(Em inglês 'enquanto') irá executar as instruções enquanto a condição de controle for verdadeira.\n",
    "Quando a condição se tornar FALSA, Ele irá ENCERRAR O LOOP.\n",
    "ATENÇÃO - A variável de controle precisa mudar 'dentro do bloco' de instruções, se não terei um loop infinito"
   ]
  },
  {
   "cell_type": "code",
   "execution_count": 2,
   "id": "a3d880fe-d5b5-4b4d-9135-2ece16916a56",
   "metadata": {},
   "outputs": [
    {
     "name": "stdout",
     "output_type": "stream",
     "text": [
      "Volta numero 1\n",
      "Volta numero 2\n",
      "Volta numero 3\n",
      "Volta numero 4\n"
     ]
    }
   ],
   "source": [
    "x = 1\n",
    "\n",
    "while(x < 5):\n",
    "    print(f\"Volta numero {x}\")\n",
    "    x += 1"
   ]
  },
  {
   "cell_type": "code",
   "execution_count": null,
   "id": "1b256ea6-2f81-4298-9832-345112321ce5",
   "metadata": {},
   "outputs": [],
   "source": []
  }
 ],
 "metadata": {
  "kernelspec": {
   "display_name": "Python [conda env:base] *",
   "language": "python",
   "name": "conda-base-py"
  },
  "language_info": {
   "codemirror_mode": {
    "name": "ipython",
    "version": 3
   },
   "file_extension": ".py",
   "mimetype": "text/x-python",
   "name": "python",
   "nbconvert_exporter": "python",
   "pygments_lexer": "ipython3",
   "version": "3.13.5"
  }
 },
 "nbformat": 4,
 "nbformat_minor": 5
}
