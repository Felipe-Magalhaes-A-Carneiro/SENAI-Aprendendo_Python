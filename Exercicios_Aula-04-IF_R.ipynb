{
 "cells": [
  {
   "cell_type": "markdown",
   "metadata": {
    "id": "_Fe90JOXiJbX"
   },
   "source": [
    "# Exercícios com if"
   ]
  },
  {
   "cell_type": "markdown",
   "metadata": {
    "id": "A1QT4EpgiJbd"
   },
   "source": [
    "## 1. Cálculo de Bônus\n",
    "\n",
    "- Crie um programa que calcule e dê um print no bônus que os funcionários devem receber segundo a regra:\n",
    "\n",
    "A meta é 1000 vendas.<br>\n",
    "Se o valor de vendas for maior ou igual a meta, o valor do bônus do funcionário é 10% do valor de vendas.<br>\n",
    "Caso contrário o valor de bônus do funcionário é 0.<br>\n",
    "Print o bônus dos 3 funcionários"
   ]
  },
  {
   "cell_type": "code",
   "execution_count": null,
   "metadata": {
    "id": "Yg_UOtQpiJbe"
   },
   "outputs": [
    {
     "name": "stdout",
     "output_type": "stream",
     "text": [
      "Funcionario 1 recebeu bonus de 10%:R$ 1100.00\n",
      "Agradecemos o seu esforço, mas o Funcionario 2 não recebeu bonus.\n",
      "Funcionario 3 recebeu bonus de 10%: R$ 2970.00\n"
     ]
    }
   ],
   "source": [
    "vendas_funcionario1 = 1000\n",
    "vendas_funcionario2 = 770\n",
    "vendas_funcionario3 = 2700\n",
    "meta = 1000\n",
    "bonus = .10\n",
    "\n",
    "#crie seu código aqui\n",
    "\n",
    "# Verifica de o funcionário 1 atingiua meta\n",
    "if(vendas_funcionario1 >= 1000):\n",
    "    vendas_funcionario1 += vendas_funcionario1 * bonus\n",
    "    print(\"Funcionario 1 recebeu bonus de 10%: R$ {:.2f}\".format(vendas_funcionario1))\n",
    "else:\n",
    "    print(\"Agradecemos o seu esforço, mas o Funcionario 1 não recebeu bonus.\")\n",
    "\n",
    "# Verifica de o funcionário 2 atingiua meta\n",
    "if(vendas_funcionario2 >= 1000):\n",
    "    vendas_funcionario1 += vendas_funcionario2 * bonus\n",
    "    print(\"Funcionario 2 recebeu bonus de 10%: R$ {:.2f}\".format(vendas_funcionario2))\n",
    "else:\n",
    "    print(\"Agradecemos o seu esforço, mas o Funcionario 2 não recebeu bonus.\")\n",
    "\n",
    "# Verifica de o funcionário 3 atingiua meta\n",
    "if(vendas_funcionario3 >= 1000):\n",
    "    vendas_funcionario3 += vendas_funcionario3 * bonus\n",
    "    print(\"Funcionario 3 recebeu bonus de 10%: R$ {:.2f}\".format(vendas_funcionario3))\n",
    "else:\n",
    "    print(\"Agradecemos o seu esforço, mas o Funcionario 3 não recebeu bonus.\")\n"
   ]
  },
  {
   "cell_type": "markdown",
   "metadata": {
    "id": "tYHfIUDIiJbi"
   },
   "source": [
    "## 2. Cálculo de bônus com uma nova regra\n",
    "\n",
    "- Agora, crie um novo código que calcule e dê um print no bônus dos funcionários novamente. Porém há uma nova regra nesse 2º caso:\n",
    "\n",
    "A meta é 1000 vendas<br>\n",
    "Agora, os funcionários que venderem muito acima da meta ganham mais bônus do que os outros. Então o bônus é definido da seguinte forma:<br>\n",
    "\n",
    "- Se vendas funcionário for maior ou igual a 2000, então o bônus é de 15% sobre o valor de vendas\n",
    "- Se vendas funcionário for menor do que 2000 e maior ou igual a 1000, então o bônus é de 10% sobre o valor de vendas\n",
    "- Se vendas funcionário for menos do que 1000 então o bônus do funcionário é de 0.\n",
    "\n",
    "Use as mesmas variáveis de vendas_funcionários"
   ]
  },
  {
   "cell_type": "code",
   "execution_count": 10,
   "metadata": {
    "id": "HN8wMfKViJbi"
   },
   "outputs": [
    {
     "name": "stdout",
     "output_type": "stream",
     "text": [
      "Parabéns, Funcionário01, você ATINGIU a marca de mais de 1000 vendas! Você ganhou um bônus de R$1100.00\n",
      "\n",
      "Agradecemos a sua participação, Funcionário 02! Você NÃO ganhou o bônus, mas conseguirá na próxima!\n",
      "\n",
      "Parabéns, Funcionário 03, você SUPEROU a marca de 2000 vendas! Você ganhou um bônus de R$3105.00\n"
     ]
    }
   ],
   "source": [
    "#crie seu código aqui\n",
    "vendas_funcionario1 = 1000\n",
    "vendas_funcionario2 = 770\n",
    "vendas_funcionario3 = 2700\n",
    "meta = 1000\n",
    "bonus10 = .10\n",
    "bonus15 = .15\n",
    "\n",
    "#obs: há 2 formas de fazer, com if dentro de if ou então com if e elif. Escolha a que você preferir\n",
    "# Verifica o vendas_funcionario1\n",
    "if(vendas_funcionario1 >= 2000):\n",
    "    vendas_funcionario1 += vendas_funcionario1 * bonus15\n",
    "    print(\"Parabéns, Funcionário 01, você SUPEROU a marca de 2000 vendas! Você ganhou um bônus de R${:.2f}\".format(vendas_funcionario1))\n",
    "elif(vendas_funcionario1 < 2000 and vendas_funcionario1 == 1000):\n",
    "    vendas_funcionario1 += vendas_funcionario1 * bonus10\n",
    "    print(\"Parabéns, Funcionário01, você ATINGIU a marca de mais de 1000 vendas! Você ganhou um bônus de R${:.2f}\".format(vendas_funcionario1))\n",
    "else:\n",
    "    print(\"Agradecemos a sua participação, Funcionário01! Você NÃO ganhou o bônus, mas conseguirá na próxima!\")\n",
    "\n",
    "print()\n",
    "\n",
    "# Verifica o vendas_funcionario2\n",
    "if(vendas_funcionario2 >= 2000):\n",
    "    vendas_funcionario2 += vendas_funcionario2 * bonus15\n",
    "    print(\"Parabéns, Funcionário 02, você SUPEROU a marca de 2000 vendas! Você ganhou um bônus de R${:.2f}\".format(vendas_funcionario2))\n",
    "elif(vendas_funcionario2 < 2000 and vendas_funcionario2 == 1000):\n",
    "    vendas_funcionario2 += vendas_funcionario2 * bonus10\n",
    "    print(\"Parabéns, Funcionário 02, você ATINGIU a marca de mais de 1000 vendas! Você ganhou um bônus de R${:.2f}\".format(vendas_funcionario2))\n",
    "else:\n",
    "    print(\"Agradecemos a sua participação, Funcionário 02! Você NÃO ganhou o bônus, mas conseguirá na próxima!\")\n",
    "\n",
    "print()\n",
    "\n",
    "# Verifica o vendas_funcionario3\n",
    "if(vendas_funcionario3 >= 2000):\n",
    "    vendas_funcionario3 += vendas_funcionario3 * bonus15\n",
    "    print(\"Parabéns, Funcionário 03, você SUPEROU a marca de 2000 vendas! Você ganhou um bônus de R${:.2f}\".format(vendas_funcionario3))\n",
    "elif(vendas_funcionario3 < 2000 and vendas_funcionario3 == 1000):\n",
    "    vendas_funcionario3 += vendas_funcionario3 * bonus10\n",
    "    print(\"Parabéns, Funcionário 03, você ATINGIU a marca de mais de 1000 vendas! Você ganhou um bônus de R${:.2f}\".format(vendas_funcionario3))\n",
    "else:\n",
    "    print(\"Agradecemos a sua participação, Funcionário 03! Você NÃO ganhou o bônus, mas conseguirá na próxima!\")"
   ]
  },
  {
   "cell_type": "markdown",
   "metadata": {
    "id": "ntDU0EOOfC1P"
   },
   "source": [
    "### 3-  DESAFIO : media e faltas\n",
    "Faça um programa que peça para o professor:\n",
    "- nome do aluno\n",
    "- nota 1\n",
    "- nota 2\n",
    "- nota 3\n",
    "- porcentagem de faltas\n",
    " se a media for >=7 E porcentagem de faltas for <25%, aluno aprovado\n",
    " se a media for <7 e >=5 E porcentagem de faltas for <25%, recuperação\n",
    "se a media for <5 OU faltas >=25% , aluno reprovado\n",
    " otimize a sua logica e faça um codigo elegante e limpo\n",
    "\n",
    "DICA: PRIMEIRO CRIE A LOGICA, SE NECESSARIO FAÇA UM ALGORITMO/FLUXOGRAMA, DETERMINE OS PASSOS E SÓ ENTÃO PARTA PARA O CODIGO"
   ]
  },
  {
   "cell_type": "code",
   "execution_count": 29,
   "metadata": {
    "id": "9SZpLGRAfJ55"
   },
   "outputs": [
    {
     "name": "stdin",
     "output_type": "stream",
     "text": [
      "Digite o nome do aluno(a):  Al de Almeida\n",
      "Digite o valor da NOTA 01:  9.5\n",
      "Digite o valor da NOTA 02:  7.5\n",
      "Digite o valor da NOTA 03:  7.5\n",
      "Digite o número de faltas:  50\n"
     ]
    },
    {
     "name": "stdout",
     "output_type": "stream",
     "text": [
      "Aluno(a):Al de Almeida foi APROVADO(A)!\n"
     ]
    }
   ],
   "source": [
    "#crie seu código aqui\n",
    "nome_aluno = input(\"Digite o nome do aluno(a): \")\n",
    "nota1 = float(input(\"Digite o valor da NOTA 01: \"))\n",
    "nota2 = float(input(\"Digite o valor da NOTA 02: \"))\n",
    "nota3 = float(input(\"Digite o valor da NOTA 03: \"))\n",
    "faltas_aluno = float(input(\"Digite o número de faltas: \"))\n",
    "aulas_totais = 1200\n",
    "\n",
    "media = (nota1 + nota2 + nota3) / 3\n",
    "faltas = (aulas_totais - faltas_aluno) / 100\n",
    "\n",
    "if(media >= 7 and faltas > .25):\n",
    "    print(f\"Aluno(a):{nome_aluno} foi APROVADO(A)!\")\n",
    "elif(media < 7 and media >= 5 and faltas > .25):\n",
    "    print(f\"Aluno(a):{nome_aluno} está de RECUPERAÇÃO!\")\n",
    "elif(media < 5 or faltas >= .25):\n",
    "    print(f\"ATENÇÃO: Aluno(a):{nome_aluno} foi REPROVADO!\")\n",
    "else:\n",
    "    print(f\"Aluno(a):{nome_aluno} foi REPROVADO por FALTA!\")\n"
   ]
  },
  {
   "cell_type": "code",
   "execution_count": null,
   "metadata": {},
   "outputs": [],
   "source": []
  }
 ],
 "metadata": {
  "colab": {
   "provenance": []
  },
  "kernelspec": {
   "display_name": "Python [conda env:base] *",
   "language": "python",
   "name": "conda-base-py"
  },
  "language_info": {
   "codemirror_mode": {
    "name": "ipython",
    "version": 3
   },
   "file_extension": ".py",
   "mimetype": "text/x-python",
   "name": "python",
   "nbconvert_exporter": "python",
   "pygments_lexer": "ipython3",
   "version": "3.13.5"
  }
 },
 "nbformat": 4,
 "nbformat_minor": 4
}
