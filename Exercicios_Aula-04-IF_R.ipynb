{
 "cells": [
  {
   "cell_type": "markdown",
   "metadata": {
    "id": "_Fe90JOXiJbX"
   },
   "source": [
    "# Exercícios com if"
   ]
  },
  {
   "cell_type": "markdown",
   "metadata": {
    "id": "A1QT4EpgiJbd"
   },
   "source": [
    "## 1. Cálculo de Bônus\n",
    "\n",
    "- Crie um programa que calcule e dê um print no bônus que os funcionários devem receber segundo a regra:\n",
    "\n",
    "A meta é 1000 vendas.<br>\n",
    "Se o valor de vendas for maior ou igual a meta, o valor do bônus do funcionário é 10% do valor de vendas.<br>\n",
    "Caso contrário o valor de bônus do funcionário é 0.<br>\n",
    "Print o bônus dos 3 funcionários"
   ]
  },
  {
   "cell_type": "code",
   "execution_count": null,
   "metadata": {
    "id": "Yg_UOtQpiJbe"
   },
   "outputs": [
    {
     "name": "stdout",
     "output_type": "stream",
     "text": [
      "Funcionario 1 recebeu bonus de 10%:R$ 1100.00\n",
      "Agradecemos o seu esforço, mas o Funcionario 2 não recebeu bonus.\n",
      "Funcionario 3 recebeu bonus de 10%: R$ 2970.00\n"
     ]
    }
   ],
   "source": [
    "vendas_funcionario1 = 1000\n",
    "vendas_funcionario2 = 770\n",
    "vendas_funcionario3 = 2700\n",
    "meta = 1000\n",
    "bonus = .10\n",
    "\n",
    "#crie seu código aqui\n",
    "\n",
    "# Verifica de o funcionário 1 atingiua meta\n",
    "if(vendas_funcionario1 >= 1000):\n",
    "    vendas_funcionario1 += vendas_funcionario1 * bonus\n",
    "    print(\"Funcionario 1 recebeu bonus de 10%: R$ {:.2f}\".format(vendas_funcionario1))\n",
    "else:\n",
    "    print(\"Agradecemos o seu esforço, mas o Funcionario 1 não recebeu bonus.\")\n",
    "\n",
    "# Verifica de o funcionário 2 atingiua meta\n",
    "if(vendas_funcionario2 >= 1000):\n",
    "    vendas_funcionario1 += vendas_funcionario2 * bonus\n",
    "    print(\"Funcionario 2 recebeu bonus de 10%: R$ {:.2f}\".format(vendas_funcionario2))\n",
    "else:\n",
    "    print(\"Agradecemos o seu esforço, mas o Funcionario 2 não recebeu bonus.\")\n",
    "\n",
    "# Verifica de o funcionário 3 atingiua meta\n",
    "if(vendas_funcionario3 >= 1000):\n",
    "    vendas_funcionario3 += vendas_funcionario3 * bonus\n",
    "    print(\"Funcionario 3 recebeu bonus de 10%: R$ {:.2f}\".format(vendas_funcionario3))\n",
    "else:\n",
    "    print(\"Agradecemos o seu esforço, mas o Funcionario 3 não recebeu bonus.\")\n"
   ]
  },
  {
   "cell_type": "markdown",
   "metadata": {
    "id": "tYHfIUDIiJbi"
   },
   "source": [
    "## 2. Cálculo de bônus com uma nova regra\n",
    "\n",
    "- Agora, crie um novo código que calcule e dê um print no bônus dos funcionários novamente. Porém há uma nova regra nesse 2º caso:\n",
    "\n",
    "A meta é 1000 vendas<br>\n",
    "Agora, os funcionários que venderem muito acima da meta ganham mais bônus do que os outros. Então o bônus é definido da seguinte forma:<br>\n",
    "\n",
    "- Se vendas funcionário for maior ou igual a 2000, então o bônus é de 15% sobre o valor de vendas\n",
    "- Se vendas funcionário for menor do que 2000 e maior ou igual a 1000, então o bônus é de 10% sobre o valor de vendas\n",
    "- Se vendas funcionário for menos do que 1000 então o bônus do funcionário é de 0.\n",
    "\n",
    "Use as mesmas variáveis de vendas_funcionários"
   ]
  },
  {
   "cell_type": "code",
   "execution_count": null,
   "metadata": {
    "id": "HN8wMfKViJbi"
   },
   "outputs": [],
   "source": [
    "#crie seu código aqui\n",
    "#obs: há 2 formas de fazer, com if dentro de if ou então com if e elif. Escolha a que você preferir"
   ]
  },
  {
   "cell_type": "markdown",
   "metadata": {
    "id": "ntDU0EOOfC1P"
   },
   "source": [
    "### 3-  DESAFIO : media e faltas\n",
    "Faça um programa que peça para o professor:\n",
    "- nome do aluno\n",
    "- nota 1\n",
    "- nota 2\n",
    "- nota 3\n",
    "- porcentagem de faltas\n",
    " se a media for >=7 E porcentagem de faltas for <25%, aluno aprovado\n",
    " se a media for <7 e >=5 E porcentagem de faltas for <25%, recuperação\n",
    "se a media for <5 OU faltas >=25% , aluno reprovado\n",
    " otimize a sua logica e faça um codigo elegante e limpo\n",
    "\n",
    "DICA: PRIMEIRO CRIE A LOGICA, SE NECESSARIO FAÇA UM ALGORITMO/FLUXOGRAMA, DETERMINE OS PASSOS E SÓ ENTÃO PARTA PARA O CODIGO"
   ]
  },
  {
   "cell_type": "code",
   "execution_count": null,
   "metadata": {
    "id": "9SZpLGRAfJ55"
   },
   "outputs": [],
   "source": [
    "#crie seu código aqui"
   ]
  }
 ],
 "metadata": {
  "colab": {
   "provenance": []
  },
  "kernelspec": {
   "display_name": "Python 3",
   "language": "python",
   "name": "python3"
  },
  "language_info": {
   "codemirror_mode": {
    "name": "ipython",
    "version": 3
   },
   "file_extension": ".py",
   "mimetype": "text/x-python",
   "name": "python",
   "nbconvert_exporter": "python",
   "pygments_lexer": "ipython3",
   "version": "3.12.4"
  }
 },
 "nbformat": 4,
 "nbformat_minor": 0
}
