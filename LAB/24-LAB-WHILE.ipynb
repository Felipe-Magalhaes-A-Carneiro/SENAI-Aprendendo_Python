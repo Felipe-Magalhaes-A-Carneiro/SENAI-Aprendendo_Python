{
 "cells": [
  {
   "cell_type": "markdown",
   "id": "4abb724c",
   "metadata": {},
   "source": [
    "# 3.2.4   LAB   Adivinhe o número secreto (Networking Academy CISCO)\n",
    "\n",
    "### Cenário\n",
    "Um jovem mágico escolheu um número secreto. Ele o ocultou em uma variável chamada secret_number. Ele quer que todos que executam seu programa joguem o jogo Adivinhe o número secreto e adivinhem qual número ele escolheu para eles. Quem não adivinhar o número ficará para sempre em um loop infinito! Infelizmente, ele não sabe como completar o código.\n",
    "\n",
    "Sua tarefa é ajudar o mágico a preencher o código no editor de forma que o código:\n",
    "\n",
    "solicitará que o usuário insira um número inteiro;\n",
    "vai usar um while loop;\n",
    "verificará se o número inserido pelo usuário é igual ao número escolhido pelo mágico. Se o número escolhido pelo usuário for diferente do número secreto do mago, o usuário deverá ver a mensagem \"Ha ha! Você está preso no meu loop!\" E será solicitado a inserir um número novamente. Se o número inserido pelo usuário corresponder ao número escolhido pelo mago, ele deverá ser impresso na tela, e o mago deve dizer as seguintes palavras: \"Muito bem, trouxa! Você está livre agora.\"\n",
    "O mágico está contando com você! Não o desaponte.\n",
    "\n",
    "#### INFORMAÇÕES EXTRA\n",
    "A propósito, observe a função print(). A maneira como usamos aqui é chamada de impressão de várias linhas. Você pode usar aspas triplas para imprimir sequências de caracteres em várias linhas para facilitar a leitura ou criar um design especial baseado em texto. Experimente."
   ]
  },
  {
   "cell_type": "code",
   "execution_count": 3,
   "id": "eed4bdc5",
   "metadata": {},
   "outputs": [
    {
     "name": "stdout",
     "output_type": "stream",
     "text": [
      "\n",
      "+===================================+\n",
      "| Bem vindo ao meu jogo, camarada!  |\n",
      "| Insira um número inteiro          |\n",
      "| e adivinhar o número que tenho    |\n",
      "| escolhidos para você.             |\n",
      "| Então, qual é o número secreto?   |\n",
      "+===================================+\n",
      "\n",
      "1? Este não é o número secreto...\n",
      "Ha ha! Você está preso no meu loop!\n",
      "5? Este não é o número secreto...\n",
      "Ha ha! Você está preso no meu loop!\n",
      "4? Este não é o número secreto...\n",
      "Ha ha! Você está preso no meu loop!\n",
      "O quê? Você acertou?! MAS COMO?? COMO ADIVINHOU QUE ERA 777???\n"
     ]
    }
   ],
   "source": [
    "# Algoritmo: Um programa de avisa se o usuário descobriu o número secreto e permite que ele tente novamente até acertar, caso o contrário, estará preso em um loop infinito.\n",
    "# Author: Felipe Magalhães\n",
    "\n",
    "secret_number = 777\n",
    "\n",
    "print(\n",
    "\"\"\"\n",
    "+===================================+\n",
    "| Bem vindo ao meu jogo, camarada!  |\n",
    "| Insira um número inteiro          |\n",
    "| e adivinhar o número que tenho    |\n",
    "| escolhidos para você.             |\n",
    "| Então, qual é o número secreto?   |\n",
    "+===================================+\n",
    "\"\"\")\n",
    "\n",
    "number = int(input(\"Qual o número que você deseja?\"))\n",
    "\n",
    "while number != secret_number:\n",
    "    print(f\"{number}? Este não é o número secreto...\")\n",
    "    print(\"Ha ha! Você está preso no meu loop!\")\n",
    "    number = int(input(\"É melhor tentar de novo. Se não, ficará preso para sempre... hahahaha\"))\n",
    "\n",
    "print(f\"O quê? Você acertou?! MAS COMO?? COMO ADIVINHOU QUE ERA {secret_number}???\")"
   ]
  }
 ],
 "metadata": {
  "kernelspec": {
   "display_name": "Python 3",
   "language": "python",
   "name": "python3"
  },
  "language_info": {
   "codemirror_mode": {
    "name": "ipython",
    "version": 3
   },
   "file_extension": ".py",
   "mimetype": "text/x-python",
   "name": "python",
   "nbconvert_exporter": "python",
   "pygments_lexer": "ipython3",
   "version": "3.12.4"
  }
 },
 "nbformat": 4,
 "nbformat_minor": 5
}
