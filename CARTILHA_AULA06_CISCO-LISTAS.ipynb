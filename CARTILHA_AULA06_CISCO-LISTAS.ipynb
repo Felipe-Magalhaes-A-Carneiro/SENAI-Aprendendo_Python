{
 "cells": [
  {
   "cell_type": "markdown",
   "id": "8821c7ac",
   "metadata": {},
   "source": [
    "# 3.4.2 Indexando listas"
   ]
  },
  {
   "cell_type": "code",
   "execution_count": 2,
   "id": "57dcdcd5",
   "metadata": {},
   "outputs": [
    {
     "name": "stdout",
     "output_type": "stream",
     "text": [
      "O conteúdo da variavel é: [10, 5, 7, 2, 1]\n"
     ]
    }
   ],
   "source": [
    "numero = [10, 5, 7, 2, 1]\n",
    "\n",
    "print(\"O conteúdo da variavel é:\", numero)"
   ]
  },
  {
   "cell_type": "code",
   "execution_count": 5,
   "id": "d6fb192b",
   "metadata": {},
   "outputs": [
    {
     "name": "stdout",
     "output_type": "stream",
     "text": [
      "Antes, na posição [0] era 10, mas agora é: 111\n",
      "Lista atualizada:  [111, 5, 7, 2, 1]\n"
     ]
    }
   ],
   "source": [
    "numero[0] = 111\n",
    "print(\"Antes, na posição [0] era 10, mas agora é:\", numero[0])\n",
    "print(\"Lista atualizada: \", numero)"
   ]
  },
  {
   "cell_type": "code",
   "execution_count": 7,
   "id": "12976fe1",
   "metadata": {},
   "outputs": [
    {
     "name": "stdout",
     "output_type": "stream",
     "text": [
      "O valor da posição [1] agora é: 1, a mesma da posição [4]: 1\n",
      "Lista atualizada:  [111, 1, 7, 2, 1]\n"
     ]
    }
   ],
   "source": [
    "numero[1] = numero[4]\n",
    "print(f\"O valor da posição [1] agora é: {numero[1]}, a mesma da posição [4]: {numero[4]}\")\n",
    "\n",
    "print(\"Lista atualizada: \", numero)"
   ]
  },
  {
   "cell_type": "code",
   "execution_count": null,
   "id": "7f984113",
   "metadata": {},
   "outputs": [],
   "source": []
  }
 ],
 "metadata": {
  "kernelspec": {
   "display_name": "Python 3",
   "language": "python",
   "name": "python3"
  },
  "language_info": {
   "codemirror_mode": {
    "name": "ipython",
    "version": 3
   },
   "file_extension": ".py",
   "mimetype": "text/x-python",
   "name": "python",
   "nbconvert_exporter": "python",
   "pygments_lexer": "ipython3",
   "version": "3.12.1"
  }
 },
 "nbformat": 4,
 "nbformat_minor": 5
}
