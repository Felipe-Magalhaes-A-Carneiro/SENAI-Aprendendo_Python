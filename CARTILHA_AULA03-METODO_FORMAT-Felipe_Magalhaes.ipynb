{
 "cells": [
  {
   "cell_type": "markdown",
   "id": "18ed0f88-2125-44b2-bbdd-aa1404dc7f2e",
   "metadata": {},
   "source": [
    "### Revisão da última aula\n",
    "\n",
    "type() => informa qual o tipo de dado;\n",
    "- Ex.: type(\"Olá\") => irá retornar STRING;\n",
    "- type(8) => irá retornar INT.\n",
    "\n",
    "input() => para fazer entrada de dados no programa. O dado precisa ser armazenado em uma variável\n",
    "    Ex.:"
   ]
  },
  {
   "cell_type": "code",
   "execution_count": 1,
   "id": "fd9bb839-1371-45f2-972e-62f17b9d1cfb",
   "metadata": {},
   "outputs": [
    {
     "name": "stdout",
     "output_type": "stream",
     "text": [
      "Digite o seu nome:  Felipe\n",
      "Digite a sua idade 32\n",
      "Digite o seu CPF:  45336786435\n"
     ]
    },
    {
     "name": "stdout",
     "output_type": "stream",
     "text": [
      "Nome: Felipe \n",
      "Idade: 32 \n",
      "CPF: 45336786435\n"
     ]
    }
   ],
   "source": [
    "nome = input(\"Digite o seu nome: \")\n",
    "idade = input(\"Digite a sua idade\")\n",
    "cpf = input(\"Digite o seu CPF: \")\n",
    "\n",
    "print(\"Nome:\", nome, \"\\nIdade:\", idade, \"\\nCPF:\", cpf)"
   ]
  },
  {
   "cell_type": "markdown",
   "id": "7712f818-1f25-45db-bd2b-da298c5fbfcf",
   "metadata": {},
   "source": [
    "----------------------------"
   ]
  },
  {
   "cell_type": "markdown",
   "id": "f9898482-691d-42fe-aadf-4b25e89c4f82",
   "metadata": {},
   "source": [
    "### Usando método .format()"
   ]
  },
  {
   "cell_type": "code",
   "execution_count": 3,
   "id": "d18b641f-2de4-485c-8d27-b03c8c64fae6",
   "metadata": {},
   "outputs": [
    {
     "name": "stdout",
     "output_type": "stream",
     "text": [
      "Nome: Felipe \n",
      "Idade: 32 \n",
      "CPF: 45336786435 \n"
     ]
    }
   ],
   "source": [
    "print(\"Nome: {} \\nIdade: {} \\nCPF: {} \".format(nome,idade,cpf))"
   ]
  },
  {
   "cell_type": "code",
   "execution_count": 1,
   "id": "dc73ffb4-4616-4822-a0a3-c5c83ac69d5e",
   "metadata": {},
   "outputs": [
    {
     "ename": "NameError",
     "evalue": "name 'carro' is not defined",
     "output_type": "error",
     "traceback": [
      "\u001b[31m---------------------------------------------------------------------------\u001b[39m",
      "\u001b[31mNameError\u001b[39m                                 Traceback (most recent call last)",
      "\u001b[36mCell\u001b[39m\u001b[36m \u001b[39m\u001b[32mIn[1]\u001b[39m\u001b[32m, line 1\u001b[39m\n\u001b[32m----> \u001b[39m\u001b[32m1\u001b[39m \u001b[38;5;28mprint\u001b[39m(\u001b[43mcarro\u001b[49m) \u001b[38;5;66;03m# ERRO: Atenção para a ordem em que o código é feito\u001b[39;00m\n\u001b[32m      2\u001b[39m carro = \u001b[33m\"\u001b[39m\u001b[33mCorsa\u001b[39m\u001b[33m\"\u001b[39m\n",
      "\u001b[31mNameError\u001b[39m: name 'carro' is not defined"
     ]
    }
   ],
   "source": [
    "print(carro) # ERRO: Atenção para a ordem em que o código é feito\n",
    "carro = \"Corsa\""
   ]
  },
  {
   "cell_type": "code",
   "execution_count": 7,
   "id": "510e13eb-5cee-496a-b9ff-10b19ad6f160",
   "metadata": {},
   "outputs": [
    {
     "name": "stdout",
     "output_type": "stream",
     "text": [
      "Corsa\n"
     ]
    }
   ],
   "source": [
    "carro = \"Corsa\"\n",
    "print(carro)"
   ]
  },
  {
   "cell_type": "code",
   "execution_count": 8,
   "id": "5adc239c-2e38-4f2f-976d-dbb6b1fe4e4b",
   "metadata": {},
   "outputs": [
    {
     "data": {
      "text/plain": [
       "['__add__',\n",
       " '__class__',\n",
       " '__contains__',\n",
       " '__delattr__',\n",
       " '__dir__',\n",
       " '__doc__',\n",
       " '__eq__',\n",
       " '__format__',\n",
       " '__ge__',\n",
       " '__getattribute__',\n",
       " '__getitem__',\n",
       " '__getnewargs__',\n",
       " '__getstate__',\n",
       " '__gt__',\n",
       " '__hash__',\n",
       " '__init__',\n",
       " '__init_subclass__',\n",
       " '__iter__',\n",
       " '__le__',\n",
       " '__len__',\n",
       " '__lt__',\n",
       " '__mod__',\n",
       " '__mul__',\n",
       " '__ne__',\n",
       " '__new__',\n",
       " '__reduce__',\n",
       " '__reduce_ex__',\n",
       " '__repr__',\n",
       " '__rmod__',\n",
       " '__rmul__',\n",
       " '__setattr__',\n",
       " '__sizeof__',\n",
       " '__str__',\n",
       " '__subclasshook__',\n",
       " 'capitalize',\n",
       " 'casefold',\n",
       " 'center',\n",
       " 'count',\n",
       " 'encode',\n",
       " 'endswith',\n",
       " 'expandtabs',\n",
       " 'find',\n",
       " 'format',\n",
       " 'format_map',\n",
       " 'index',\n",
       " 'isalnum',\n",
       " 'isalpha',\n",
       " 'isascii',\n",
       " 'isdecimal',\n",
       " 'isdigit',\n",
       " 'isidentifier',\n",
       " 'islower',\n",
       " 'isnumeric',\n",
       " 'isprintable',\n",
       " 'isspace',\n",
       " 'istitle',\n",
       " 'isupper',\n",
       " 'join',\n",
       " 'ljust',\n",
       " 'lower',\n",
       " 'lstrip',\n",
       " 'maketrans',\n",
       " 'partition',\n",
       " 'removeprefix',\n",
       " 'removesuffix',\n",
       " 'replace',\n",
       " 'rfind',\n",
       " 'rindex',\n",
       " 'rjust',\n",
       " 'rpartition',\n",
       " 'rsplit',\n",
       " 'rstrip',\n",
       " 'split',\n",
       " 'splitlines',\n",
       " 'startswith',\n",
       " 'strip',\n",
       " 'swapcase',\n",
       " 'title',\n",
       " 'translate',\n",
       " 'upper',\n",
       " 'zfill']"
      ]
     },
     "execution_count": 8,
     "metadata": {},
     "output_type": "execute_result"
    }
   ],
   "source": [
    "dir(str) # saber os métodos que a STRING possuí"
   ]
  },
  {
   "cell_type": "code",
   "execution_count": 9,
   "id": "7727e02c-8caf-4abc-b949-598b108dee67",
   "metadata": {},
   "outputs": [
    {
     "name": "stdout",
     "output_type": "stream",
     "text": [
      "MOUSE\n"
     ]
    }
   ],
   "source": [
    "# utilizando o método upper\n",
    "produto = \"mouse\"\n",
    "\n",
    "print(produto.upper())"
   ]
  },
  {
   "cell_type": "code",
   "execution_count": 10,
   "id": "d90d7a2c-c589-4a16-a57d-11ed3e303118",
   "metadata": {},
   "outputs": [
    {
     "name": "stdout",
     "output_type": "stream",
     "text": [
      "MOUSE\n"
     ]
    }
   ],
   "source": [
    "produto = \"mouse\".upper() # atribui o método no momento da criação da variavel\n",
    "\n",
    "print(produto)"
   ]
  },
  {
   "cell_type": "code",
   "execution_count": 16,
   "id": "914af443-9398-4b5a-bf6c-71ef5b786ca3",
   "metadata": {},
   "outputs": [
    {
     "name": "stdout",
     "output_type": "stream",
     "text": [
      "O preco é 90.00\n"
     ]
    }
   ],
   "source": [
    "preco = 90\n",
    "\n",
    "print(\"O preco é {:.2f}\" .format(preco)) # uso do ':.2f'"
   ]
  },
  {
   "cell_type": "code",
   "execution_count": 14,
   "id": "19ddea54-0d17-4fc4-8956-47174b45342c",
   "metadata": {},
   "outputs": [
    {
     "name": "stdout",
     "output_type": "stream",
     "text": [
      "O desconto é de 20%\n"
     ]
    }
   ],
   "source": [
    "desconto = 0.2\n",
    "\n",
    "print(\"O desconto é de {:.0%}\".format(desconto)) # uso para porcentagem"
   ]
  },
  {
   "cell_type": "code",
   "execution_count": 17,
   "id": "cf23e90f-0e15-4790-a541-eab47de44a99",
   "metadata": {},
   "outputs": [
    {
     "name": "stdout",
     "output_type": "stream",
     "text": [
      "O numero 80 em binário é 1010000\n"
     ]
    }
   ],
   "source": [
    "numero = 80\n",
    "\n",
    "print(\"O numero 80 em binário é {:b}\".format(numero)) # passando para binário"
   ]
  },
  {
   "cell_type": "code",
   "execution_count": 19,
   "id": "fbc1a230-71fe-4b90-b445-96edf876e538",
   "metadata": {},
   "outputs": [
    {
     "name": "stdout",
     "output_type": "stream",
     "text": [
      "Nome: Felipe \n",
      "Idade:32 \n",
      "CPF: 45336786435\n"
     ]
    }
   ],
   "source": [
    "# usando o f-string\n",
    "\n",
    "print(f\"Nome: {nome} \\nIdade:{idade} \\nCPF: {cpf}\")"
   ]
  },
  {
   "cell_type": "code",
   "execution_count": 23,
   "id": "20943779-1452-47c0-a16b-0ed91f6ad0b7",
   "metadata": {},
   "outputs": [
    {
     "name": "stdout",
     "output_type": "stream",
     "text": [
      " \n",
      "************* BEM-VINDO À NOSSA LOJA *************\n",
      "\n",
      "Nome: Felipe\n",
      "Idade: 32\n",
      "CPF: 45336786435\n",
      "\n",
      "************* VOLTE SEMPRE! *************\n",
      "\n"
     ]
    }
   ],
   "source": [
    "# f-sting com pré-formatada\n",
    "\n",
    "print(f\"\"\" \n",
    "************* BEM-VINDO À NOSSA LOJA *************\n",
    "\n",
    "Nome: {nome}\n",
    "Idade: {idade}\n",
    "CPF: {cpf}\n",
    "\n",
    "************* VOLTE SEMPRE! *************\n",
    "\"\"\")"
   ]
  },
  {
   "cell_type": "markdown",
   "id": "fd6dddcb",
   "metadata": {},
   "source": [
    "# DESAFIO RELÂMPAGO"
   ]
  },
  {
   "cell_type": "code",
   "execution_count": 3,
   "id": "0fe62a72-06ea-42c1-b9e0-a76ed29e7774",
   "metadata": {},
   "outputs": [
    {
     "name": "stdout",
     "output_type": "stream",
     "text": [
      "  \n",
      "********** BEM-VINDO À LOJA ECLESIAL! **********\n",
      "\n",
      "Detalhes do produto cadastrado:\n",
      "Nome do produto: Mouse;\n",
      "Preço: 150.0;\n",
      "Desconto que será aplicado: 40.0%;\n",
      "\n",
      "   O PRODUTO \"MOUSE\" ESTÁ COM O SEU PREÇO ATUALIZADO!    \n",
      "\n",
      "O produto Mouse agora está com uma promoção de 40.0% aplicado. \n",
      "\n",
      "Valor do produto para compra é de R$110.0!\n",
      "\n",
      "********** OBRIGADO PELA VISITA. VOLTE SEMPRE! ********** \n",
      "\n",
      "\n"
     ]
    }
   ],
   "source": [
    "# DESAFIO RELÂMPAGO - Faça um programa que pergunte ao usuário o nome do produto, preço e o desconto.\n",
    "# O programa, então, irá imprimir de forma clara e organizada as informações (Incluindo o preço final com desconto aplicado). \n",
    "# No início, deverá parecer o nome da loja e no final uma saudação, depois deverá uma mensagem de volte sempre.\n",
    "\n",
    "produto = input(\"Digite o nome do produto: \")\n",
    "produto_anuncio = produto.upper()\n",
    "preco = float(input(\"Digite o preço do produto: \"))\n",
    "desconto = float(input(\"Digite o desconto que será aplicado no produto: R$\"))\n",
    "\n",
    "precofinal = str(preco - desconto)\n",
    "\n",
    "print(f\"\"\"  \n",
    "********** BEM-VINDO À LOJA ECLESIAL! **********\n",
    "\n",
    "Detalhes do produto cadastrado:\n",
    "Nome do produto: {produto};\n",
    "Preço: {preco};\n",
    "Desconto que será aplicado: {desconto}%;\n",
    "\n",
    "   O PRODUTO \"{produto_anuncio}\" ESTÁ COM O SEU PREÇO ATUALIZADO!    \n",
    "\n",
    "O produto {produto} agora está com uma promoção de {desconto}% aplicado. \n",
    "\n",
    "Valor do produto para compra é de R${precofinal}!\n",
    "\n",
    "********** OBRIGADO PELA VISITA. VOLTE SEMPRE! ********** \n",
    "\n",
    "\"\"\")"
   ]
  },
  {
   "cell_type": "code",
   "execution_count": null,
   "id": "29beda75-12dd-455f-9451-f2c25e37bc5f",
   "metadata": {},
   "outputs": [],
   "source": []
  }
 ],
 "metadata": {
  "kernelspec": {
   "display_name": "Python 3",
   "language": "python",
   "name": "python3"
  },
  "language_info": {
   "codemirror_mode": {
    "name": "ipython",
    "version": 3
   },
   "file_extension": ".py",
   "mimetype": "text/x-python",
   "name": "python",
   "nbconvert_exporter": "python",
   "pygments_lexer": "ipython3",
   "version": "3.12.1"
  }
 },
 "nbformat": 4,
 "nbformat_minor": 5
}
