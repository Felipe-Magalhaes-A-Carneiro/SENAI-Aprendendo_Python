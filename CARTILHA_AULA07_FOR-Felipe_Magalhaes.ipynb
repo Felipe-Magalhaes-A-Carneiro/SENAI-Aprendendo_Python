{
 "cells": [
  {
   "cell_type": "markdown",
   "id": "2d27d871",
   "metadata": {},
   "source": [
    "# Loop - FOR"
   ]
  },
  {
   "cell_type": "code",
   "execution_count": null,
   "id": "4dbd0d77-7d5f-4b7b-a2c3-daa456d89d66",
   "metadata": {},
   "outputs": [
    {
     "name": "stdout",
     "output_type": "stream",
     "text": [
      "Olá, mundo\n",
      "Olá, mundo\n",
      "Olá, mundo\n",
      "Olá, mundo\n",
      "Olá, mundo\n"
     ]
    }
   ],
   "source": [
    "# FOR serve para 'fazer algo tantas x vezes'. Ele é também um loop\n",
    "\n",
    "# exemplo: fazer 5 prints ola mundo, sem o for\n",
    "\n",
    "print(\"Olá, mundo\")\n",
    "print(\"Olá, mundo\")\n",
    "print(\"Olá, mundo\")\n",
    "print(\"Olá, mundo\")\n",
    "print(\"Olá, mundo\")"
   ]
  },
  {
   "cell_type": "code",
   "execution_count": null,
   "id": "0a2dc8bd-d6d0-41de-99d8-cd704c1be809",
   "metadata": {},
   "outputs": [
    {
     "name": "stdout",
     "output_type": "stream",
     "text": [
      "Olá, mundo\n",
      "Olá, mundo\n",
      "Olá, mundo\n",
      "Olá, mundo\n",
      "Olá, mundo\n",
      "Eu estou fora do for, eu vou imprimir só uma vez...\n"
     ]
    }
   ],
   "source": [
    "# Usando for junto com a função 'range()'\n",
    "\n",
    "for i in range(5):\n",
    "    print(\"Olá, mundo\")\n",
    "print(\"Eu estou fora do for, eu vou imprimir só uma vez...\") # atenção para identação. Como ele está fora da identação, não pertence ao for"
   ]
  },
  {
   "cell_type": "code",
   "execution_count": 5,
   "id": "3975ddd9-4405-401f-920c-a19940f0a390",
   "metadata": {},
   "outputs": [
    {
     "name": "stdout",
     "output_type": "stream",
     "text": [
      "0\n",
      "1\n",
      "2\n",
      "3\n",
      "4\n"
     ]
    }
   ],
   "source": [
    "# o i neste caso é o nosso 'iterador', a cada 'giro do for, ele vai incrementar o valor\n",
    "for i in range(5):\n",
    "    print(i)"
   ]
  },
  {
   "cell_type": "code",
   "execution_count": 6,
   "id": "23cb8f50-8d0e-4c48-9905-a3657c70be57",
   "metadata": {},
   "outputs": [
    {
     "name": "stdout",
     "output_type": "stream",
     "text": [
      "O Carro: uno\n",
      "O Carro: gol\n",
      "O Carro: land rover\n",
      "O Carro: fusca\n",
      "O Carro: kombi\n"
     ]
    }
   ],
   "source": [
    "carros = [\"uno\", \"gol\", \"land rover\", \"fusca\", \"kombi\"]\n",
    "\n",
    "# imprimir cada carro sem o for\n",
    "print(f\"O Carro: {carros[0]}\")\n",
    "print(f\"O Carro: {carros[1]}\")\n",
    "print(f\"O Carro: {carros[2]}\")\n",
    "print(f\"O Carro: {carros[3]}\")\n",
    "print(f\"O Carro: {carros[4]}\")"
   ]
  },
  {
   "cell_type": "code",
   "execution_count": 7,
   "id": "095b58e8-521a-453f-beda-acc65aa40fbe",
   "metadata": {},
   "outputs": [
    {
     "name": "stdout",
     "output_type": "stream",
     "text": [
      "O Carro: uno\n",
      "O Carro: gol\n",
      "O Carro: land rover\n",
      "O Carro: fusca\n",
      "O Carro: kombi\n"
     ]
    }
   ],
   "source": [
    "# imprimir os carros usando o for\n",
    "\n",
    "for i in range(5):\n",
    "    print(f\"O Carro: {carros[i]}\")\n",
    "    if i == 3 :\n",
    "        break # use o break para interromper o loop"
   ]
  },
  {
   "cell_type": "markdown",
   "id": "3c38c25c",
   "metadata": {},
   "source": [
    "# Desafio relampago:\n",
    "\n",
    "crie uma variavel com um numero secreto\n",
    "de 1 a 10\n",
    "faça o loop for onde irá perguntar para o usuário o palpite e dizer se acertou ou errou\n",
    "\n",
    "Se ele acertar, você pode interromper o loop com o break\n",
    "ele terá 6 tentativas"
   ]
  },
  {
   "cell_type": "code",
   "execution_count": null,
   "id": "99ff1035-b664-4825-bd4d-9a3a1c895aca",
   "metadata": {},
   "outputs": [
    {
     "name": "stdout",
     "output_type": "stream",
     "text": [
      "Escolha o número secreto entre 1 e 10. Você tem 6 tentativas!\n",
      "VOCÊ ERROU! O número secreto NÃO é '1'. \n",
      "Escolha outro número... \n",
      " Tentativa número 1\n",
      "----\n",
      "VOCÊ ERROU! O número secreto NÃO é '2'. \n",
      "Escolha outro número... \n",
      " Tentativa número 2\n",
      "----\n",
      "VOCÊ ERROU! O número secreto NÃO é '6'. \n",
      "Escolha outro número... \n",
      " Tentativa número 3\n",
      "----\n",
      "VOCÊ ACERTOU! O número secreto é '7' !\n"
     ]
    }
   ],
   "source": [
    "num_secreto = 7\n",
    "\n",
    "print(\"Escolha o número secreto entre 1 e 10. Você tem 6 tentativas!\")\n",
    "\n",
    "for i in range(6):\n",
    "    numero = int(input())\n",
    "\n",
    "    if (numero == num_secreto):\n",
    "        print(f\"VOCÊ ACERTOU! O número secreto é '{num_secreto}' !\")\n",
    "        break\n",
    "    else:\n",
    "        print(f\"Errou! O número secreto NÃO é '{numero}'. Escolha outro número... \\nTentativa número {i + 1}\")\n",
    "        print(\"----\")\n",
    "\n",
    "        if (i == 5):\n",
    "            print(f\"Suas tentativas acabaram!\")"
   ]
  },
  {
   "cell_type": "code",
   "execution_count": null,
   "id": "ae75c6d1",
   "metadata": {},
   "outputs": [],
   "source": []
  }
 ],
 "metadata": {
  "kernelspec": {
   "display_name": "Python 3",
   "language": "python",
   "name": "python3"
  },
  "language_info": {
   "codemirror_mode": {
    "name": "ipython",
    "version": 3
   },
   "file_extension": ".py",
   "mimetype": "text/x-python",
   "name": "python",
   "nbconvert_exporter": "python",
   "pygments_lexer": "ipython3",
   "version": "3.12.1"
  }
 },
 "nbformat": 4,
 "nbformat_minor": 5
}
